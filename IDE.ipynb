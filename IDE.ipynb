{
  "nbformat": 4,
  "nbformat_minor": 0,
  "metadata": {
    "colab": {
      "provenance": []
    },
    "kernelspec": {
      "name": "python3",
      "display_name": "Python 3"
    },
    "language_info": {
      "name": "python"
    }
  },
  "cells": [
    {
      "cell_type": "markdown",
      "source": [
        "##Задача 1. Сессия\n",
        "Внутри папки 02_sessionэтой папки создайте питоновский файл main.py и решите здесь задачу из четвёртого урока данного модуля. Вот текст самой задачи:\n",
        "\n",
        "Для сдачи зачёта студент Пётр написал программу, которая по координатам двух точек определяет уравнение прямой, проходящей через эти две точки в виде y = k*x +b, где k и b - числа, означающие угловой коэффициент и вертикальное смещение прямой. Вот текст этой программы:\n",
        "\n",
        "```python\n",
        "print(\"Введите первую точку\")\n",
        "x1 = float(input('X: '))\n",
        "y1 = float(input('Y: '))\n",
        "print(\"\\nВведите вторую точку\")\n",
        "x2 = float(input('X: '))\n",
        "y2 = float(input('Y: '))\n",
        "\n",
        "x_diff = x1 - x2\n",
        "y_diff = y1 - y2\n",
        "k = y_diff / x_diff\n",
        "b = y2 - k * x2\n",
        "\n",
        "print(\"Уравнение прямой, проходящей через эти точки:\")\n",
        "print(\"y = \", k, \" * x + \", b)\n",
        "```\n",
        "\n",
        "####Пример работы программы (содержимое консоли):\n",
        "````\n",
        "Введите первую точку\n",
        "X: 10\n",
        "Y: 20\n",
        "\n",
        "Введите вторую точку\n",
        "X: 15\n",
        "Y: 25\n",
        "Уравнение прямой, проходящей через эти точки:\n",
        "y =  1.0  * x +  10.0\n",
        "````\n",
        "Однако, вечером накануне сдачи Пётр обнаружил, что программа не всегда работает правильно. Например, она не выдаёт корректного уравнения, если координаты первой точки равны (10, 20), а координаты второй точки равны (10, 45). Отчаявшись и предвидя бессонную ночь, Пётр обратился к вам за помощью. Помогите ему найти и исправить ошибку в коде с помощью брейкпоинтов, чтобы уравнение прямой составлялось правильно во всех случаях.\n"
      ],
      "metadata": {
        "id": "A8hQ420C3TLz"
      }
    },
    {
      "cell_type": "markdown",
      "source": [
        "# Решение:"
      ],
      "metadata": {
        "id": "l3ysmnb44q0U"
      }
    },
    {
      "cell_type": "code",
      "source": [
        "print(\"Введите первую точку\")\n",
        "x1 = float(input('X: '))\n",
        "y1 = float(input('Y: '))\n",
        "print(\"\\nВведите вторую точку\")\n",
        "x2 = float(input('X: '))\n",
        "y2 = float(input('Y: '))\n",
        "if x1 != x2 and y1 != y2:\n",
        "    x_diff = x1 - x2\n",
        "    y_diff = y1 - y2\n",
        "    k = y_diff / x_diff\n",
        "    b = y2 - k * x2\n",
        "\n",
        "    print(\"Уравнение прямой, проходящей через эти точки:\")\n",
        "    print(\"y = \", k, \" * x + \", b)\n",
        "else:\n",
        "    print('Ошибка невозможно составить уравнение прямой для этих координат.')\n"
      ],
      "metadata": {
        "colab": {
          "base_uri": "https://localhost:8080/"
        },
        "id": "_6bDZx943YKI",
        "outputId": "d6da3d0f-64d9-498b-8a38-572785ce5eca"
      },
      "execution_count": 1,
      "outputs": [
        {
          "output_type": "stream",
          "name": "stdout",
          "text": [
            "Введите первую точку\n",
            "X: 10\n",
            "Y: 20\n",
            "\n",
            "Введите вторую точку\n",
            "X: 30\n",
            "Y: 40\n",
            "Уравнение прямой, проходящей через эти точки:\n",
            "y =  1.0  * x +  10.0\n"
          ]
        }
      ]
    },
    {
      "cell_type": "markdown",
      "source": [
        "##Задача 2. Сумма и разность\n",
        "Напишите две функции: первая принимает одно целое положительное число N и находит сумму всех цифр этого числа; вторая - принимает число N и считает количество цифр в числе. В ответе выводится разность суммы чисел и количества\n"
      ],
      "metadata": {
        "id": "KLSg36_w35UF"
      }
    },
    {
      "cell_type": "markdown",
      "source": [
        "# Решение:"
      ],
      "metadata": {
        "id": "2uU86-e64liU"
      }
    },
    {
      "cell_type": "code",
      "source": [
        "number = input('Введите число: ')\n",
        "\n",
        "\n",
        "def summ(number):\n",
        "    summ = 0\n",
        "    for counter in number:\n",
        "        summ += int(counter)\n",
        "    return summ\n",
        "\n",
        "\n",
        "def quantity(number):\n",
        "    quantity = 0\n",
        "    for counter in number:\n",
        "        quantity += 1\n",
        "    return quantity\n",
        "\n",
        "\n",
        "summ = summ(number)\n",
        "quantity = quantity(number)\n",
        "print('Сумма цифр:', summ)\n",
        "print('Кол-во цифр в числе:', quantity)\n",
        "print('Разность суммы и кол-ва цифр:', abs(summ - quantity))"
      ],
      "metadata": {
        "colab": {
          "base_uri": "https://localhost:8080/"
        },
        "id": "o-UFv7mY4BsD",
        "outputId": "2a844f59-f525-427c-9d38-eca6a13d0ec9"
      },
      "execution_count": 2,
      "outputs": [
        {
          "output_type": "stream",
          "name": "stdout",
          "text": [
            "Введите число: 500\n",
            "Сумма цифр: 5\n",
            "Кол-во цифр в числе: 3\n",
            "Разность суммы и кол-ва цифр: 2\n"
          ]
        }
      ]
    },
    {
      "cell_type": "markdown",
      "source": [
        "##Задача 3. Число наоборот 3\n",
        "Пользователь вводит два вещественных числа - N и K. Напишите программу, которая отдельно заменяет сначала целую часть на число, которое получается из исходного записью его цифр в обратном порядке, затем то же самое делает с дробной частью. После этого числа складываются и сумма выводится на экран.\n"
      ],
      "metadata": {
        "id": "Y8EPlgD_4QBd"
      }
    },
    {
      "cell_type": "markdown",
      "source": [
        "# Решение:"
      ],
      "metadata": {
        "id": "MaerdI864uhh"
      }
    },
    {
      "cell_type": "code",
      "source": [
        "number_1 = input('Введите первое число: ')\n",
        "number_2 = input('Введите второе число: ')\n",
        "\n",
        "\n",
        "def versa(number_1):\n",
        "    number_3 = ''\n",
        "    number_3_1 = ''\n",
        "    number_5 = 0\n",
        "    for counter in number_1:\n",
        "        if counter != '.' and number_5 == 0:\n",
        "            number_3 = counter + number_3\n",
        "        elif counter == '.':\n",
        "            number_3 += '.'\n",
        "            number_5 = 1\n",
        "        else:\n",
        "            number_3_1 = counter + number_3_1\n",
        "    number_3 += number_3_1\n",
        "    return number_3\n",
        "\n",
        "\n",
        "number_3 = versa(number_1)\n",
        "number_4 = versa(number_2)\n",
        "print('Первое число наоборот:', number_3)\n",
        "print('Второе число наоборот:', number_4)\n",
        "print('Сумма:', float(number_3) + float(number_4))\n"
      ],
      "metadata": {
        "colab": {
          "base_uri": "https://localhost:8080/"
        },
        "id": "FcgppYKz4TrV",
        "outputId": "8b4dd903-64fc-4c1e-a957-2470d0b109f1"
      },
      "execution_count": 3,
      "outputs": [
        {
          "output_type": "stream",
          "name": "stdout",
          "text": [
            "Введите первое число: 102.12\n",
            "Введите второе число: 123.34\n",
            "Первое число наоборот: 201.21\n",
            "Второе число наоборот: 321.43\n",
            "Сумма: 522.64\n"
          ]
        }
      ]
    },
    {
      "cell_type": "markdown",
      "source": [
        "##Задача 4. Наименьший делитель\n",
        "Дано натуральное число n>1. Напишите функцию, которая находит его наименьший делитель, отличный от 1."
      ],
      "metadata": {
        "id": "E92u9hNg5Mzk"
      }
    },
    {
      "cell_type": "markdown",
      "source": [
        "# Решение:"
      ],
      "metadata": {
        "id": "J33h_pRn5ZeQ"
      }
    },
    {
      "cell_type": "code",
      "source": [
        "number = int(input('Введите число: '))\n",
        "counter = 2\n",
        "\n",
        "\n",
        "def minn(number, counter):\n",
        "    while number % counter != 0:\n",
        "        counter += 1\n",
        "    return counter\n",
        "\n",
        "\n",
        "print('Наименьший делитель, отличный от единицы:', minn(number, counter))"
      ],
      "metadata": {
        "colab": {
          "base_uri": "https://localhost:8080/"
        },
        "id": "wIM6XZYE5aGF",
        "outputId": "909fb7da-091b-4ea3-a2e0-d5a14a7f5689"
      },
      "execution_count": 4,
      "outputs": [
        {
          "output_type": "stream",
          "name": "stdout",
          "text": [
            "Введите число: 6\n",
            "Наименьший делитель, отличный от единицы: 2\n"
          ]
        }
      ]
    },
    {
      "cell_type": "markdown",
      "source": [
        "##Задача 5. Монетка 2\n",
        "Практиканту снова дали задание найти старую металлическую монетку по заданным координатам. Но теперь металлоискатель сканирует местность вокруг пользователя в виде круга и при обнаружении/отсутствии металла прибор отображает на экране соответствующее сообщение.\n",
        "\n",
        "Даны два действительных числа x и y и радиус r. Напишите функцию, которая проверяет, лежит ли точка с координатами (x,y) внутри круга с радиусом r (включая его границу). Координаты центра круга - (0, 0). Если точка принадлежит кругу, выведите сообщение “Монетка где-то рядом”, иначе выведите сообщение “Монетки в области нет”. \n"
      ],
      "metadata": {
        "id": "QEAqvcC-5sqP"
      }
    },
    {
      "cell_type": "markdown",
      "source": [
        "# Решение:"
      ],
      "metadata": {
        "id": "UP7ZDXS35w2t"
      }
    },
    {
      "cell_type": "code",
      "source": [
        "def money(number_1, number_2, radius):\n",
        "    if (abs(number_1) ** 2 + abs(number_2) ** 2) ** 0.5 <= radius:\n",
        "        print('Монетка где-то рядом')\n",
        "    else:\n",
        "        print('Монетки в области нет')\n",
        "\n",
        "\n",
        "print('Введите координаты монетки:')\n",
        "number_1 = float(input('X: '))\n",
        "number_2 = float(input('Y: '))\n",
        "radius = float(input('Введите радиус: '))\n",
        "\n",
        "money(number_1, number_2, radius)"
      ],
      "metadata": {
        "colab": {
          "base_uri": "https://localhost:8080/"
        },
        "id": "4fn8oJYF5u2_",
        "outputId": "91ba0fd4-49bd-4849-ba40-4e9d1bba6303"
      },
      "execution_count": 5,
      "outputs": [
        {
          "output_type": "stream",
          "name": "stdout",
          "text": [
            "Введите координаты монетки:\n",
            "X: 0.5\n",
            "Y: 0.5\n",
            "Введите радиус: 1\n",
            "Монетка где-то рядом\n"
          ]
        }
      ]
    },
    {
      "cell_type": "markdown",
      "source": [
        "##Задача 6. Года\n",
        "\n",
        "Недавно Костя прочитал какую-то научно-фантастическую книжку, где самые страшные события случались только в определённые года, а именно - когда в году были ровно три одинаковые цифры. Косте стало интересно какие года были или будут “особенными” в определённом промежутке.\n",
        "\n",
        "Напишите программу, в которой у пользователя запрашивается два четырёхзначных числа A и B. Затем выведите в порядке возрастания все четырёхзначные числа в интервале от A до B, запись которых содержит ровно три одинаковые цифры.\n"
      ],
      "metadata": {
        "id": "ggi5tFJh6A2R"
      }
    },
    {
      "cell_type": "markdown",
      "source": [
        "# Решение:"
      ],
      "metadata": {
        "id": "xXwais2F6FrN"
      }
    },
    {
      "cell_type": "code",
      "source": [
        "number = int(input('Введите первый год: '))\n",
        "number_5 = int(input('Введите второй год: '))\n",
        "print('Годы от', number, 'до', number_5, 'с тремя одинаковыми цифрами: ')\n",
        "for counter in range(number, number_5 + 1):\n",
        "    number_1 = counter % 10\n",
        "    number_2 = counter // 10 % 10\n",
        "    number_3 = counter // 100 % 10\n",
        "    number_4 = counter // 1000 % 10\n",
        "    if number_1 == number_2 == number_3:\n",
        "        print(counter)\n",
        "    elif number_1 == number_2 == number_4:\n",
        "        print(counter)\n",
        "    elif number_1 == number_4 == number_3:\n",
        "        print(counter)\n",
        "    elif number_4 == number_2 == number_3:\n",
        "        print(counter)\n"
      ],
      "metadata": {
        "colab": {
          "base_uri": "https://localhost:8080/"
        },
        "id": "cnb2I6zV6GR9",
        "outputId": "09b4069f-d721-4159-bf5c-778615e9e28c"
      },
      "execution_count": 6,
      "outputs": [
        {
          "output_type": "stream",
          "name": "stdout",
          "text": [
            "Введите первый год: 1900\n",
            "Введите второй год: 2100\n",
            "Годы от 1900 до 2100 с тремя одинаковыми цифрами: \n",
            "1911\n",
            "1999\n",
            "2000\n",
            "2022\n"
          ]
        }
      ]
    }
  ]
}