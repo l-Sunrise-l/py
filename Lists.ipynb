{
  "nbformat": 4,
  "nbformat_minor": 0,
  "metadata": {
    "colab": {
      "provenance": []
    },
    "kernelspec": {
      "name": "python3",
      "display_name": "Python 3"
    },
    "language_info": {
      "name": "python"
    }
  },
  "cells": [
    {
      "cell_type": "markdown",
      "source": [
        "##Задача 1. Генерация списка\n",
        "Дано целое число N. Напишите программу, которая формирует список из нечетных чисел от 1 до N."
      ],
      "metadata": {
        "id": "fKHkBIri93Ji"
      }
    },
    {
      "cell_type": "markdown",
      "source": [
        "# Решение:"
      ],
      "metadata": {
        "id": "xXwais2F6FrN"
      }
    },
    {
      "cell_type": "code",
      "source": [
        "number = int(input('Введите число: '))\n",
        "list = []\n",
        "for counter in range(1, number + 1, 2):\n",
        "    list.append(counter)\n",
        "print(list)"
      ],
      "metadata": {
        "colab": {
          "base_uri": "https://localhost:8080/"
        },
        "id": "6vZB8tN_9-pZ",
        "outputId": "e7457092-db59-40cc-aaa6-c3b586269a69"
      },
      "execution_count": 1,
      "outputs": [
        {
          "output_type": "stream",
          "name": "stdout",
          "text": [
            "Введите число: 10\n",
            "[1, 3, 5, 7, 9]\n"
          ]
        }
      ]
    },
    {
      "cell_type": "markdown",
      "source": [
        "##Задача 2. Турнир\n",
        "Для турнира по волейболу необходимо сформировать турнирнирную сетку из 8 человек на 2 дня. На первый день из списка участников решили выбрать каждого второго.\n",
        "\n",
        "Дан список из 8 имён: Артемий, Борис, Влад, Гоша, Дима, Евгений, Женя, Захар. Напишите программу, которая выводит элементы списка только с чётными индексами.\n",
        "\n"
      ],
      "metadata": {
        "id": "beI_OR-M-Dfs"
      }
    },
    {
      "cell_type": "markdown",
      "source": [
        "# Решение:"
      ],
      "metadata": {
        "id": "3sUUKoE--IaC"
      }
    },
    {
      "cell_type": "code",
      "source": [
        "list = ['Артемий', 'Борис', 'Влад', 'Гоша', 'Дима', 'Евгений', 'Женя', 'Захар']\n",
        "for counter in range(0, len(list), 2):\n",
        "    print(list[counter])\n"
      ],
      "metadata": {
        "colab": {
          "base_uri": "https://localhost:8080/"
        },
        "id": "UGrnNl0o-Jix",
        "outputId": "80870e81-6272-4b9a-cab2-b0800c7840d1"
      },
      "execution_count": 2,
      "outputs": [
        {
          "output_type": "stream",
          "name": "stdout",
          "text": [
            "Артемий\n",
            "Влад\n",
            "Дима\n",
            "Женя\n"
          ]
        }
      ]
    },
    {
      "cell_type": "markdown",
      "source": [
        "##Задача 3. Клетки\n",
        "В научной лаборатории выводят тестируют новые виды клеток. Есть список из N этих клеток, где элемент списка - это показатель эффективности, а индекс списка - это ранг клетки. Ученые отбирают клетки по следующему принципу: если эффективность клетки меньше её ранга, то это клетка не подходит\n",
        "\n",
        "Напишите программу, которая выводит на экран те элементы списка, значения которых меньше их индекса\n"
      ],
      "metadata": {
        "id": "dq9vMiFT-SPI"
      }
    },
    {
      "cell_type": "markdown",
      "source": [
        "# Решение:"
      ],
      "metadata": {
        "id": "Ggg0tcBU-YQF"
      }
    },
    {
      "cell_type": "code",
      "source": [
        "listt = [3, 0, 6, 2, 10]\n",
        "Unsuitable_values = []\n",
        "for counter, element in enumerate(listt, start=1):\n",
        "    print('Эффективность', counter, 'клетки:', element)\n",
        "    if counter > element:\n",
        "        Unsuitable_values.append(element)\n",
        "print('\\nНеподходящие значения: ', end='')\n",
        "for counter_1 in Unsuitable_values:\n",
        "    print(counter_1, '', end='')\n"
      ],
      "metadata": {
        "id": "5szkzmhW-VDf"
      },
      "execution_count": null,
      "outputs": []
    },
    {
      "cell_type": "markdown",
      "source": [
        "##Задача 4. Видеокарты\n",
        "В базе одного магазина электроники есть список видеокарт компании NVIDIA разных поколений. Для удобства в списке вместо полных названий хранятся только числа, они обозначают модель и поколение видеокарты. Недавно компания выпустила новую линейку видеокарт, и в итоге самые старшие поколения разобрали за пару дней.\n",
        "\n",
        "Напишите программу, которая удаляет из этого списка видеокарт наибольшие элементы.\n"
      ],
      "metadata": {
        "id": "3Rr2cxIR-Y6u"
      }
    },
    {
      "cell_type": "markdown",
      "source": [
        "# Решение:"
      ],
      "metadata": {
        "id": "Q2pxEwF--cWG"
      }
    },
    {
      "cell_type": "code",
      "source": [
        "listt = [3070, 2060, 3090, 3070, 3090]\n",
        "new_list = []\n",
        "print('Кол-во видеокарт:', len(listt))\n",
        "maxx = 0\n",
        "for counter, element in enumerate(listt, start=1):\n",
        "    print(counter, 'Видеокарта:', element)\n",
        "    if maxx < element:\n",
        "        maxx = element\n",
        "\n",
        "for counter in listt:\n",
        "    if counter != maxx:\n",
        "        new_list.append(counter)\n",
        "print('\\nСтарый список видеокарт:', listt)\n",
        "print('Новый список видеокарт:', new_list)"
      ],
      "metadata": {
        "colab": {
          "base_uri": "https://localhost:8080/"
        },
        "id": "JzVFe8We-gLH",
        "outputId": "b811f2ef-b070-49e2-b81e-59cd43efff27"
      },
      "execution_count": 3,
      "outputs": [
        {
          "output_type": "stream",
          "name": "stdout",
          "text": [
            "Кол-во видеокарт: 5\n",
            "1 Видеокарта: 3070\n",
            "2 Видеокарта: 2060\n",
            "3 Видеокарта: 3090\n",
            "4 Видеокарта: 3070\n",
            "5 Видеокарта: 3090\n",
            "\n",
            "Старый список видеокарт: [3070, 2060, 3090, 3070, 3090]\n",
            "Новый список видеокарт: [3070, 2060, 3070]\n"
          ]
        }
      ]
    },
    {
      "cell_type": "markdown",
      "source": [
        "##Задача 5. Кино\n",
        "Илья зашёл на на один любительский кино-сайт, где пользователи пишут рецензии на фильмы. Вот, кстати, список этих фильмов. \n",
        "\n",
        "````python\n",
        "films = ['Крепкий орешек', 'Назад в будущее', 'Таксист', \n",
        "         'Леон', 'Богемская рапсодия', 'Город грехов', \n",
        "         'Мементо', 'Отступники', 'Деревня']\n",
        "````\n",
        "\n",
        "Илья на сайте в первый раз, и он хочет зарегистрироваться и сразу добавить некоторые фильмы в список своих любимых, чтобы потом почитать рецензии на них. Напишите программу, в которой пользователь вводит фильм и если он есть в списке, то он добавляется в список любимых. Если его нет, то выводится ошибка. В конце выведите весь список любимых фильмов.\n"
      ],
      "metadata": {
        "id": "2hqeM011-pZp"
      }
    },
    {
      "cell_type": "markdown",
      "source": [
        "# Решение:"
      ],
      "metadata": {
        "id": "0GQBYm5i-yEA"
      }
    },
    {
      "cell_type": "code",
      "source": [
        "films = ['Крепкий орешек', 'Назад в будущее', 'Таксист',\n",
        "         'Леон', 'Богемская рапсодия', 'Город грехов',\n",
        "         'Мементо', 'Отступники', 'Деревня']\n",
        "\n",
        "favourite_films = []\n",
        "film = input('Введите фильм если вы введете 0 , выведиться список ваших любимых фильмов: ')\n",
        "while film != '0':\n",
        "    mistake = 0\n",
        "    for counter in films:\n",
        "        if counter == film:\n",
        "            favourite_films.append(film)\n",
        "            mistake = 1  # В таком случае, лучше использовать переменную флаг со значениями True и False.\n",
        "            break\n",
        "    if mistake == 0:\n",
        "        print('Ошибка')\n",
        "    film = input('Введите фильм: ')\n",
        "print('Список любимых фильмов:', favourite_films)\n"
      ],
      "metadata": {
        "colab": {
          "base_uri": "https://localhost:8080/"
        },
        "id": "-NSZDP_9-ykL",
        "outputId": "4eacae1e-ca0b-410c-c6c6-4170cb5da253"
      },
      "execution_count": 4,
      "outputs": [
        {
          "output_type": "stream",
          "name": "stdout",
          "text": [
            "Введите фильм если вы введете 0 , выведиться список ваших любимых фильмов: Отступники\n",
            "Введите фильм: Крепкий орешек\n",
            "Введите фильм: Защитники\n",
            "Ошибка\n",
            "Введите фильм: Город грехов\n",
            "Введите фильм: 0\n",
            "Список любимых фильмов: ['Отступники', 'Крепкий орешек', 'Город грехов']\n"
          ]
        }
      ]
    },
    {
      "cell_type": "markdown",
      "source": [
        "##Задача 6. Анализ слова\n",
        "Мы пишем программу-анализатор слов, чтобы потом, возможно, использовать её для тренировки нейросети, которая будет генерировать нужный нам текст.\n",
        "\n",
        "Пользователь вводит слово. Напишите программу, которая считает количество уникальных букв в слове. Уникальные буквы это те, которые встречаются всего один раз.\n"
      ],
      "metadata": {
        "id": "GxtGE9s0_GVz"
      }
    },
    {
      "cell_type": "markdown",
      "source": [
        "# Решение:"
      ],
      "metadata": {
        "id": "XSeAibxM_Jca"
      }
    },
    {
      "cell_type": "code",
      "source": [
        "word = input('Введите слово: ')\n",
        "list = []\n",
        "counter_4 = 0\n",
        "for counter in word:\n",
        "    list.append(counter)\n",
        "for counter_1 in list:\n",
        "    counter_3 = 0\n",
        "    for counter_2 in list:\n",
        "        if counter_1 == counter_2:\n",
        "            counter_3 += 1\n",
        "    if counter_3 == 1:\n",
        "        counter_4 += 1\n",
        "print('Кол-во уникальных букв:', counter_4)"
      ],
      "metadata": {
        "colab": {
          "base_uri": "https://localhost:8080/"
        },
        "id": "7w_IoDl0_KUd",
        "outputId": "89d733a0-ce84-4498-ff76-3162a831d6c0"
      },
      "execution_count": 6,
      "outputs": [
        {
          "output_type": "stream",
          "name": "stdout",
          "text": [
            "Введите слово: лава\n",
            "Кол-во уникальных букв: 2\n"
          ]
        }
      ]
    },
    {
      "cell_type": "markdown",
      "source": [
        "##Задача 7. Контейнеры\n",
        "Контейнеры на складе лежат в ряд в порядке невозрастания своей массы (в килограммах). На склад привезли ещё один контейнер, который также нужно положить на определённое место.\n",
        "\n",
        "Напишите программу, которая получает на вход невозрастающую последовательность натуральных чисел, означающих массу каждого контейнера в ряду. После этого вводится число X – масса нового контейнера. Программа выводит номер, под которым будет лежать новый контейнер. Если в ряде есть контейнеры с одинаковой массой, таким же, как у нового, то его нужно положить после них.\n",
        "Обеспечьте контроль ввода: все числа целые и не превышают 200."
      ],
      "metadata": {
        "id": "Vl3yQ5V__WaY"
      }
    },
    {
      "cell_type": "markdown",
      "source": [
        "# Решение:"
      ],
      "metadata": {
        "id": "sIbLw8ag_cpz"
      }
    },
    {
      "cell_type": "code",
      "source": [
        "listt = []\n",
        "number_1 = int(input('Введите кол-во контейнеров: '))\n",
        "for counter in range(number_1):\n",
        "    while True:\n",
        "        number_2 = int(input('Введите вес контейнера: '))\n",
        "        if number_2 > 0:  # Контейнер должен быть меньше 200! =)\n",
        "            break\n",
        "        else:\n",
        "            print('Ошибка')\n",
        "    listt.append(number_2)\n",
        "while True:\n",
        "    number = int(input('Введите вес нового контейнера: '))\n",
        "    if number > 0:\n",
        "        break\n",
        "    else:\n",
        "        print('Ошибка')\n",
        "for counter in range(len(listt)):\n",
        "    if listt[counter] < number:\n",
        "        print('Номер, куда встанет новый контейнер:', counter + 1)\n",
        "        break\n",
        "if number < listt[-1]:\n",
        "    print('Номер, куда встанет новый контейнер:', len(listt) + 1)\n"
      ],
      "metadata": {
        "colab": {
          "base_uri": "https://localhost:8080/"
        },
        "id": "z1B0D5Iv_dQL",
        "outputId": "f07af04d-8690-4a2d-c877-40b2cfd8ef3d"
      },
      "execution_count": 8,
      "outputs": [
        {
          "output_type": "stream",
          "name": "stdout",
          "text": [
            "Введите кол-во контейнеров: 8\n",
            "Введите вес контейнера: 165\n",
            "Введите вес контейнера: 163\n",
            "Введите вес контейнера: 160\n",
            "Введите вес контейнера: 157\n",
            "Введите вес контейнера: 157\n",
            "Введите вес контейнера: 154\n",
            "Введите вес контейнера: 151\n",
            "Введите вес контейнера: 150\n",
            "Введите вес нового контейнера: 162\n",
            "Номер, куда встанет новый контейнер: 3\n"
          ]
        }
      ]
    },
    {
      "cell_type": "markdown",
      "source": [
        "##Задача 8. Бегущие цифры\n",
        "Вы пишете программу для маленького табло, в котором циклически повторяется один и тот же текст или числа. Прямо как в каком-нибудь метро, автобусах или трамваях.\n",
        "\n",
        "Дан список из N элементов и целое число K. Напишите программу, которая циклически сдвигает элементы списка вправо на K позиций. Используйте минимально возможное количество операций присваивания.\n"
      ],
      "metadata": {
        "id": "VqoBMFWD_2M_"
      }
    },
    {
      "cell_type": "markdown",
      "source": [
        "# Решение:"
      ],
      "metadata": {
        "id": "sCmpEkXm_6en"
      }
    },
    {
      "cell_type": "code",
      "source": [
        "listt = [1, 4, -3, 0, 10]\n",
        "number = int(input('Сдвиг: '))\n",
        "for counter in range(number):\n",
        "    for counter_1 in range(len(listt) - 1):\n",
        "        listt[-counter_1], listt[-counter_1 - 1] = listt[-counter_1 - 1], listt[-counter_1]\n",
        "print(listt)\n"
      ],
      "metadata": {
        "colab": {
          "base_uri": "https://localhost:8080/"
        },
        "id": "4PqRHgh4_62C",
        "outputId": "8fec5591-e184-44b9-f46b-5aa3313d4d5a"
      },
      "execution_count": 9,
      "outputs": [
        {
          "output_type": "stream",
          "name": "stdout",
          "text": [
            "Сдвиг: 1\n",
            "[10, 1, 4, -3, 0]\n"
          ]
        }
      ]
    },
    {
      "cell_type": "markdown",
      "source": [
        "##Задача 9. Анализ слова 2\n",
        "Мы продолжаем писать программы-анализаторы для текста и теперь от нас требуется реализовать код, с помощью которого можно будет определять, является ли словом палиндромом - это слово, которое одинаково читается слева направо и справа налево. \n",
        "Напишите такую программу.\n"
      ],
      "metadata": {
        "id": "WdU0uuqVAC11"
      }
    },
    {
      "cell_type": "markdown",
      "source": [
        "# Решение:"
      ],
      "metadata": {
        "id": "q0v1R0zRAG8I"
      }
    },
    {
      "cell_type": "code",
      "source": [
        "word = input('Введите слово: ')\n",
        "list = []\n",
        "counter_1 = 0\n",
        "for counter in word:\n",
        "    list.append(counter)\n",
        "for counter in range(len(word) % 2 + len(word) // 2):\n",
        "    if list[counter] != list[-(counter + 1)]:\n",
        "        counter_1 += 1\n",
        "if counter_1 == 0:\n",
        "    print('Слово является палиндромом')\n",
        "else:\n",
        "    print('Слово не является палиндромом')"
      ],
      "metadata": {
        "colab": {
          "base_uri": "https://localhost:8080/"
        },
        "id": "ZlvsLhBXAHhC",
        "outputId": "50deeb9e-934f-42d6-87ec-c8b865ea6dba"
      },
      "execution_count": 10,
      "outputs": [
        {
          "output_type": "stream",
          "name": "stdout",
          "text": [
            "Введите слово: мадам\n",
            "Слово является палиндромом\n"
          ]
        }
      ]
    },
    {
      "cell_type": "markdown",
      "source": [
        "##Задача 10. Сортировка\n",
        "Дан список из N чисел. Напишите программу, которая сортирует элементы списка по возрастанию и выводит его на экран. Дополнительный список не использовать.\n",
        "Постарайтесь придумать и написать как можно более эффективный алгоритм сортировки."
      ],
      "metadata": {
        "id": "abBGu0-bARub"
      }
    },
    {
      "cell_type": "markdown",
      "source": [
        "# Решение:"
      ],
      "metadata": {
        "id": "dx6QlHF8Abzi"
      }
    },
    {
      "cell_type": "code",
      "source": [
        "list = [1, 4, -3, 0, 10, -127]\n",
        "for _ in range(len(list)):\n",
        "    for counter in range(len(list) - 1):\n",
        "        if list[counter + 1] < list[counter]:\n",
        "            list[counter], list[counter + 1] = list[counter + 1], list[counter]\n",
        "print(list)\n"
      ],
      "metadata": {
        "colab": {
          "base_uri": "https://localhost:8080/"
        },
        "id": "wzOuEPykAcQz",
        "outputId": "ca512f96-a98c-46f9-af9f-fa1018c53b67"
      },
      "execution_count": 11,
      "outputs": [
        {
          "output_type": "stream",
          "name": "stdout",
          "text": [
            "[-127, -3, 0, 1, 4, 10]\n"
          ]
        }
      ]
    }
  ]
}