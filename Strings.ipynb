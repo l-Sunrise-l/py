{
  "nbformat": 4,
  "nbformat_minor": 0,
  "metadata": {
    "colab": {
      "provenance": []
    },
    "kernelspec": {
      "name": "python3",
      "display_name": "Python 3"
    },
    "language_info": {
      "name": "python"
    }
  },
  "cells": [
    {
      "cell_type": "markdown",
      "source": [
        "##Задача 1. Меню ресторана\n",
        "Один ресторан заказал вам написать приложение, которое в один клик отображала бы пользователю доступное меню в удобном виде. Для этого ресторан любезно предоставил свой сайт, откуда можно получить актуальную информацию о меню в виде идущих подряд названий.\n",
        "\n",
        "Напишите программу, которая выводит это меню на экран. На вход подаётся строка из названий блюд, разделённые символом “;”, а на выходе эти названия перечисляются через запятую и пробел.\n",
        "\n"
      ],
      "metadata": {
        "id": "qjpLzeoLJcUu"
      }
    },
    {
      "cell_type": "markdown",
      "source": [
        "# Решение:"
      ],
      "metadata": {
        "id": "ORzi9kQsIzxT"
      }
    },
    {
      "cell_type": "code",
      "source": [
        "menu = input('Доступное меню: ')\n",
        "the_menu_has = menu.split(';')\n",
        "the_menu_has = ', '.join(the_menu_has)\n",
        "print('На данный момент в меню есть:', the_menu_has)"
      ],
      "metadata": {
        "colab": {
          "base_uri": "https://localhost:8080/"
        },
        "id": "O3q0EgWkJi-z",
        "outputId": "0d7537bd-792a-4c6b-f159-0ee58a9f6256"
      },
      "execution_count": 1,
      "outputs": [
        {
          "output_type": "stream",
          "name": "stdout",
          "text": [
            "Доступное меню: утиное филе;фланк-стейк;банановый пирог;плов\n",
            "На данный момент в меню есть: утиное филе, фланк-стейк, банановый пирог, плов\n"
          ]
        }
      ]
    },
    {
      "cell_type": "markdown",
      "source": [
        "##Задача 2. Самое длинное слово\n",
        "Дана строка, содержащая пробелы. Найдите в ней самое длинное слово, выведите  это слово и его длину. Если таких слов несколько, выведите первое из них.\n",
        "\n",
        "\n"
      ],
      "metadata": {
        "id": "ROooD-gtJxUN"
      }
    },
    {
      "cell_type": "markdown",
      "source": [
        "# Решение:"
      ],
      "metadata": {
        "id": "7MngVVQ_Jz5U"
      }
    },
    {
      "cell_type": "code",
      "source": [
        "text = input('Введите строку: ')\n",
        "listt = text.split()\n",
        "lenn = 0\n",
        "for counter in listt:\n",
        "    if len(counter) > lenn:\n",
        "        lenn = len(counter)\n",
        "        word = counter\n",
        "print('самое длинное слово и его длина:', word, 'и', lenn)"
      ],
      "metadata": {
        "colab": {
          "base_uri": "https://localhost:8080/"
        },
        "id": "Uu0YasdhJ0pK",
        "outputId": "9fd6a2f5-329a-489b-c636-3fe3ccf9d823"
      },
      "execution_count": 2,
      "outputs": [
        {
          "output_type": "stream",
          "name": "stdout",
          "text": [
            "Введите строку: У лукоморья дуб зеленый\n",
            "самое длинное слово и его длина: лукоморья и 9\n"
          ]
        }
      ]
    },
    {
      "cell_type": "markdown",
      "source": [
        "##Задача 3. Файлы\n",
        "В одной IT-компании существует негласный закон об именовании текстовых документов:\n",
        "1. Название файла не должно начинаться на один из специальных символов: @№$%^&*()\n",
        "2. Файл заканчивается расширением “.txt” или “.docx”\n",
        "\n",
        "Напишите программу, которая получает на вход полное название файла и проверяет его по этим правилам.\n"
      ],
      "metadata": {
        "id": "rJOl_lpqKI4Q"
      }
    },
    {
      "cell_type": "markdown",
      "source": [
        "# Решение:"
      ],
      "metadata": {
        "id": "Hj505h2rKMKW"
      }
    },
    {
      "cell_type": "code",
      "source": [
        "listt = ('@', '№', '$', '%', '^', '&', '*', '()')\n",
        "while True:\n",
        "    file = input('Название файла: ')\n",
        "    number = 0\n",
        "    for counter in listt:\n",
        "        if file.startswith(counter) == True:  #  лучше просто \"if file.startswith(counter)\", без == True\n",
        "            number = 1\n",
        "            break\n",
        "    #  лучше просто \"if not file.endswith('.docx')\", без == False\n",
        "    if file.endswith('.txt') == False and file.endswith('.docx') == False:\n",
        "        print(\"Ошибка: неверное расширение файла. Ожидалось .txt или .docx\")\n",
        "    elif number == 1:\n",
        "        print('Ошибка: название начинается на один из специальных символов')\n",
        "    else:\n",
        "        print('Файл назван верно.')\n",
        "        break\n"
      ],
      "metadata": {
        "colab": {
          "base_uri": "https://localhost:8080/"
        },
        "id": "FrbLR6veKMev",
        "outputId": "da2dda0c-719f-4a9a-978d-84892440fcc2"
      },
      "execution_count": 3,
      "outputs": [
        {
          "output_type": "stream",
          "name": "stdout",
          "text": [
            "Название файла: @example.txt\n",
            "Ошибка: название начинается на один из специальных символов\n",
            "Название файла: example.ttx\n",
            "Ошибка: неверное расширение файла. Ожидалось .txt или .docx\n",
            "Название файла: example.txt\n",
            "Файл назван верно.\n"
          ]
        }
      ]
    },
    {
      "cell_type": "markdown",
      "source": [
        "##Задача 4. Заглавные буквы\n",
        "Пользователь вводит строку. Напишите программу, которая изменяет регистр символов в этой строке так, чтобы первая буква каждого слова была заглавной, а остальные буквы - строчными.\n"
      ],
      "metadata": {
        "id": "lmlDTzO6KZY1"
      }
    },
    {
      "cell_type": "markdown",
      "source": [
        "# Решение:"
      ],
      "metadata": {
        "id": "bCC_VHAsKcMl"
      }
    },
    {
      "cell_type": "code",
      "source": [
        "text = input('Введите строку: ').split()\n",
        "print('Результат: ', end='')\n",
        "for counter in text:\n",
        "    print(counter.capitalize() + ' ', end='')  # , +' ' получилось лишним. Предлагаю немного поправить end =)\n"
      ],
      "metadata": {
        "colab": {
          "base_uri": "https://localhost:8080/"
        },
        "id": "zlyssz3RKeT8",
        "outputId": "e70b90b8-a20a-402f-e78c-5d380d3364ca"
      },
      "execution_count": 4,
      "outputs": [
        {
          "output_type": "stream",
          "name": "stdout",
          "text": [
            "Введите строку: Кажется, я забыл выключить утюг\n",
            "Результат: Кажется, Я Забыл Выключить Утюг "
          ]
        }
      ]
    },
    {
      "cell_type": "markdown",
      "source": [
        "##Задача 5. Пароль\n",
        "При регистрации на сайте помимо логина нужно ещё придумать надёжный пароль. Этот пароль должен состоять минимум из 8 символов, в нём должна быть хотя бы одна большая буква и хотя бы 3 цифры. Тогда он будет считаться надёжным. \n",
        "Напишите программу, которая запрашивает у пользователя пароль до тех пор, пока он не введёт надежный пароль. (буквы используются из латинского алфавита)\n"
      ],
      "metadata": {
        "id": "ddJaJNBQKkM7"
      }
    },
    {
      "cell_type": "markdown",
      "source": [
        "# Решение:"
      ],
      "metadata": {
        "id": "BSNpFjfsKpOf"
      }
    },
    {
      "cell_type": "code",
      "source": [
        "while True:\n",
        "    password = input('Придумайте пароль: ')\n",
        "    counter_1 = 0\n",
        "    for counter in password:\n",
        "        if counter.isdigit() == True:  # учше просто \"if if counter.isdigit()\", без == True\n",
        "            counter_1 += 1\n",
        "    if len(password) < 8:\n",
        "        print('Пароль ненадёжный. Попробуйте ещё раз.')\n",
        "    elif password.lower() == password:\n",
        "        print('Пароль ненадёжный. Попробуйте ещё раз.')\n",
        "    elif counter_1 < 3:\n",
        "        print('Пароль ненадёжный. Попробуйте ещё раз.')\n",
        "    else:\n",
        "        print('Это надёжный пароль!')\n",
        "        break"
      ],
      "metadata": {
        "colab": {
          "base_uri": "https://localhost:8080/"
        },
        "id": "IUobDkGaKprs",
        "outputId": "29c2ef6c-6fcd-454c-eedf-57c01a37b0b1"
      },
      "execution_count": 5,
      "outputs": [
        {
          "output_type": "stream",
          "name": "stdout",
          "text": [
            "Придумайте пароль: qwerty\n",
            "Пароль ненадёжный. Попробуйте ещё раз.\n",
            "Придумайте пароль: qwerty12\n",
            "Пароль ненадёжный. Попробуйте ещё раз.\n",
            "Придумайте пароль: qwerty123\n",
            "Пароль ненадёжный. Попробуйте ещё раз.\n",
            "Придумайте пароль: qWErty123\n",
            "Это надёжный пароль!\n"
          ]
        }
      ]
    },
    {
      "cell_type": "markdown",
      "source": [
        "##Задача 6. Сжатие\n",
        "С увеличением объема данных возникла потребность в сжатии этих данных, при этом не потеряв важную информацию. Для этого было придумано кодирование, которое осуществляется следующим образом:\n",
        "\n",
        "s = 'aaaabbсaa' преобразуется в 'a4b2с1a2', то есть группы одинаковых символов исходной строки заменяются на этот символ и количество его повторений в этой позиции строки.\n",
        "\n",
        "Напишите программу, которая считывает строку, кодирует её предложенным алгоритмом и выводит закодированную последовательность на экран. Кодирование должно учитывать регистр символов.\n"
      ],
      "metadata": {
        "id": "bYKCdpB_K08c"
      }
    },
    {
      "cell_type": "markdown",
      "source": [
        "# Решение:"
      ],
      "metadata": {
        "id": "uayf9ldHLEtA"
      }
    },
    {
      "cell_type": "code",
      "source": [
        "word = input('Введите строку: ')\n",
        "new_word = ''\n",
        "counter_1 = -1\n",
        "letter = word[0]\n",
        "for counter in word + ' ':\n",
        "    counter_1 += 1\n",
        "    if letter != counter:\n",
        "        new_word += letter + str(counter_1)\n",
        "        counter_1 = 0\n",
        "    letter = counter\n",
        "print('Закодированная строка:', new_word)\n"
      ],
      "metadata": {
        "colab": {
          "base_uri": "https://localhost:8080/"
        },
        "id": "o3IdN7a3LFMK",
        "outputId": "87627052-28aa-4d48-c2ac-ce9bb82d2c8e"
      },
      "execution_count": 6,
      "outputs": [
        {
          "output_type": "stream",
          "name": "stdout",
          "text": [
            "Введите строку: aaAAbbсaaaA\n",
            "Закодированная строка: a2A2b2с1a3A1\n"
          ]
        }
      ]
    },
    {
      "cell_type": "markdown",
      "source": [
        "##Задача 7. IP - адрес 2\n",
        "При написании клиент-серверного приложения часто приходится работать с теми самыми IP-адресами. Как мы уже знаем, IP-адрес состоит из четырех целых чисел в диапазоне от 0 до 255, разделенных точками.\n",
        "\n",
        "Пользователь вводит строку. Напишите программу, которая определяет, является ли заданная строка правильным IP-адресом. Обеспечьте контроль ввода, где предусматривается ввод целых чисел от 0 до 255, а также точки между ними\n"
      ],
      "metadata": {
        "id": "lCWuFvsvLKdW"
      }
    },
    {
      "cell_type": "markdown",
      "source": [
        "# Решение:"
      ],
      "metadata": {
        "id": "vWe-vZBmLPIF"
      }
    },
    {
      "cell_type": "code",
      "source": [
        "while True:\n",
        "    variable = 0\n",
        "    adress = input('Введите IP: ').split('.')\n",
        "    if len(adress) < 4:\n",
        "        print('Адрес - это четыре числа, разделённые точками')\n",
        "        variable = 1\n",
        "    else:\n",
        "        for counter in adress:\n",
        "            if not counter.isdigit():\n",
        "                print(counter, '- не целое число')\n",
        "                variable = 1\n",
        "                break\n",
        "            elif int(counter) > 255:\n",
        "                print(counter, 'превышает 255')\n",
        "                variable = 1\n",
        "                break\n",
        "    if variable == 0:\n",
        "        print('IP-адрес корректен')\n",
        "        break\n"
      ],
      "metadata": {
        "colab": {
          "base_uri": "https://localhost:8080/"
        },
        "id": "wyYMxRMdLPg6",
        "outputId": "09c6f34b-3419-41d1-a940-c898f6c3bf5a"
      },
      "execution_count": 7,
      "outputs": [
        {
          "output_type": "stream",
          "name": "stdout",
          "text": [
            "Введите IP: 128.16.35.a4\n",
            "a4 - не целое число\n",
            "Введите IP: 34.56.42,5\n",
            "Адрес - это четыре числа, разделённые точками\n",
            "Введите IP: 128.0.0.255\n",
            "IP-адрес корректен\n"
          ]
        }
      ]
    },
    {
      "cell_type": "markdown",
      "source": [
        "##Задача 8. Бегущая строка\n",
        "В одном из домашних заданий мы писали для табло программу, которая которая циклически сдвигает элементы списка чисел вправо на K позиций. В этот раз мы работаем с двумя строками и нам нужно проверить, не равна ли на самом деле одна другой. Возможно, одна из них просто немного сдвинута.\n",
        "\n",
        "Пользователь вводит две строки. Напишите программу, которая определяет, можно ли первую строку получить из второй циклическим сдвигом.\n",
        "\n",
        "Опционально: если получить можно, то вывести значение этого сдвига. "
      ],
      "metadata": {
        "id": "sthZKjXPLaNb"
      }
    },
    {
      "cell_type": "markdown",
      "source": [
        "# Решение:"
      ],
      "metadata": {
        "id": "N6MDuuuHLdgj"
      }
    },
    {
      "cell_type": "code",
      "source": [
        "listt_1 = list(input('Первая строка: '))\n",
        "listt_2 = list(input('Вторая строка: '))\n",
        "if len(listt_1) != len(listt_2):\n",
        "    print('Первую строку нельзя получить из второй с помощью циклического сдвига.')\n",
        "else:\n",
        "    for counter_1 in range(len(listt_1)):\n",
        "        if listt_1 == listt_2:\n",
        "            print('Первая строка получается из второй со сдвигом', str(counter_1) + '.')\n",
        "            break\n",
        "        for counter in range(len(listt_1) - 1, 0, -1):\n",
        "            listt_1[counter], listt_1[counter - 1] = listt_1[counter - 1], listt_1[counter]\n",
        "    if len(listt_1) == counter_1 + 1:\n",
        "        print('Первую строку нельзя получить из второй с помощью циклического сдвига.')"
      ],
      "metadata": {
        "colab": {
          "base_uri": "https://localhost:8080/"
        },
        "id": "h1-W4GE-LfxS",
        "outputId": "f8fcfca6-cdd6-408f-fcdf-ac933de61ff8"
      },
      "execution_count": 8,
      "outputs": [
        {
          "output_type": "stream",
          "name": "stdout",
          "text": [
            "Первая строка: abcd\n",
            "Вторая строка: cdab\n",
            "Первая строка получается из второй со сдвигом 2.\n"
          ]
        }
      ]
    },
    {
      "cell_type": "markdown",
      "source": [
        "##Задача 9. Сообщение\n",
        "Нашему другу надоело общаться простыми сообщениями, и он решил делать это необычным способом: он переворачивает каждое слово в тексте, при этом не трогая знаки препинания. \n",
        "\n",
        "Пользователь вводит текст, состоящий из слов и знаков препинания. Напишите программу, которая переворачивает (записывает в обратном порядке) все слова текста, оставив знаки препинания без изменений. Словом в тексте считается последовательность символов из прописных и строчных букв кириллицы.\n"
      ],
      "metadata": {
        "id": "rGYkS2oqLnu1"
      }
    },
    {
      "cell_type": "markdown",
      "source": [
        "# Решение:"
      ],
      "metadata": {
        "id": "VU3tuQOXLqsH"
      }
    },
    {
      "cell_type": "code",
      "source": [
        "text = input().split(\" \")\n",
        "answer = []\n",
        "for counter in text:\n",
        "    word = ''\n",
        "    word_1 = ''\n",
        "    counter_2 = 0\n",
        "    for counter_1 in counter:\n",
        "        if counter_2 == 1:\n",
        "            word_1 = counter_1 + word_1\n",
        "        elif (counter_1).lower().islower() == True:  # Можно без \"== True\"\n",
        "            word = counter_1 + word\n",
        "        else:\n",
        "            word += counter_1\n",
        "            counter_2 = 1\n",
        "    answer.append(word + word_1)\n",
        "print(\" \".join(answer))\n"
      ],
      "metadata": {
        "colab": {
          "base_uri": "https://localhost:8080/"
        },
        "id": "9NV2279NLwj_",
        "outputId": "bbbc0fa2-a5cf-4f38-a238-14b3a437b44f"
      },
      "execution_count": 9,
      "outputs": [
        {
          "output_type": "stream",
          "name": "stdout",
          "text": [
            "Это задание очень! простое.\n",
            "отЭ еинадаз ьнечо! еотсорп.\n"
          ]
        }
      ]
    },
    {
      "cell_type": "markdown",
      "source": [
        "##Задача 10. Истина\n",
        "К вам попал зашифрованный текст, означающий большую истину для многих программистов. Напишите программу, которая реализует алгоритм дешифровки этого текста. Расшифруйте текст с помощью своей программы, а затем найдите его в интернете.\n",
        "\n",
        "vujgvmCfb tj ufscfu ouib z/vhm jdjuFyqm jt fscfuu uibo jdju/jnqm fTjnqm tj scfuuf ibou fy/dpnqm yDpnqmf jt cfuufs boui dbufe/dpnqmj uGmb tj fuufsc ouib oftufe/ bstfTq jt uufscf uibo otf/ef uzSfbebcjmj vout/dp djbmTqf dbtft (ubsfo djbmtqf hifopv up csfbl ifu t/svmf ipvhiBmu zqsbdujdbmju fbutc uz/qvsj Fsspst tipvme wfsof qbtt foumz/tjm omfttV mjdjumzfyq odfe/tjmf Jo fui dfgb pg hvjuz-bncj gvtfsf fui ubujpoufnq up ftt/hv Uifsf vmetip fc pof.. boe sbcmzqsfgf zpom pof pvt..pcwj xbz pu pe ju/ Bmuipvhi uibu bzx bzn puo cf wjpvtpc bu jstug ttvomf sfzpv( i/Evud xOp tj scfuuf ibou /ofwfs uipvhiBm fsofw jt fopgu cfuufs boui iu++sjh x/op gJ ifu nfoubujpojnqmf tj eibs pu mbjo-fyq tju( b bec /jefb Jg fui foubujpojnqmfn jt fbtz up bjo-fyqm ju znb cf b hppe jefb/ bnftqbdftO bsf pof ipoljoh sfbuh efbj .. fu(tm pe psfn gp tf\"uip\n"
      ],
      "metadata": {
        "id": "jrKLA-zXL7ox"
      }
    },
    {
      "cell_type": "markdown",
      "source": [
        "# Решение:"
      ],
      "metadata": {
        "id": "Gji6dVZrMAJl"
      }
    },
    {
      "cell_type": "code",
      "source": [
        "listt_1 = ('vujgvmCfb tj ufscfu ouib z/vhm jdjuFyqm jt fscfuu uibo jdju/jnqm fTjnqm tj scfuuf ibou fy/dpnqm yDpnqmf jt '\n",
        "           'cfuufs boui dbufe/dpnqmj uGmb tj fuufsc ouib oftufe/ bstfTq jt uufscf uibo otf/ef uzSfbebcjmj vout/dp djbmTqf '\n",
        "           'dbtft (ubsfo djbmtqf hifopv up csfbl ifu t/svmf ipvhiBmu zqsbdujdbmju fbutc uz/qvsj Fsspst tipvme wfsof qbtt '\n",
        "           'foumz/tjm omfttV mjdjumzfyq odfe/tjmf Jo fui dfgb pg hvjuz-bncj gvtfsf fui ubujpoufnq up ftt/hv Uifsf vmetip '\n",
        "           'fc pof boe sbcmzqsfgf zpom pof pvtpcwj xbz pu pe ju/ Bmuipvhi uibu bzx bzn puo cf wjpvtpc bu jstug ttvomf sfzpv( '\n",
        "           'i/Evud xOp tj scfuuf ibou /ofwfs uipvhiBm fsofw jt fopgu cfuufs boui iusjh x/op gJ ifu nfoubujpojnqmf tj eibs pu '\n",
        "           'mbjo-fyq tju( b bec /jefb Jg fui foubujpojnqmfn jt fbtz up bjo-fyqm ju znb cf b hppe jefb/ bnftqbdftO bsf pof '\n",
        "           'ipoljoh sfbuh efbj fu(tm pe psfn gp tf\"uip')\n",
        "listt_2 = ['a', 'b', 'c', 'd', 'e', 'f', 'g', 'h', 'i', 'j', 'k', 'l', 'm', 'n', 'o', 'p', 'q', 'r', 's', 't', 'u', 'v',\n",
        "           'w', 'x', 'y', 'z', 'A', 'B', 'C', 'D', 'E', 'F', 'G', 'H', 'I', 'J', 'K', 'L', 'M', 'N', 'O', 'P', 'Q', 'R',\n",
        "           'S', 'T', 'U', 'V', 'W', 'X', 'Y', 'Z', '!', '-', '.', '/', '!', '\"', \"'\", '(']\n",
        "answer = []\n",
        "listt = ''.join(\n",
        "    [(listt_2[(listt_2.index(word) - 1) % len(listt_2)] if word != ' ' else ' ') for word in listt_1]).split(' ')\n",
        "print(listt)\n",
        "counter_2 = 3\n",
        "for counter in listt:\n",
        "    word = list(counter)\n",
        "    for _ in range(counter_2):\n",
        "        for counter_1 in range(len(word) - 1, 0, -1):\n",
        "            word[counter_1], word[counter_1 - 1] = word[counter_1 - 1], word[counter_1]\n",
        "    answer.append(''.join(word))\n",
        "    if word[-1] == '.':\n",
        "        counter_2 += 1\n",
        "        print(' '.join(answer))\n",
        "        answer = []\n",
        "print(' '.join(answer))\n"
      ],
      "metadata": {
        "id": "PH-Cj23aMByN",
        "outputId": "991de3bd-f472-400e-b82d-0e19fdc453e6",
        "colab": {
          "base_uri": "https://localhost:8080/"
        }
      },
      "execution_count": 10,
      "outputs": [
        {
          "output_type": "stream",
          "name": "stdout",
          "text": [
            "['utifulBea', 'si', 'terbet', 'ntha', 'y.ugl', 'icitExpl', 'is', 'erbett', 'than', 'icit.impl', 'eSimpl', 'si', 'rbette', 'hant', 'ex.compl', 'xComple', 'is', 'better', 'anth', 'cated.compli', 'tFla', 'si', 'etterb', 'ntha', 'nested.', 'arseSp', 'is', 'tterbe', 'than', 'nse.de', 'tyReadabili', 'unts.co', 'cialSpe', 'cases', \"'taren\", 'cialspe', 'ghenou', 'to', 'break', 'het', 's.rule', 'houghAlt', 'ypracticalit', 'eatsb', 'ty.puri', 'Errors', 'should', 'verne', 'pass', 'ently.sil', 'nlessU', 'licitlyexp', 'nced.sile', 'In', 'eth', 'cefa', 'of', 'guity!ambi', 'fusere', 'eth', 'tationtemp', 'to', 'ess.gu', 'There', 'uldsho', 'eb', 'one', 'and', 'rablyprefe', 'yonl', 'one', 'ousobvi', 'way', 'ot', 'od', 'it.', 'Although', 'that', 'ayw', 'aym', 'otn', 'be', 'viousob', 'at', 'irstf', 'ssunle', \"reyou'\", 'h.Dutc', 'wNo', 'si', 'rbette', 'hant', '.never', 'thoughAl', 'ernev', 'is', 'enoft', 'better', 'anth', 'htrig', 'w.no', 'fI', 'het', 'mentationimple', 'si', 'dhar', 'ot', 'lain!exp', \"sit'\", 'a', 'adb', '.idea', 'If', 'eth', 'entationimplem', 'is', 'easy', 'to', 'ain!expl', 'it', 'yma', 'be', 'a', 'good', 'idea.', 'amespacesN', 'are', 'one', 'honking', 'reatg', 'deai', \"et'sl\", 'od', 'orem', 'fo', 'se!tho']\n",
            "Beautiful is better than ugly.\n",
            "Explicit is better than implicit.\n",
            "Simple is better than complex.\n",
            "Complex is better than complicated.\n",
            "Flat is better than nested.\n",
            "Sparse is better than dense.\n",
            "Readability counts.\n",
            "Special cases aren't special enough to break the rules.\n",
            "Although practicality beats purity.\n",
            "Errors should never pass silently.\n",
            "Unless explicitly silenced.\n",
            "In the face of ambiguity! refuse the temptation to guess.\n",
            "There should be one and preferably only one iousobv way to do it.\n",
            "Although that way may not be obvious at first unless you're Dutch.\n",
            "Now is better than never.\n",
            "Although never is often better than right now.\n",
            "If the implementation is hard to explain! it's a bad idea.\n",
            "If the implementation is easy to explain! it may be a good idea.\n",
            "Namespaces are one honking great idea let's do more of those!\n"
          ]
        }
      ]
    }
  ]
}