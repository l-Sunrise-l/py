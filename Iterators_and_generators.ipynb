{
  "nbformat": 4,
  "nbformat_minor": 0,
  "metadata": {
    "colab": {
      "provenance": []
    },
    "kernelspec": {
      "name": "python3",
      "display_name": "Python 3"
    },
    "language_info": {
      "name": "python"
    }
  },
  "cells": [
    {
      "cell_type": "markdown",
      "source": [
        "Примечание: начиная с этого домашнего задания во всех задачах используйте аннотации типов (как минимум для функций, методов и их аргументов)\n",
        "\n",
        "## Задача 1. Квадраты чисел\n",
        "Пользователь вводит число N. Напишите программу, которая генерирует последовательность из квадратов чисел от 1 до N (1 ** 2, 2 ** 2, 3 **2 и так далее). Реализацию напишите тремя способами: класс-итератор, функция-генератор и генераторное выражение.\n",
        "\n",
        "\n",
        "\n"
      ],
      "metadata": {
        "id": "VEvMa2OPPdN6"
      }
    },
    {
      "cell_type": "markdown",
      "source": [
        "# Решение:"
      ],
      "metadata": {
        "id": "2nyY5MekQ-L0"
      }
    },
    {
      "cell_type": "code",
      "source": [
        "print('Функция-генератор')\n",
        "\n",
        "\n",
        "def function(number):\n",
        "    for counter in range(1, number + 1):\n",
        "        yield counter ** 2\n",
        "\n",
        "\n",
        "func_seq = function(10)\n",
        "for counter in func_seq:\n",
        "    print(counter, end=' ')\n",
        "\n",
        "print()\n",
        "print()\n",
        "print('Генераторное выражение')\n",
        "square_gen = (counter ** 2 for counter in range(1, 11))\n",
        "for counter in square_gen:\n",
        "    print(counter, end=' ')\n",
        "\n",
        "print()\n",
        "print()\n",
        "print('Класс-итератор')\n",
        "\n",
        "\n",
        "class Square_gen():\n",
        "    def __init__(self, limit):\n",
        "        self.limit = limit\n",
        "        self.counter = 0\n",
        "\n",
        "    def __iter__(self):\n",
        "        return self\n",
        "\n",
        "    def __next__(self):\n",
        "        if self.counter < self.limit:\n",
        "            self.counter += 1\n",
        "            return self.counter ** 2\n",
        "        else:\n",
        "            raise StopIteration\n",
        "\n",
        "\n",
        "square_gen = Square_gen(10)\n",
        "for counter in square_gen:\n",
        "    print(counter, end=' ')\n"
      ],
      "metadata": {
        "colab": {
          "base_uri": "https://localhost:8080/"
        },
        "id": "MDMw69XKPdiO",
        "outputId": "df40bc9b-4985-4b58-fbea-d5b99cd10124"
      },
      "execution_count": 1,
      "outputs": [
        {
          "output_type": "stream",
          "name": "stdout",
          "text": [
            "Функция-генератор\n",
            "1 4 9 16 25 36 49 64 81 100 \n",
            "\n",
            "Генераторное выражение\n",
            "1 4 9 16 25 36 49 64 81 100 \n",
            "\n",
            "Класс-итератор\n",
            "1 4 9 16 25 36 49 64 81 100 "
          ]
        }
      ]
    },
    {
      "cell_type": "markdown",
      "source": [
        "## Задача 2. Рефакторинг\n",
        "После различных вопросов про отличия итераторов, генераторов и генераторных выражений, на собеседовании вам дали небольшой пример кода и попросили “провести рефакторинг”. Вот сам код.\n",
        "\n",
        "````python\n",
        "# Нужно найти какие два числа из списков в результате попарного перемножения дадут число 56\n",
        "list_1 = [2, 5, 7, 10]\n",
        "list_2 = [3, 8, 4, 9]\n",
        "to_find = 56\n",
        "\n",
        "can_continue = True\n",
        "for x in list_1:\n",
        "    for y in list_2:\n",
        "        result = x * y\n",
        "        print(x, y, result)\n",
        "        if result == to_find:\n",
        "            print('Found!!!')\n",
        "            can_continue = False\n",
        "            break\n",
        "    if not can_continue:\n",
        "        break\n",
        "````\n",
        "Проблема кода состоит в некрасивом выходе из циклов (два break и флаг). Реализуйте более красивый выход из циклов, используя генератор. Сам алгоритм решения (попарное перемножение) и списки трогать нельзя.\n",
        "\n",
        "\n",
        "\n"
      ],
      "metadata": {
        "id": "NtuSnwUcPiH0"
      }
    },
    {
      "cell_type": "markdown",
      "source": [
        "# Решение:"
      ],
      "metadata": {
        "id": "Q0JohLk0Q9EQ"
      }
    },
    {
      "cell_type": "code",
      "source": [
        "def function(list_1: list, list_2: list, to_find: int) -> str:\n",
        "    for x in list_1:\n",
        "        for y in list_2:\n",
        "            result = x * y\n",
        "            yield f\"{x} + {y} = {result}\"\n",
        "            if result == to_find:\n",
        "                yield 'Found!!!'\n",
        "                return\n",
        "\n",
        "\n",
        "list_1 = [2, 5, 7, 10]\n",
        "list_2 = [3, 8, 4, 9]\n",
        "to_find = 56\n",
        "fun_find = function(list_1, list_2, to_find)\n",
        "for counter in fun_find:\n",
        "    print(counter)\n"
      ],
      "metadata": {
        "colab": {
          "base_uri": "https://localhost:8080/"
        },
        "id": "u-MkD1Y3PlXi",
        "outputId": "a9078f84-1cb7-414c-b262-3d0425db6b0b"
      },
      "execution_count": 2,
      "outputs": [
        {
          "output_type": "stream",
          "name": "stdout",
          "text": [
            "2 + 3 = 6\n",
            "2 + 8 = 16\n",
            "2 + 4 = 8\n",
            "2 + 9 = 18\n",
            "5 + 3 = 15\n",
            "5 + 8 = 40\n",
            "5 + 4 = 20\n",
            "5 + 9 = 45\n",
            "7 + 3 = 21\n",
            "7 + 8 = 56\n",
            "Found!!!\n"
          ]
        }
      ]
    },
    {
      "cell_type": "markdown",
      "source": [
        "## Задача 3. Пути файлов\n",
        "Реализуйте функцию gen_files_path, которая проходит по всем каталогам указанной директории (по умолчанию - корневой диск), находит указанный пользователем каталог и генерирует пути всех файлов, которые встретились по пути.\n",
        "\n",
        "\n",
        "\n"
      ],
      "metadata": {
        "id": "8eb6sguyQCvh"
      }
    },
    {
      "cell_type": "markdown",
      "source": [
        "# Решение:"
      ],
      "metadata": {
        "id": "2GxVbgjUQ8S4"
      }
    },
    {
      "cell_type": "code",
      "source": [
        "import os\n",
        "\n",
        "\n",
        "def gen_files_path(word: str,way: str) -> str:\n",
        "    for counter in os.listdir(way):\n",
        "        new_counter = os.path.join(way, counter)\n",
        "        yield new_counter\n",
        "        if counter == word:\n",
        "            yield 'Found!!!'\n",
        "            return\n",
        "        if os.path.isdir(new_counter):\n",
        "            yield from gen_files_path(word,new_counter)\n",
        "variable_1 = input('Введите начальную директорию')\n",
        "variable_2 = input('Что хотите найти?')\n",
        "fun = gen_files_path(variable_2,variable_1)\n",
        "for counter in fun:\n",
        "    print(counter)"
      ],
      "metadata": {
        "id": "TjavB2fjQEOd"
      },
      "execution_count": 3,
      "outputs": []
    },
    {
      "cell_type": "markdown",
      "source": [
        "## Задача 4. Последовательность Хофштадтера\n",
        "Реализуйте генерацию последовательности Q Хофштадтера (итератором или генератором). Сама последовательность выглядит так:\n",
        "\n",
        "Q(n)=Q(n−Q(n−1))+Q(n−Q(n−2))\n",
        "\n",
        "В итератор (или генератор) передаётся список из двух чисел. Например, QHofstadter([1, 1]) генерирует точную последовательность Хофштадтера. Если передать значения [1, 2], то последовательность должна немедленно завершиться.\n",
        "\n",
        "\n"
      ],
      "metadata": {
        "id": "9euqsWhrQMU7"
      }
    },
    {
      "cell_type": "markdown",
      "source": [
        "# Решение:"
      ],
      "metadata": {
        "id": "o8ixTM57Q76T"
      }
    },
    {
      "cell_type": "code",
      "source": [
        "def QHofstadter(listt: list,limit: int) -> int:\n",
        "    print(f'{listt[0]} {listt[1]}',end=' ')\n",
        "    for counter in range(2,limit):\n",
        "        number = listt[counter - listt[counter - 1]] + listt[counter - listt[counter - 2]]\n",
        "        listt.append(number)\n",
        "        yield number\n",
        "fun_QHofstadter = QHofstadter([1,1],int(input('Введите длину последовательности: ')))\n",
        "for counter in fun_QHofstadter:\n",
        "    print(counter,end=' ')\n",
        "\n"
      ],
      "metadata": {
        "colab": {
          "base_uri": "https://localhost:8080/"
        },
        "id": "uyqZn4rvQQ3U",
        "outputId": "17bdf7c7-f674-416e-e6e4-c185a4963475"
      },
      "execution_count": 6,
      "outputs": [
        {
          "output_type": "stream",
          "name": "stdout",
          "text": [
            "Введите длину последовательности: 30\n",
            "1 1 2 3 3 4 5 5 6 6 6 8 8 8 10 9 10 11 11 12 12 12 12 16 14 14 16 16 16 16 "
          ]
        }
      ]
    },
    {
      "cell_type": "markdown",
      "source": [
        "## Задача 5. Количество строк\n",
        "Реализуйте функцию-генератор, которая берёт все питоновские файлы в директории и вычисляет общее количество строк кода, игнорируя пустые строки и строчки комментариев. \n",
        "\n",
        "\n",
        "\n"
      ],
      "metadata": {
        "id": "kMX3iY6BQfyq"
      }
    },
    {
      "cell_type": "markdown",
      "source": [
        "# Решение:"
      ],
      "metadata": {
        "id": "2f4eI7zHQ7pv"
      }
    },
    {
      "cell_type": "code",
      "source": [
        "import os\n",
        "\n",
        "\n",
        "def gen_files_path(way: str) -> int:\n",
        "    counter_1 = 0\n",
        "    for directory in os.listdir(way):\n",
        "        new_variable = os.path.join(way, directory)\n",
        "        if os.path.isdir(new_variable):\n",
        "            yield from gen_files_path(new_variable)\n",
        "        else:\n",
        "            with open(new_variable, 'r', encoding='utf-8',errors='ignore') as data:\n",
        "                for counter in data.read().split('\\n'):\n",
        "                    if counter != '' and not counter.startswith('#'):\n",
        "                        counter_1 += 1\n",
        "                yield counter_1\n",
        "\n",
        "variable = input('Введите начальную директорию')\n",
        "fun_gen_files = gen_files_path(variable)\n",
        "summ = sum([counter for counter in fun_gen_files])\n",
        "print(f'Общее количество строк кода: {summ}')\n"
      ],
      "metadata": {
        "id": "eiDbwKTOQh00"
      },
      "execution_count": 7,
      "outputs": []
    },
    {
      "cell_type": "markdown",
      "source": [
        "## Задача 6. Односвязный список\n",
        "Мы продолжаем тему структур данных и алгоритмов. И в этот раз вам нужно реализовать Односвязный список.\n",
        "\n",
        "Связный список — это структура данных, которая состоит из элементов, зовущихся узлами. В узлах хранятся данные, а между собой узлы соединены связями. Связь – это ссылка на следующий или предыдущий элемент списка.\n",
        "\n",
        "![task_06_pic](linkedlist.png)\n",
        "\n",
        "В односвязном списке связь - это ссылка только на следующий элемент. То есть в нём можно передвигаться только в сторону конца списка. Узнать адрес предыдущего элемента, опираясь на содержимое текущего узла, невозможно.\n",
        "\n",
        "Реализуйте такую структуру данных без использования стандартных структур Питона (list, dict, tuple и прочие) и дополнительных модулей. Для структуры реализуйте следующие методы:\n",
        "- append - добавление элемента в конец списка\n",
        "- get - получение элемента по индексу\n",
        "- remove - удаление элемента по индексу\n",
        "\n",
        "Дополнительно: сделайте так, чтобы по списку можно было итерироваться с помощью цикла\n"
      ],
      "metadata": {
        "id": "MRaAOdlgQopR"
      }
    },
    {
      "cell_type": "markdown",
      "source": [
        "# Решение:"
      ],
      "metadata": {
        "id": "OA53-V7xOrlx"
      }
    },
    {
      "cell_type": "code",
      "source": [
        "class Box:\n",
        "    def __init__(self, cat=None):\n",
        "        self.cat = cat\n",
        "        self.nextcat = None\n",
        "\n",
        "\n",
        "class LinkedList:\n",
        "\n",
        "    def __init__(self):\n",
        "        self.head = None\n",
        "\n",
        "    def append(self, newcat):\n",
        "        newbox = Box(newcat)\n",
        "        if self.head is None:\n",
        "            self.head = newbox\n",
        "            return\n",
        "        lastbox = self.head\n",
        "        while (lastbox.nextcat):\n",
        "            lastbox = lastbox.nextcat\n",
        "        lastbox.nextcat = newbox\n",
        "\n",
        "    def get(self, index):\n",
        "        lastbox = self.head\n",
        "        for _ in range(index):\n",
        "            lastbox = lastbox.nextcat\n",
        "        return lastbox.cat\n",
        "\n",
        "    def remove(self, index):\n",
        "        if index == 0:\n",
        "            self.head = self.head.nextcat\n",
        "        else:\n",
        "            lastbox = self.head\n",
        "            lastbox_1 = self.head.nextcat\n",
        "            for counter in range(index - 1):\n",
        "                lastbox = lastbox_1\n",
        "                lastbox_1 = lastbox_1.nextcat\n",
        "            lastbox_1 = lastbox_1.nextcat\n",
        "            lastbox.nextcat = lastbox_1\n",
        "\n",
        "    def __str__(self):\n",
        "        lastbox = self.head\n",
        "        answer = '['\n",
        "        while True:\n",
        "            answer += str(lastbox.cat)\n",
        "            if lastbox.nextcat == None:\n",
        "                return answer + ']'\n",
        "            answer += ' '\n",
        "            lastbox = lastbox.nextcat\n",
        "\n",
        "\n",
        "my_list = LinkedList()\n",
        "\n",
        "my_list.append(10)\n",
        "\n",
        "my_list.append(20)\n",
        "\n",
        "my_list.append(30)\n",
        "\n",
        "print('Текущий список:', my_list)\n",
        "\n",
        "print('Получение третьего элемента:', my_list.get(2))\n",
        "\n",
        "print('Удаление второго элемента.')\n",
        "\n",
        "my_list.remove(0)\n",
        "\n",
        "print('Новый список:', my_list)\n",
        "\n"
      ],
      "metadata": {
        "colab": {
          "base_uri": "https://localhost:8080/"
        },
        "id": "JIexiEwZQsVh",
        "outputId": "8a80ad41-1b86-418a-c155-2f3fe9909730"
      },
      "execution_count": 8,
      "outputs": [
        {
          "output_type": "stream",
          "name": "stdout",
          "text": [
            "Текущий список: [10 20 30]\n",
            "Получение третьего элемента: 30\n",
            "Удаление второго элемента.\n",
            "Новый список: [20 30]\n"
          ]
        }
      ]
    }
  ]
}