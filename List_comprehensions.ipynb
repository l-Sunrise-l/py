{
  "nbformat": 4,
  "nbformat_minor": 0,
  "metadata": {
    "colab": {
      "provenance": []
    },
    "kernelspec": {
      "name": "python3",
      "display_name": "Python 3"
    },
    "language_info": {
      "name": "python"
    }
  },
  "cells": [
    {
      "cell_type": "markdown",
      "source": [
        "##Задача 1. Гласные буквы\n",
        "Команде лингвистов понравилось качество ваших программ, и они решили заказать у вас функцию для анализатора текста, которая создавала список гласных букв текста, а заодно считала бы их количество.\n",
        "\n",
        "Напишите программу, которая запрашивает у пользователя текст и генерирует список из гласных букв этого текста (сама строка вводится на русском языке). Выведете в консоль сам список и его длину.\n"
      ],
      "metadata": {
        "id": "m2HkIGtCGXfI"
      }
    },
    {
      "cell_type": "markdown",
      "source": [
        "# Решение:"
      ],
      "metadata": {
        "id": "2ivqAo7-Hbcy"
      }
    },
    {
      "cell_type": "code",
      "source": [
        "text = input('Введите текст: ')\n",
        "listt_1 = ['а', 'о', 'у', 'ы', 'э', 'я', 'ё', 'ю', 'и', 'е']\n",
        "listt = [counter for counter in text if counter in listt_1]\n",
        "print('Список гласных букв:', listt)\n",
        "print('Длина списка:', len(listt))\n"
      ],
      "metadata": {
        "colab": {
          "base_uri": "https://localhost:8080/"
        },
        "id": "Rt7JsPq3GcCx",
        "outputId": "e4d48b03-0917-4a02-ca21-276b81322527"
      },
      "execution_count": 1,
      "outputs": [
        {
          "output_type": "stream",
          "name": "stdout",
          "text": [
            "Введите текст: Нужно отнести кольцо в Мордор!\n",
            "Список гласных букв: ['у', 'о', 'о', 'е', 'и', 'о', 'о', 'о', 'о']\n",
            "Длина списка: 9\n"
          ]
        }
      ]
    },
    {
      "cell_type": "markdown",
      "source": [
        "##Задача 2. Генерация\n",
        "Пользователь вводит целое число N. Напишите программу, которая генерирует список из N чисел, на четных местах в котором стоят единицы, а на нечетных местах - числа, равные остатку от деления своего номера на 5.\n"
      ],
      "metadata": {
        "id": "azuk8yaMGk3s"
      }
    },
    {
      "cell_type": "markdown",
      "source": [
        "# Решение:"
      ],
      "metadata": {
        "id": "h5I_B7GsGnwD"
      }
    },
    {
      "cell_type": "code",
      "source": [
        "number = int(input('Введите длину списка: '))\n",
        "listt = [(1 if counter % 2 == 0 else counter % 5) for counter in range(number)]\n",
        "print('Результат:', listt)"
      ],
      "metadata": {
        "colab": {
          "base_uri": "https://localhost:8080/"
        },
        "id": "2VPvTWfaGoFd",
        "outputId": "9004a647-3de9-46ca-cd06-6fce90d5c372"
      },
      "execution_count": 2,
      "outputs": [
        {
          "output_type": "stream",
          "name": "stdout",
          "text": [
            "Введите длину списка: 10\n",
            "Результат: [1, 1, 1, 3, 1, 0, 1, 2, 1, 4]\n"
          ]
        }
      ]
    },
    {
      "cell_type": "markdown",
      "source": [
        "##Задача 3. Случайные соревнования\n",
        "Мы хотим протестировать работу электронной таблицы для участников некоторых соревнований. Есть два списка (то есть две команды), по 20 участников в каждом. В этих списках хранятся очки каждого участника (это вещественные числа с двумя знаками после точки, например 4.03). Участник одной команды соревнуется с участником другой команды под таким же номером. То есть первый соревнуется с первым, второй-  со вторым, и так далее.\n",
        "\n",
        "Напишите программу, которая генерирует два списка участников (по 20 элементов) из случайных вещественных чисел (от 5 до 10). Для этого найдите подходящую функцию из модуля random. Затем сгенерируйте третий список, в котором окажутся только победители из каждой пары.\n"
      ],
      "metadata": {
        "id": "AuhTgzTvGwPq"
      }
    },
    {
      "cell_type": "markdown",
      "source": [
        "# Решение:"
      ],
      "metadata": {
        "id": "r9CxAu1EG0IQ"
      }
    },
    {
      "cell_type": "code",
      "source": [
        "import random\n",
        "\n",
        "listt_1 = [round(random.uniform(5, 10), 2) for _ in range(20)]\n",
        "listt_2 = [round(random.uniform(5, 10), 2) for _ in range(20)]\n",
        "print('Первая команда:', listt_1)\n",
        "print('Вторая команда:', listt_2)\n",
        "listt_3 = [(listt_1[counter] if listt_1[counter] >= listt_2[counter] else listt_2[counter]) for counter in range(20)]\n",
        "print('Победители тура:', listt_3)"
      ],
      "metadata": {
        "colab": {
          "base_uri": "https://localhost:8080/"
        },
        "id": "868gdHAXG0c-",
        "outputId": "8063be7f-cd82-416d-fc1a-bf9c762f6172"
      },
      "execution_count": 3,
      "outputs": [
        {
          "output_type": "stream",
          "name": "stdout",
          "text": [
            "Первая команда: [8.74, 7.65, 7.88, 6.93, 7.55, 6.13, 6.98, 8.23, 8.52, 9.2, 9.78, 6.51, 6.68, 6.55, 8.4, 5.19, 9.51, 7.37, 6.42, 7.04]\n",
            "Вторая команда: [7.96, 6.2, 5.19, 7.47, 6.93, 6.94, 5.6, 8.93, 7.42, 6.61, 8.62, 5.16, 5.56, 7.11, 8.86, 9.28, 5.88, 5.32, 8.27, 9.34]\n",
            "Победители тура: [8.74, 7.65, 7.88, 7.47, 7.55, 6.94, 6.98, 8.93, 8.52, 9.2, 9.78, 6.51, 6.68, 7.11, 8.86, 9.28, 9.51, 7.37, 8.27, 9.34]\n"
          ]
        }
      ]
    },
    {
      "cell_type": "markdown",
      "source": [
        "##Задача 4. Тренируемся со срезами\n",
        "Дана строка, в которой хранятся первые семь букв английского алфавита. \n",
        "\n",
        "````python\n",
        "alphabet = 'abcdefg'\n",
        "````\n",
        "Напишите программу, которая выводит на экран 10 вот таких результатов:\n",
        "1. Копия строки\n",
        "2. Элементы строки в обратном порядке\n",
        "3. Каждый второй элемент строки (включая самый первый)\n",
        "4. Каждый второй элемент строки после первого\n",
        "5. Все элементы до второго\n",
        "6. Все элементы начиная с конца до предпоследнего\n",
        "7. Все элементы в диапазоне индексов от 3 до 4 (не включая 4)\n",
        "8. Последние три элемента строки\n",
        "9. Все элементы в диапазоне индексов от 3 до 4 (не включая 5)\n",
        "10. То же, что и в предыдущем, но выводится в обратном порядке.\n",
        "\n",
        "Для получения и вывода результатов используйте только команду print и срезы.\n"
      ],
      "metadata": {
        "id": "gNJOL0c-G5CG"
      }
    },
    {
      "cell_type": "markdown",
      "source": [
        "# Решение:"
      ],
      "metadata": {
        "id": "M9zo0J-pG9z-"
      }
    },
    {
      "cell_type": "code",
      "source": [
        "alphabet = 'abcdefg'\n",
        "print('Копия строки:', alphabet[:])\n",
        "print('Элементы строки в обратном порядке: ', alphabet[::-1])\n",
        "print('Каждый второй элемент строки (включая самый первый):', alphabet[::2])\n",
        "print('Каждый второй элемент строки после первого:', alphabet[1::2])\n",
        "print('Все элементы до второго:', alphabet[:1])\n",
        "print('Все элементы, начиная с конца до предпоследнего:', alphabet[1:])\n",
        "print('Все элементы в диапазоне индексов от 3 до 4 (не включая 4):', alphabet[3:4])\n",
        "print('Последние три элемента строки:', alphabet[-3:])\n",
        "print('Все элементы в диапазоне индексов от 3 до 4 (не включая 5):', alphabet[3:5])\n",
        "print('То же, что и в предыдущем пункте, но в обратном порядке:', alphabet[4:2:-1])"
      ],
      "metadata": {
        "colab": {
          "base_uri": "https://localhost:8080/"
        },
        "id": "KodqUuq_G_O6",
        "outputId": "49f66213-0e27-45d1-dc6f-b573ea88de89"
      },
      "execution_count": 4,
      "outputs": [
        {
          "output_type": "stream",
          "name": "stdout",
          "text": [
            "Копия строки: abcdefg\n",
            "Элементы строки в обратном порядке:  gfedcba\n",
            "Каждый второй элемент строки (включая самый первый): aceg\n",
            "Каждый второй элемент строки после первого: bdf\n",
            "Все элементы до второго: a\n",
            "Все элементы, начиная с конца до предпоследнего: bcdefg\n",
            "Все элементы в диапазоне индексов от 3 до 4 (не включая 4): d\n",
            "Последние три элемента строки: efg\n",
            "Все элементы в диапазоне индексов от 3 до 4 (не включая 5): de\n",
            "То же, что и в предыдущем пункте, но в обратном порядке: ed\n"
          ]
        }
      ]
    },
    {
      "cell_type": "markdown",
      "source": [
        "##Задача 5. Разворот\n",
        "На вход в программу подаётся строка, в которой буква h встречается как минимум два раза. Реализуйте код, который разворачивает последовательность символов, заключенную между первым и последним появлением буквы h, в противоположном порядке.\n"
      ],
      "metadata": {
        "id": "UH8ZR27IHBli"
      }
    },
    {
      "cell_type": "markdown",
      "source": [
        "# Решение:"
      ],
      "metadata": {
        "id": "tChgkExpHEhZ"
      }
    },
    {
      "cell_type": "code",
      "source": [
        "word = input('Введите слово: ')\n",
        "number_1 = word.index('h')\n",
        "number_2 = word[number_1 + 1:].index('h') + 1\n",
        "print(word[:number_1] + word[number_1 + number_2:number_1:-1] + word[number_1 + number_2:])"
      ],
      "metadata": {
        "colab": {
          "base_uri": "https://localhost:8080/"
        },
        "id": "DtOn9fGJHFAG",
        "outputId": "4bdfccd7-bfee-4280-eff4-5a60ef83b56e"
      },
      "execution_count": 6,
      "outputs": [
        {
          "output_type": "stream",
          "name": "stdout",
          "text": [
            "Введите слово: qwertyhabcdhdf\n",
            "qwertyhdcbahdf\n"
          ]
        }
      ]
    },
    {
      "cell_type": "markdown",
      "source": [
        "##Задача 6. Сжатие списка\n",
        "Дан список из N целых чисел. Напишите программу, которая выполняет \"сжатие списка\" – переставляет все нулевые элементы в конец массива. При этом все ненулевые элементы располагаются в начале массива в том же порядке. Затем все нули из списка удаляются.\n"
      ],
      "metadata": {
        "id": "khkPU6S3HZdG"
      }
    },
    {
      "cell_type": "markdown",
      "source": [
        "# Решение:"
      ],
      "metadata": {
        "id": "16c-nxhkHc7V"
      }
    },
    {
      "cell_type": "code",
      "source": [
        "listt = [1, 3, 0, 5, 0, 2, 3, 0, 0, 5, 8, 9, 0, 0, 5]\n",
        "print(listt)\n",
        "number = listt.count(0)\n",
        "for _ in range(number):\n",
        "    listt.remove(0)\n",
        "    listt.append(0)\n",
        "print(listt)\n",
        "print(listt[:-number])\n"
      ],
      "metadata": {
        "colab": {
          "base_uri": "https://localhost:8080/"
        },
        "id": "Ves5mG9JHdR5",
        "outputId": "3c40b447-ae70-410c-e8db-730f76b2657f"
      },
      "execution_count": 7,
      "outputs": [
        {
          "output_type": "stream",
          "name": "stdout",
          "text": [
            "[1, 3, 0, 5, 0, 2, 3, 0, 0, 5, 8, 9, 0, 0, 5]\n",
            "[1, 3, 5, 2, 3, 5, 8, 9, 5, 0, 0, 0, 0, 0, 0]\n",
            "[1, 3, 5, 2, 3, 5, 8, 9, 5]\n"
          ]
        }
      ]
    },
    {
      "cell_type": "markdown",
      "source": [
        "##Задача 7. Двумерный список\n",
        "Как мы говорили ранее, в программировании часто приходится писать код исходя из результата, который требует заказчик. В этот раз заказчику нужно получить вот такой двумерный список:\n",
        "\n",
        "[[1, 5, 9], [2, 6, 10], [3, 7, 11], [4, 8, 12]]\n",
        "\n",
        "Напишите программу, которая генерирует такой список и выводит его на экран. Используйте только list comprehensions.\n"
      ],
      "metadata": {
        "id": "89jFnhHgIS5L"
      }
    },
    {
      "cell_type": "markdown",
      "source": [
        "# Решение:"
      ],
      "metadata": {
        "id": "r-CuViB2IWL6"
      }
    },
    {
      "cell_type": "code",
      "source": [
        "listt = [[counter, counter + 4, counter + 8] for counter in range(1, 5)]\n",
        "print(listt)\n"
      ],
      "metadata": {
        "colab": {
          "base_uri": "https://localhost:8080/"
        },
        "id": "keU59mWpIW9C",
        "outputId": "7f4aca14-c90c-493b-ab6c-b8b8da4c20e4"
      },
      "execution_count": 8,
      "outputs": [
        {
          "output_type": "stream",
          "name": "stdout",
          "text": [
            "[[1, 5, 9], [2, 6, 10], [3, 7, 11], [4, 8, 12]]\n"
          ]
        }
      ]
    },
    {
      "cell_type": "markdown",
      "source": [
        "##Задача 8. Развлечение\n",
        "N палочек выставили в один ряд, занумеровав их слева направо числами от 1 до N. Затем по этому ряду бросили K камней, при этом i-й камень сбил все палки с номерами от L_i до R_i включительно. Определите, какие палки остались стоять на месте.\n",
        "\n",
        "Напишите программу, которая получает на вход количество палок N и количество бросков K. Далее идет K пар чисел L_i, R_i, при этом 1≤ L_i≤ R_i≤ N.\n",
        "Программа должна вывести последовательность из N символов, где j-й символ есть “I”, если j-я палка осталась стоять, или “.”, если j-я палка была сбита.\n"
      ],
      "metadata": {
        "id": "Ir_T5XoSIZwu"
      }
    },
    {
      "cell_type": "markdown",
      "source": [
        "# Решение:"
      ],
      "metadata": {
        "id": "szHgGpg9IdOf"
      }
    },
    {
      "cell_type": "code",
      "source": [
        "import random\n",
        "\n",
        "number_1 = int(input('Кол-во палок: '))\n",
        "number_2 = int(input('Кол-во бросков: '))\n",
        "listt = ['|' for _ in range(number_1)]\n",
        "for counter in range(1, 1 + number_2):\n",
        "    number_3 = random.randint(1, 9)\n",
        "    number_4 = random.randint(number_3 + 1, 10)\n",
        "    print('Бросок ' + str(counter) + '. Сбиты палки с номера', number_3, 'по номер', number_4)\n",
        "    for counter_1 in range(number_3 - 1, number_4):\n",
        "        listt[counter_1] = '.'\n",
        "print('Результат: ', end='')\n",
        "for counter_2 in listt:\n",
        "    print(counter_2, end='')\n"
      ],
      "metadata": {
        "colab": {
          "base_uri": "https://localhost:8080/"
        },
        "id": "4hzfgtDzIdho",
        "outputId": "5cad1ac3-463a-4e1a-e805-3c049799d446"
      },
      "execution_count": 10,
      "outputs": [
        {
          "output_type": "stream",
          "name": "stdout",
          "text": [
            "Кол-во палок: 10\n",
            "Кол-во бросков: 3\n",
            "Бросок 1. Сбиты палки с номера 3 по номер 5\n",
            "Бросок 2. Сбиты палки с номера 3 по номер 5\n",
            "Бросок 3. Сбиты палки с номера 7 по номер 8\n",
            "Результат: ||...|..||"
          ]
        },
        {
          "output_type": "execute_result",
          "data": {
            "text/plain": [
              "3"
            ]
          },
          "metadata": {},
          "execution_count": 10
        }
      ]
    },
    {
      "cell_type": "markdown",
      "source": [
        "##Задача 9. Список списков 2\n",
        "Дан вот такой (уже многомерный!) список:\n",
        "````python\n",
        "nice_list = [[[1, 2, 3], [4, 5, 6], [7, 8, 9]], [[10, 11, 12], [13, 14, 15], [16, 17, 18]]]\n",
        "````\n",
        "Напишите код, который “раскрывает” все вложенные списки, то есть оставляет только внешний список. Для решения используйте только list comprehensions. \n"
      ],
      "metadata": {
        "id": "NEba37cgIsOE"
      }
    },
    {
      "cell_type": "markdown",
      "source": [
        "# Решение:"
      ],
      "metadata": {
        "id": "boPQXxwkItjq"
      }
    },
    {
      "cell_type": "code",
      "source": [
        "nice_list = [[[1, 2, 3], [4, 5, 6], [7, 8, 9]],\n",
        "             [[10, 11, 12], [13, 14, 15], [16, 17, 18]]]\n",
        "\n",
        "listt = [counter_2 for counter in nice_list for counter_1 in counter for counter_2 in counter_1]\n",
        "print(listt)"
      ],
      "metadata": {
        "colab": {
          "base_uri": "https://localhost:8080/"
        },
        "id": "UK2Z4pY9It1e",
        "outputId": "1c471659-18d2-49ae-82d6-95a24aff3fff"
      },
      "execution_count": 11,
      "outputs": [
        {
          "output_type": "stream",
          "name": "stdout",
          "text": [
            "[1, 2, 3, 4, 5, 6, 7, 8, 9, 10, 11, 12, 13, 14, 15, 16, 17, 18]\n"
          ]
        }
      ]
    },
    {
      "cell_type": "markdown",
      "source": [
        "##Задача 10. Шифр Цезаря\n",
        "Юлий Цезарь использовал свой способ шифрования текста. Каждая буква заменялась на следующую по алфавиту через K позиций по кругу. Если взять русский алфавит и k = 3, то в слове, которое мы хотим зашифровать, буква А станет буквой Г, Б станет Д и так далее.\n",
        "\n",
        "Пользователь вводит сообщение, а также значение сдвига. Напишите программу, которая зашифрует это сообщение при помощи шифра Цезаря.\n"
      ],
      "metadata": {
        "id": "Mbtn05RmIwsh"
      }
    },
    {
      "cell_type": "markdown",
      "source": [
        "# Решение:"
      ],
      "metadata": {
        "id": "ORzi9kQsIzxT"
      }
    },
    {
      "cell_type": "code",
      "source": [
        "alphabet = ['а', 'б', 'в', 'г', 'д', 'е', 'ё', 'ж', 'з', 'и', 'й', 'к', 'л', 'м', 'н', 'о', 'п', 'р', 'с', 'т', 'у',\n",
        "            'ф', 'х', 'ц', 'ч',\n",
        "            'ш', 'щ', 'ъ', 'ы', 'ь', 'э', 'ю', 'я']\n",
        "text = input('Введите сообщение: ')\n",
        "number = int(input('Введите сдвиг: '))\n",
        "listt = [(alphabet[(alphabet.index(word) + number) % len(alphabet)] if word != ' ' else ' ') for word in text]\n",
        "print('Зашифрованное сообщение: ', end='')\n",
        "for counter in listt:\n",
        "    print(counter, end='')"
      ],
      "metadata": {
        "colab": {
          "base_uri": "https://localhost:8080/"
        },
        "id": "AlyefHCsI0FA",
        "outputId": "6105da8b-79b3-44db-85ce-c0e8337efa8d"
      },
      "execution_count": 12,
      "outputs": [
        {
          "output_type": "stream",
          "name": "stdout",
          "text": [
            "Введите сообщение: это питон\n",
            "Введите сдвиг: 3\n",
            "Зашифрованное сообщение: ахс тлхср"
          ]
        }
      ]
    }
  ]
}