{
  "nbformat": 4,
  "nbformat_minor": 0,
  "metadata": {
    "colab": {
      "provenance": [],
      "collapsed_sections": []
    },
    "kernelspec": {
      "name": "python3",
      "display_name": "Python 3"
    },
    "language_info": {
      "name": "python"
    }
  },
  "cells": [
    {
      "cell_type": "markdown",
      "source": [
        "## Задача 1. Драка\n",
        "Вы работаете в команде разработчиков мобильной игры, и вам досталась вот такая часть от ТЗ заказчика:\n",
        "Есть два юнита, каждый из них называется “Воин”. Каждому устанавливается здоровье в 100 очков. Они бьют друг друга в случайном порядке. Тот, кто бьет, здоровья не теряет. У того, кого бьют, оно уменьшается на 20 очков от одного удара. После каждого удара надо выводить сообщение, какой юнит атаковал, и сколько у противника осталось здоровья. Как только у кого-то заканчивается ресурс здоровья, программа завершается сообщением о том, кто одержал победу.\n",
        "\n",
        "Реализуйте такую программу.\n",
        "\n"
      ],
      "metadata": {
        "id": "rXnVbaSuJj5J"
      }
    },
    {
      "cell_type": "markdown",
      "source": [
        "# Решение:"
      ],
      "metadata": {
        "id": "vTs2wMLuHxp4"
      }
    },
    {
      "cell_type": "code",
      "source": [
        "import random\n",
        "\n",
        "\n",
        "class Warrior:\n",
        "\n",
        "    def __init__(self, name):\n",
        "        self.name = name\n",
        "        self.hp = 100\n",
        "\n",
        "    def hit(self, warrior):\n",
        "        if isinstance(warrior, Warrior):\n",
        "            if random.randint(0, 1) == 0:\n",
        "                self.hp -= 20\n",
        "                print('Атаковал {}, у {} осталось {} hp.'.format(warrior.name, self.name, self.hp))\n",
        "            else:\n",
        "                warrior.hp -= 20\n",
        "                print('Атаковал {}, у {} осталось {} hp.'.format(self.name, warrior.name, warrior.hp))\n",
        "            if self.hp == 0:\n",
        "                print('Победил', warrior.name)\n",
        "            elif warrior.hp == 0:\n",
        "                print('Победил', self.name)\n",
        "\n",
        "\n",
        "warrior_1 = Warrior('Galahad')\n",
        "warrior_2 = Warrior('Laselot')\n",
        "while warrior_1.hp != 0 and warrior_2.hp != 0:\n",
        "    warrior_1.hit(warrior_2)"
      ],
      "metadata": {
        "colab": {
          "base_uri": "https://localhost:8080/"
        },
        "id": "h915Pam3Jmem",
        "outputId": "f92639c1-8807-4a23-b00e-de6fbb320d71"
      },
      "execution_count": 1,
      "outputs": [
        {
          "output_type": "stream",
          "name": "stdout",
          "text": [
            "Атаковал Galahad, у Laselot осталось 80 hp.\n",
            "Атаковал Galahad, у Laselot осталось 60 hp.\n",
            "Атаковал Galahad, у Laselot осталось 40 hp.\n",
            "Атаковал Galahad, у Laselot осталось 20 hp.\n",
            "Атаковал Galahad, у Laselot осталось 0 hp.\n",
            "Победил Galahad\n"
          ]
        }
      ]
    },
    {
      "cell_type": "markdown",
      "source": [
        "## Задача 2. Студенты\n",
        "Реализуйте модель с именем Student, содержащую поля: ФИ, номер группы, успеваемость (список из пяти элементов). Затем создайте список из десяти Студентов и отсортируйте его по возрастанию среднего балла. Выведите результат на экран\n",
        "\n"
      ],
      "metadata": {
        "id": "X_XAAWVMJqLw"
      }
    },
    {
      "cell_type": "markdown",
      "source": [
        "# Решение:"
      ],
      "metadata": {
        "id": "IUwCeIqeLFjc"
      }
    },
    {
      "cell_type": "code",
      "source": [
        "class Student:\n",
        "\n",
        "    def __init__(self, Surname_Name, Group_number, Academic_performance, Average_score, Age):\n",
        "        self.Surname_Name = Surname_Name\n",
        "        self.Group_number = Group_number\n",
        "        self.Academic_performance = Academic_performance\n",
        "        self.Average_score = Average_score\n",
        "        self.Age = Age\n",
        "\n",
        "\n",
        "student_1 = Student('Смирнова Полина', 3, 'отличная', 5, 20)\n",
        "student_2 = Student('Коровина Ева', 4, 'хорошая', 4.1, 20)\n",
        "student_3 = Student('Пантелеев Евгений', 5, 'удовлетворительная', 3.2, 20)\n",
        "student_4 = Student('Горюнов Ярослав', 2, 'неудовлетворительная', 2.3, 20)\n",
        "student_5 = Student('Вдовин Иван', 1, 'отличная', 4.8, 20)\n",
        "student_6 = Student('Широкова Софья', 4, 'хорошая', 4.2, 20)\n",
        "student_7 = Student('Троицкий Георгий', 6, 'удовлетворительная', 3.1, 20)\n",
        "student_8 = Student('Кузнецов Максим', 3, 'неудовлетворительная', 2.2, 20)\n",
        "student_9 = Student('Баранова Милана', 1, 'отличная', 4.9, 20)\n",
        "student_10 = Student('Давыдова Ульяна', 3, 'хорошая', 3.9, 20)\n",
        "listt = [student_1, student_2, student_3, student_4, student_5, student_6, student_7, student_8, student_9, student_10]\n",
        "\n",
        "listt.sort(key=lambda number: number.Average_score)\n",
        "listt = [counter.Surname_Name for counter in listt]\n",
        "\n",
        "print(listt)"
      ],
      "metadata": {
        "colab": {
          "base_uri": "https://localhost:8080/"
        },
        "id": "aWnMg1HtJqwM",
        "outputId": "0d7e1da5-6b1a-443b-f3f2-32775acc905d"
      },
      "execution_count": 2,
      "outputs": [
        {
          "output_type": "stream",
          "name": "stdout",
          "text": [
            "['Кузнецов Максим', 'Горюнов Ярослав', 'Троицкий Георгий', 'Пантелеев Евгений', 'Давыдова Ульяна', 'Коровина Ева', 'Широкова Софья', 'Вдовин Иван', 'Баранова Милана', 'Смирнова Полина']\n"
          ]
        }
      ]
    },
    {
      "cell_type": "markdown",
      "source": [
        "## Задача 3. Окружность\n",
        "На координатной плоскости рисуются окружности, у каждой окружности следующие параметры: координаты X и Y - центра окружности, и значение R - это радиус окружности. По умолчанию центр находится в (0, 0), а радиус равен 1.\n",
        "\n",
        "Реализуйте класс Окружность, который инициализируется по этим параметрам. Круг также может:\n",
        "- Находить и возвращать свою Площадь\n",
        "- Находить и возвращать свой Периметр\n",
        "- Увеличиваться в K раз\n",
        "- Определять, пересекается ли он с другой окружностью\n",
        "\n"
      ],
      "metadata": {
        "id": "s6XOaxH0Jt1o"
      }
    },
    {
      "cell_type": "markdown",
      "source": [
        "# Решение:"
      ],
      "metadata": {
        "id": "pGpqy2FrLF6h"
      }
    },
    {
      "cell_type": "code",
      "source": [
        "class Round:\n",
        "\n",
        "    def __init__(self, X, Y, R):\n",
        "        self.X = X\n",
        "        self.Y = Y\n",
        "        self.R = R\n",
        "\n",
        "    def square(self):\n",
        "        print(self.R ** 2 * 3.14)\n",
        "\n",
        "    def perimetr(self):\n",
        "        print(self.R * 2 * 3.14)\n",
        "\n",
        "    def increase(self, number):\n",
        "        self.R *= number\n",
        "\n",
        "    def intersect(self, name):\n",
        "        distance_1 = ((self.X - name.X) ** 2 + (self.Y - name.Y) ** 2) ** 0.5\n",
        "        distance_2 = self.R + name.R\n",
        "        if distance_1 > distance_2:\n",
        "            print('Не касаются')\n",
        "        elif self.R > name.R and self.R > distance_1 + name.R:\n",
        "            print('Не касаются')\n",
        "        elif self.R < name.R and name.R > distance_1 + self.R:\n",
        "            print('Не касаются')\n",
        "        else:\n",
        "            print('Касаются')\n",
        "\n",
        "\n",
        "round_1 = Round(0, 0, 2)\n",
        "round_2 = Round(3, 3, 1)\n",
        "\n",
        "round_1.intersect(round_2)\n",
        "round_1.increase(2)\n",
        "round_1.intersect(round_2)\n",
        "round_1.increase(2)\n",
        "round_1.intersect(round_2)\n",
        "print('\\n')\n",
        "\n",
        "round_1.square()\n",
        "round_1.perimetr()\n",
        "round_2.square()\n",
        "round_2.perimetr()"
      ],
      "metadata": {
        "colab": {
          "base_uri": "https://localhost:8080/"
        },
        "id": "VG619BUJJwH7",
        "outputId": "0af09702-cca7-47ca-bd2e-1bca39d1f37f"
      },
      "execution_count": 3,
      "outputs": [
        {
          "output_type": "stream",
          "name": "stdout",
          "text": [
            "Не касаются\n",
            "Касаются\n",
            "Не касаются\n",
            "\n",
            "\n",
            "200.96\n",
            "50.24\n",
            "3.14\n",
            "6.28\n"
          ]
        }
      ]
    },
    {
      "cell_type": "markdown",
      "source": [
        "## Задача 4. Отцы, матери и дети\n",
        "Реализуйте два класса: Родитель и Ребёнок. У родителя есть\n",
        "- Имя\n",
        "- Возраст\n",
        "- Список детей\n",
        "\n",
        "И он может:\n",
        "- Сообщить информацию о себе\n",
        "- Успокоить ребёнка\n",
        "- Покормить ребёнка\n",
        "\n",
        "У ребёнка есть:\n",
        "- Имя\n",
        "- Возраст (должен быть меньше возраста родителя хотя бы на 16 лет)\n",
        "- Состояние спокойствия\n",
        "- Состояние голода\n",
        "\n",
        "Реализация состояний на ваше усмотрение! Это может быть и простой “флаг”, и словарь состояний, и что-нибудь ещё интереснее!\n"
      ],
      "metadata": {
        "id": "Y_RQubQ1Jy--"
      }
    },
    {
      "cell_type": "markdown",
      "source": [
        "# Решение:"
      ],
      "metadata": {
        "id": "kHQyyfyhLGgi"
      }
    },
    {
      "cell_type": "code",
      "source": [
        "class Parent:\n",
        "\n",
        "    def __init__(self, name, age):\n",
        "        self.name = name\n",
        "        self.age = age\n",
        "        self.listt = []\n",
        "\n",
        "    def list_kids(self, list_kids):\n",
        "        for counter in list_kids:\n",
        "            if self.age - counter.age > 15:\n",
        "                self.listt.append(counter.name)\n",
        "\n",
        "    def info(self):\n",
        "        print(self.name, self.age, self.listt)\n",
        "\n",
        "    def calm(self, name):\n",
        "        name.condition = 'Нормальное'\n",
        "\n",
        "    def feed(self, name):\n",
        "        name.hunger = 'Сыт'\n",
        "\n",
        "\n",
        "class Kid:\n",
        "\n",
        "    def __init__(self, name, age, condition, hunger):\n",
        "        self.name = name\n",
        "        self.age = age\n",
        "        self.condition = condition\n",
        "        self.hunger = hunger\n",
        "\n",
        "\n",
        "kid_1 = Kid('Даниил', 1, 'Злой', 'Голодный')\n",
        "kid_2 = Kid('Варвара', 1, 'Нормальное', 'Сыт')\n",
        "kid_3 = Kid('Ксения', 7, 'Злой', 'Сыт')\n",
        "parent_1 = Parent('Платон', 30)\n",
        "parent_1.list_kids([kid_1, kid_2, kid_3])\n",
        "parent_1.info()\n",
        "parent_1.calm(kid_1)\n",
        "parent_1.calm(kid_3)\n",
        "parent_1.feed(kid_1)\n",
        "print(kid_1.condition)\n",
        "print(kid_3.condition)\n",
        "print(kid_1.hunger)"
      ],
      "metadata": {
        "colab": {
          "base_uri": "https://localhost:8080/"
        },
        "id": "P7kPM_TZJ1d4",
        "outputId": "ad22d6e7-f5fc-4f1e-c5cf-78ffa167318b"
      },
      "execution_count": 4,
      "outputs": [
        {
          "output_type": "stream",
          "name": "stdout",
          "text": [
            "Платон 30 ['Даниил', 'Варвара', 'Ксения']\n",
            "Нормальное\n",
            "Нормальное\n",
            "Сыт\n"
          ]
        }
      ]
    },
    {
      "cell_type": "markdown",
      "source": [
        "## Задача 5. Веселая ферма 2\n",
        "Мы продолжаем писать игру “Веселая ферма” и теперь необходимо её немного модернизировать. Всё-таки кому-то же нужно собирать урожай, и для этого нам понадобится Садовник, который имеет:\n",
        "- Имя\n",
        "- Грядку с растением, за которым он ухаживает (в нашем случае - пока только грядка с картошкой)\n",
        "\n",
        "И может: \n",
        "- Ухаживать за грядкой\n",
        "- Собирать с неё урожай (количество картошки - пустой список)\n",
        "\n",
        "Модернизируйте программу, используя новый класс Садовник. На всякий случай, вот описание Картошки и Грядки:\n",
        "\n",
        "`\n",
        "У картошки есть её номер в грядке, а также стадия зрелости. Она может предоставлять информацию о своей зрелости и расти. Всего у картошки может быть 4 стадии зрелости.\n",
        "Грядка с картошкой содержит список картошки, которая на ней растёт, и может, собственно, взращивать всю эту картошку, а также предоставлять информацию о зрелости всей картошки на своей территории.\n",
        "`\n",
        "\n",
        "Проверьте работу программы, создав грядку из 5 картошек и отдав эту грядку Садовнику. Пусть поухаживает за грядкой и соберет урожай (а может быть даже и не один).\n",
        "\n"
      ],
      "metadata": {
        "id": "b0DhhslpJ4da"
      }
    },
    {
      "cell_type": "markdown",
      "source": [
        "# Решение:"
      ],
      "metadata": {
        "id": "SL_cegBqLHDe"
      }
    },
    {
      "cell_type": "code",
      "source": [
        "class Potato:\n",
        "    states = {0: 'Отсутсвует', 1: 'Росток', 2: 'Зеленая', 3: 'Зрелая'}\n",
        "\n",
        "    def __init__(self, index):\n",
        "        self.index = index\n",
        "        self.state = 0\n",
        "\n",
        "    def grow(self):\n",
        "        if self.state < 3:\n",
        "            self.state += 1\n",
        "        self.print_state()\n",
        "\n",
        "    def is_ripe(self):\n",
        "        if self.state == 3:\n",
        "            return True\n",
        "        return False\n",
        "\n",
        "    def print_state(self):\n",
        "        print('Картошка {} сейчас {}'.format(\n",
        "            self.index, Potato.states[self.state]\n",
        "        ))\n",
        "\n",
        "\n",
        "class PotatoGarden:\n",
        "\n",
        "    def __init__(self, count):\n",
        "        self.potatoes = [Potato(index) for index in range(1, count + 1)]\n",
        "\n",
        "    def grow_all(self):\n",
        "        print('Картошка прорастает!')\n",
        "        for i_potato in self.potatoes:\n",
        "            i_potato.grow()\n",
        "\n",
        "    def are_all_ripe(self):\n",
        "        if not all([i_potato.is_ripe() for i_potato in self.potatoes]):\n",
        "            print('Картошка еще не созрела!\\n')\n",
        "        else:\n",
        "            print('Вся картошка созрела. Можно собирать!\\n')\n",
        "\n",
        "\n",
        "class Gardener:\n",
        "\n",
        "    def __init__(self, name):\n",
        "        self.name = name\n",
        "        self.garden_bed = None\n",
        "\n",
        "    def harvest_the_crop(self):\n",
        "        if not all([i_potato.is_ripe() for i_potato in self.garden_bed.potatoes]):\n",
        "            print('Картошка еще не созрела!\\n')\n",
        "        else:\n",
        "            for i_potato in self.garden_bed.potatoes:\n",
        "                i_potato.state = 0\n",
        "            print('Вся картошка собрана!\\n')\n",
        "\n",
        "    def take_care_of_potatoes(self):\n",
        "        print('Картошка прорастает!')\n",
        "        for i_potato in self.garden_bed.potatoes:\n",
        "            i_potato.grow()\n",
        "\n",
        "    def assign_a_value(self, object):\n",
        "        self.garden_bed = object\n",
        "\n",
        "\n",
        "my_garden = PotatoGarden(5)\n",
        "\n",
        "gardener = Gardener('Джек')\n",
        "gardener.assign_a_value(my_garden)\n",
        "\n",
        "for _ in range(3):\n",
        "    gardener.take_care_of_potatoes()\n",
        "    print('\\n')\n",
        "\n",
        "gardener.harvest_the_crop()\n"
      ],
      "metadata": {
        "colab": {
          "base_uri": "https://localhost:8080/"
        },
        "id": "KNQxYJNqJ7bj",
        "outputId": "680a03e2-15f4-4f96-bedb-e22a04677d66"
      },
      "execution_count": 5,
      "outputs": [
        {
          "output_type": "stream",
          "name": "stdout",
          "text": [
            "Картошка прорастает!\n",
            "Картошка 1 сейчас Росток\n",
            "Картошка 2 сейчас Росток\n",
            "Картошка 3 сейчас Росток\n",
            "Картошка 4 сейчас Росток\n",
            "Картошка 5 сейчас Росток\n",
            "\n",
            "\n",
            "Картошка прорастает!\n",
            "Картошка 1 сейчас Зеленая\n",
            "Картошка 2 сейчас Зеленая\n",
            "Картошка 3 сейчас Зеленая\n",
            "Картошка 4 сейчас Зеленая\n",
            "Картошка 5 сейчас Зеленая\n",
            "\n",
            "\n",
            "Картошка прорастает!\n",
            "Картошка 1 сейчас Зрелая\n",
            "Картошка 2 сейчас Зрелая\n",
            "Картошка 3 сейчас Зрелая\n",
            "Картошка 4 сейчас Зрелая\n",
            "Картошка 5 сейчас Зрелая\n",
            "\n",
            "\n",
            "Вся картошка собрана!\n",
            "\n"
          ]
        }
      ]
    },
    {
      "cell_type": "markdown",
      "source": [
        "## Задача 6. Магия\n",
        "Для одной игры необходимо реализовать механику магии, где при соединении двух элементов получается новый. У нас есть 4 базовых элемента: Вода, Воздух, Огонь, Земля. Из них как раз и получаются новые: Шторм, Пар, Грязь, Молния, Пыль, Лава.\n",
        "\n",
        "Вот таблица преобразований:\n",
        "```\n",
        "  Вода + Воздух = Шторм\n",
        "  Вода + Огонь = Пар\n",
        "  Вода + Земля = Грязь\n",
        "  Воздух + Огонь = Молния\n",
        "  Воздух + Земля = Пыль\n",
        "  Огонь + Земля = Лава\n",
        "```\n",
        "Напишите программу, которая реализует все эти элементы. Каждый элемент необходимо организовать как отдельный класс. Если результат не определен - то возвращается None.\n",
        "\n",
        "Примечание: сложение объектов можно реализовывать через магический метод __add__, вот пример использования:"
      ],
      "metadata": {
        "id": "2VLgMVfnKJZW"
      }
    },
    {
      "cell_type": "markdown",
      "source": [
        "# Решение:"
      ],
      "metadata": {
        "id": "F5oiQLCILH9O"
      }
    },
    {
      "cell_type": "code",
      "source": [
        "class Aqua:\n",
        "\n",
        "    def __init__(self):\n",
        "        self.name = 'Вода'\n",
        "\n",
        "    def __str__(self):\n",
        "        return self.name\n",
        "\n",
        "    def __add__(self, other):\n",
        "        if isinstance(other, Fire):\n",
        "            return Vapor(part1=self, part2=other)\n",
        "        elif isinstance(other, Air):\n",
        "            return Storm(part1=self, part2=other)\n",
        "        elif isinstance(other, Earth):\n",
        "            return Dirt(part1=self, part2=other)\n",
        "\n",
        "\n",
        "class Air:\n",
        "\n",
        "    def __init__(self):\n",
        "        self.name = 'Водух'\n",
        "\n",
        "    def __str__(self):\n",
        "        return self.name\n",
        "\n",
        "    def __add__(self, other):\n",
        "        if isinstance(other, Aqua):\n",
        "            return Storm(part1=self, part2=other)\n",
        "        elif isinstance(other, Fire):\n",
        "            return Lightning(part1=self, part2=other)\n",
        "        elif isinstance(other, Earth):\n",
        "            return Dust(part1=self, part2=other)\n",
        "\n",
        "\n",
        "class Earth:\n",
        "\n",
        "    def __init__(self):\n",
        "        self.name = 'Земля'\n",
        "\n",
        "    def __str__(self):\n",
        "        return self.name\n",
        "\n",
        "    def __add__(self, other):\n",
        "        if isinstance(other, Aqua):\n",
        "            return Dirt(part1=self, part2=other)\n",
        "        elif isinstance(other, Fire):\n",
        "            return Lava(part1=self, part2=other)\n",
        "        elif isinstance(other, Air):\n",
        "            return Dust(part1=self, part2=other)\n",
        "\n",
        "\n",
        "class Fire:\n",
        "\n",
        "    def __init__(self):\n",
        "        self.name = 'Огонь'\n",
        "\n",
        "    def __str__(self):\n",
        "        return self.name\n",
        "\n",
        "    def __add__(self, other):\n",
        "        if isinstance(other, Aqua):\n",
        "            return Vapor(part1=self, part2=other)\n",
        "        elif isinstance(other, Earth):\n",
        "            return Lava(part1=self, part2=other)\n",
        "        elif isinstance(other, Air):\n",
        "            return Lightning(part1=self, part2=other)\n",
        "\n",
        "\n",
        "class Storm:\n",
        "\n",
        "    def __str__(self):\n",
        "        return self.name\n",
        "\n",
        "    def __init__(self, part1, part2):\n",
        "        self.part1 = part1\n",
        "        self.part2 = part2\n",
        "        self.name = 'Шторм'\n",
        "\n",
        "\n",
        "class Vapor:\n",
        "\n",
        "    def __str__(self):\n",
        "        return self.name\n",
        "\n",
        "    def __init__(self, part1, part2):\n",
        "        self.part1 = part1\n",
        "        self.part2 = part2\n",
        "        self.name = 'Пар'\n",
        "\n",
        "\n",
        "class Lightning:\n",
        "\n",
        "    def __str__(self):\n",
        "        return self.name\n",
        "\n",
        "    def __init__(self, part1, part2):\n",
        "        self.part1 = part1\n",
        "        self.part2 = part2\n",
        "        self.name = 'Молния'\n",
        "\n",
        "\n",
        "class Dust:\n",
        "\n",
        "    def __str__(self):\n",
        "        return self.name\n",
        "\n",
        "    def __init__(self, part1, part2):\n",
        "        self.part1 = part1\n",
        "        self.part2 = part2\n",
        "        self.name = 'Пыль'\n",
        "\n",
        "\n",
        "class Dirt:\n",
        "\n",
        "    def __str__(self):\n",
        "        return self.name\n",
        "\n",
        "    def __init__(self, part1, part2):\n",
        "        self.part1 = part1\n",
        "        self.part2 = part2\n",
        "        self.name = 'Грязь'\n",
        "\n",
        "\n",
        "class Lava:\n",
        "\n",
        "    def __str__(self):\n",
        "        return self.name\n",
        "\n",
        "    def __init__(self, part1, part2):\n",
        "        self.part1 = part1\n",
        "        self.part2 = part2\n",
        "        self.name = 'Лава'\n",
        "\n",
        "\n",
        "element_1 = Fire()\n",
        "element_2 = Air()\n",
        "element_3 = Aqua()\n",
        "element_4 = Earth()\n",
        "print(element_2 + element_3)\n",
        "print(element_1 + element_3)\n",
        "print(element_4 + element_3)\n",
        "print(element_2 + element_1)\n",
        "print(element_4 + element_2)\n",
        "print(element_4 + element_1)\n",
        "\n",
        "print(Air(), '+', Fire(), '=', Air() + Fire())\n",
        "print(Air(), '+', Earth(), '=', Air() + Earth())\n",
        "print(Fire(), '+', Earth(), '=', Fire() + Earth())\n",
        "\n",
        "\n"
      ],
      "metadata": {
        "colab": {
          "base_uri": "https://localhost:8080/"
        },
        "id": "TjlN_1uvKKxO",
        "outputId": "ac031916-e2f9-49d5-8ffa-75a73b213295"
      },
      "execution_count": 6,
      "outputs": [
        {
          "output_type": "stream",
          "name": "stdout",
          "text": [
            "Шторм\n",
            "Пар\n",
            "Грязь\n",
            "Молния\n",
            "Пыль\n",
            "Лава\n",
            "Водух + Огонь = Молния\n",
            "Водух + Земля = Пыль\n",
            "Огонь + Земля = Лава\n"
          ]
        }
      ]
    },
    {
      "cell_type": "markdown",
      "source": [
        "## Задача 7. Совместное проживание\n",
        "Для того, чтобы понять, стоит ли Артёму жить с кем-то или всё же остаться в гордом одиночестве, он решил провести довольно необычное “исследование”. Для этого он реализовал модель человека и модель дома.\n",
        "Человек может:\n",
        "- Есть (+сытость, -еда)\n",
        "- Работать (-сытость, +деньги)\n",
        "- Играть (-сытость)\n",
        "- Ходить в магазин за едой (+еда, -деньги)\n",
        "\n",
        "У человека есть имя, степень сытости (изначально 50) и дом. \n",
        "\n",
        "В доме есть холодильник с едой (изначально 50 еды) и тумбочка с деньгами (изначально 0 денег)\n",
        "\n",
        "Если сытость человека становится меньше нуля, то человек умирает.\n",
        "\n",
        "Логика действий человека определяется следующим образом:\n",
        "1. Генерируется число кубика от 1 до 6\n",
        "2. Если сытость < 20, то поесть\n",
        "3. Иначе если еды в доме < 10, то сходить в магазин\n",
        "4. Иначе если денег в доме < 50, то работать\n",
        "5. Иначе если кубик равен 1, то работать\n",
        "6. Иначе если кубик равен 2, то поесть\n",
        "7. Иначе играть\n",
        "\n",
        "По такой логике “эксперимента” человеку надо прожить 365 дней.\n",
        "\n",
        "Реализуйте такую программу и создайте двух людей, живущих в одном доме. Проверьте работу программы несколько раз. Надеемся, эти люди живы...\n"
      ],
      "metadata": {
        "id": "s5ZSOIfeKP_A"
      }
    },
    {
      "cell_type": "markdown",
      "source": [
        "# Решение:"
      ],
      "metadata": {
        "id": "c9ps6cWcLJAk"
      }
    },
    {
      "cell_type": "code",
      "source": [
        "from random import *\n",
        "\n",
        "\n",
        "class Home():\n",
        "\n",
        "    def __init__(self):\n",
        "        self.bedside_table = 0\n",
        "        self.fridge = 50\n",
        "\n",
        "\n",
        "class People():\n",
        "    def __init__(self, name):\n",
        "        self.name = name\n",
        "        self.satiety = 50\n",
        "        self.day = 0\n",
        "        self.home = None\n",
        "\n",
        "    def inhabitation(self, home):\n",
        "        self.home = home\n",
        "\n",
        "    def eat(self):\n",
        "        if self.home.fridge > 3:\n",
        "            self.satiety += 20\n",
        "            self.home.fridge -= 4\n",
        "\n",
        "    def buy(self):\n",
        "        if self.home.bedside_table > 24:\n",
        "            self.home.bedside_table -= 25\n",
        "            self.home.fridge += 12\n",
        "\n",
        "    def work(self):\n",
        "        self.satiety -= 20\n",
        "        self.home.bedside_table += 25\n",
        "\n",
        "    def game(self):\n",
        "        self.satiety -= 20\n",
        "\n",
        "    def life(self):\n",
        "        number_1 = randint(1, 6)\n",
        "        if self.satiety < 20:\n",
        "            self.eat()\n",
        "        elif self.home.fridge < 10:\n",
        "            self.buy()\n",
        "        elif self.home.bedside_table < 50:\n",
        "            self.work()\n",
        "        elif number_1 == 1:\n",
        "            self.work()\n",
        "        elif number_1 == 2:\n",
        "            self.eat()\n",
        "        else:\n",
        "            self.game()\n",
        "        self.day += 1\n",
        "\n",
        "\n",
        "people_1 = People('Joe')\n",
        "people_2 = People('Alex')\n",
        "home = Home()\n",
        "people_1.inhabitation(home)\n",
        "people_2.inhabitation(home)\n",
        "while people_1.satiety >= 0 and people_1.home.fridge >= 0 and people_1.home.bedside_table >= 0 and people_1.day != 365 and people_2.satiety >= 0:\n",
        "    people_1.life()\n",
        "    people_2.life()\n",
        "if people_1.day == 365:\n",
        "    print('Люди выжили.')\n",
        "else:\n",
        "    print('Они прожили', people_1.day)\n",
        "print('People_1: satiety ({}), People_2: satiety ({}), fridge ({}), bedside_table ({})'.format\n",
        "      (people_1.satiety, people_2.satiety, people_1.home.fridge, people_1.home.bedside_table))\n"
      ],
      "metadata": {
        "colab": {
          "base_uri": "https://localhost:8080/"
        },
        "id": "tyXZyiXcKTEA",
        "outputId": "0c04991b-0721-4750-8549-bee99cb59229"
      },
      "execution_count": 7,
      "outputs": [
        {
          "output_type": "stream",
          "name": "stdout",
          "text": [
            "Люди выжили.\n",
            "People_1: satiety (30), People_2: satiety (10), fridge (10), bedside_table (75)\n"
          ]
        }
      ]
    },
    {
      "cell_type": "markdown",
      "source": [
        "## Задача 8. Блэкджек\n",
        "Костя так и не смог завязать с азартными играми. Но перед тем, как в очередной раз всё проиграть, он решил как следует подготовиться. И написать программу, на которой он будет тренироваться играть в Блэкджек.\n",
        "\n",
        "Блэкджек также известен как 21. Суть игры проста: либо набрать ровно 21 очко либо набрать очков больше, чем в руках у дилера, но ни в коем случае не больше 21. Если игрок собирает больше 21, он «сгорает». В случае ничьей игрок и дилер остаются при своих.\n",
        "\n",
        "Карты имеют такие “ценовые” значения:\n",
        "- от двойки до десятки — от 2 до 10 соответственно\n",
        "- у туза — 1 или 11 (11 пока общая сумма не больше 21, далее 1)\n",
        "- у “картинок” (король, дама, валет) — 10\n",
        "\n",
        "Напишите программу, которая в начале случайным образом выдаёт пользователю и компьютеру по две карты и затем запрашивает у пользователя действие: взять карту или остановиться. На экран должна выдаваться информация о руке пользователя. После того, как игрок останавливается, выведите на экран победителя.\n",
        "\n",
        "Представление карты реализуйте с помощью класса.\n",
        "\n",
        "Дополнительно: сделайте так, чтобы карты не могли повторяться."
      ],
      "metadata": {
        "id": "m3fUsdn_KWqa"
      }
    },
    {
      "cell_type": "markdown",
      "source": [
        "# Решение:"
      ],
      "metadata": {
        "id": "SPscM7baLJlZ"
      }
    },
    {
      "cell_type": "code",
      "source": [
        "from random import choice\n",
        "\n",
        "\n",
        "class Card():\n",
        "\n",
        "    def __init__(self, name, points):\n",
        "        self.name = name\n",
        "        self.points = points\n",
        "\n",
        "    def return_name(self):\n",
        "        return self.name\n",
        "\n",
        "    def return_points(self):\n",
        "        return self.points\n",
        "\n",
        "\n",
        "class Deck():\n",
        "\n",
        "    def __init__(self):\n",
        "        self.deck = {'2': 2, '3': 3, '4': 4, '5': 5, '6': 6, '7': 7, '8': 8, '9': 9, '10': 10, 'Jack': 10, 'Queen': 10,\n",
        "                     'King': 10, 'Ace': 11}\n",
        "\n",
        "    def return_random(self):\n",
        "        return choice(list(self.deck.keys()))\n",
        "\n",
        "\n",
        "class Player():\n",
        "    def __init__(self, name):\n",
        "        self.name = name\n",
        "        self.listt = []\n",
        "        self.summ = 0\n",
        "\n",
        "    def card_request(self):\n",
        "        card = deck.return_random()\n",
        "        if card == 'Ace' and self.summ > 10:\n",
        "            self.summ += 1\n",
        "            self.listt.append(Card(card, 1))\n",
        "        else:\n",
        "            self.summ += deck.deck[card]\n",
        "            self.listt.append(Card(card, deck.deck[card]))\n",
        "\n",
        "    def return_summ(self):\n",
        "        return self.summ\n",
        "\n",
        "\n",
        "class Dealer():\n",
        "    def __init__(self, name):\n",
        "        self.name = name\n",
        "        self.listt = []\n",
        "        self.summ = 0\n",
        "\n",
        "    def card_request(self):\n",
        "        card = deck.return_random()\n",
        "        self.listt.append(Card(card, deck.deck[card]))\n",
        "        if card == 'Ace' and self.summ > 10:\n",
        "            self.listt.append(Card(card, 1))\n",
        "            self.summ += 1\n",
        "        else:\n",
        "            self.listt.append(Card(card, deck.deck[card]))\n",
        "            self.summ += deck.deck[card]\n",
        "\n",
        "    def return_summ(self):\n",
        "        return self.summ\n",
        "\n",
        "    def game(self, people):\n",
        "        print('Вы', people.name)\n",
        "        while True:\n",
        "            print('У', people.name, people.return_summ(), 'очков, у', self.name, self.return_summ(), 'очков')\n",
        "            motion = int(input('Выберите действие: взять карту (1) или остановиться (2)'))\n",
        "            if 1 == motion:\n",
        "                people.card_request()\n",
        "            else:\n",
        "                break\n",
        "            if people.summ > 21:\n",
        "                break\n",
        "        if people.summ > 21:\n",
        "            print('Проиграл', people.name, ', количество ваших очков:', people.return_summ())\n",
        "        elif people.summ > self.summ:\n",
        "            print('Выйграл', people.name)\n",
        "        elif people.summ < self.summ:\n",
        "            print('Выйграл', self.name)\n",
        "        else:\n",
        "            print('Ничья')\n",
        "\n",
        "\n",
        "deck = Deck()\n",
        "player = Player('Joe')\n",
        "dealer = Dealer('Alex')\n",
        "player.card_request()\n",
        "player.card_request()\n",
        "dealer.card_request()\n",
        "dealer.card_request()\n",
        "dealer.game(player)"
      ],
      "metadata": {
        "colab": {
          "base_uri": "https://localhost:8080/"
        },
        "id": "k3TyIFiHKZZk",
        "outputId": "2bbdf7ff-073c-46dd-9ea9-d82f50136b00"
      },
      "execution_count": 8,
      "outputs": [
        {
          "output_type": "stream",
          "name": "stdout",
          "text": [
            "Вы Joe\n",
            "У Joe 8 очков, у Alex 12 очков\n",
            "Выберите действие: взять карту (1) или остановиться (2)1\n",
            "У Joe 17 очков, у Alex 12 очков\n",
            "Выберите действие: взять карту (1) или остановиться (2)2\n",
            "Выйграл Joe\n"
          ]
        }
      ]
    },
    {
      "cell_type": "markdown",
      "source": [
        "## Задача 9. Крестики-нолики\n",
        "Напишите программу, которая реализует игру Крестики-нолики. Да, это всё условие задачи. \n"
      ],
      "metadata": {
        "id": "iV6Osqw4KjVr"
      }
    },
    {
      "cell_type": "markdown",
      "source": [
        "# Решение:"
      ],
      "metadata": {
        "id": "P3m4x8JKLKpy"
      }
    },
    {
      "cell_type": "code",
      "source": [
        "from random import *\n",
        "\n",
        "\n",
        "class Game():\n",
        "    line_1 = [' ', ' ', ' ']\n",
        "    line_2 = [' ', ' ', ' ']\n",
        "    line_3 = [' ', ' ', ' ']\n",
        "\n",
        "    def picture(self):\n",
        "        for counter in self.line_1:\n",
        "            print('|', end='')\n",
        "            print(counter, end='')\n",
        "        print('|')\n",
        "        for counter in self.line_2:\n",
        "            print('|', end='')\n",
        "            print(counter, end='')\n",
        "        print('|')\n",
        "        for counter in self.line_3:\n",
        "            print('|', end='')\n",
        "            print(counter, end='')\n",
        "        print('|')\n",
        "\n",
        "    def player_symbol(self):\n",
        "        while True:\n",
        "            line = int(input('Напишите номер лини на которой вы хотите поставить X '))\n",
        "            post = int(input('Напишите номер столба на которой вы хотите поставить X ')) - 1\n",
        "            if line == 1:\n",
        "                if self.line_1[post] == ' ':\n",
        "                    self.line_1[post] = 'X'\n",
        "                    break\n",
        "                else:\n",
        "                    print('Там уже стоит символ')\n",
        "            elif line == 2:\n",
        "                if self.line_2[post] == ' ':\n",
        "                    self.line_2[post] = 'X'\n",
        "                    break\n",
        "                else:\n",
        "                    print('Там уже стоит символ')\n",
        "            elif line == 3:\n",
        "                if self.line_3[post] == ' ':\n",
        "                    self.line_3[post] = 'X'\n",
        "                    break\n",
        "                else:\n",
        "                    print('Там уже стоит символ')\n",
        "\n",
        "    def computer_symbol(self):\n",
        "        while True:\n",
        "            line = randint(1, 3)\n",
        "            post = randint(1, 3) - 1\n",
        "            if line == 1:\n",
        "                if self.line_1[post] == ' ':\n",
        "                    self.line_1[post] = '0'\n",
        "                    break\n",
        "            elif line == 2:\n",
        "                if self.line_2[post] == ' ':\n",
        "                    self.line_2[post] = '0'\n",
        "                    break\n",
        "            elif line == 3:\n",
        "                if self.line_3[post] == ' ':\n",
        "                    self.line_3[post] = '0'\n",
        "                    break\n",
        "\n",
        "    def check_1(self):\n",
        "        if self.line_1.count('X') == 3 or self.line_2.count('X') == 3 or self.line_3.count('X') == 3:\n",
        "            print('Вы выйграли')\n",
        "            return 'break'\n",
        "        elif self.line_1.count('0') == 3 or self.line_2.count('0') == 3 or self.line_3.count('0') == 3:\n",
        "            print('Вы проиграли')\n",
        "            return 'break'\n",
        "        elif self.line_1[0] == 'X' and self.line_2[0] == 'X' and self.line_3[0] == 'X':\n",
        "            print('Вы выйграли')\n",
        "            return 'break'\n",
        "        elif self.line_1[1] == 'X' and self.line_2[1] == 'X' and self.line_3[1] == 'X':\n",
        "            print('Вы выйграли')\n",
        "            return 'break'\n",
        "        elif self.line_1[2] == 'X' and self.line_2[2] == 'X' and self.line_3[2] == 'X':\n",
        "            print('Вы выйграли')\n",
        "            return 'break'\n",
        "\n",
        "    def check_2(self):\n",
        "        if self.line_1[0] == '0' and self.line_2[0] == '0' and self.line_3[0] == '0':\n",
        "            print('Вы проиграли')\n",
        "            return 'break'\n",
        "        elif self.line_1[1] == '0' and self.line_2[1] == '0' and self.line_3[1] == '0':\n",
        "            print('Вы проиграли')\n",
        "            return 'break'\n",
        "        elif self.line_1[2] == '0' and self.line_2[2] == '0' and self.line_3[2] == '0':\n",
        "            print('Вы проиграли')\n",
        "            return 'break'\n",
        "        elif self.line_1[0] == 'X' and self.line_2[1] == 'X' and self.line_3[2] == 'X':\n",
        "            print('Вы выйграли')\n",
        "            return 'break'\n",
        "        elif self.line_1[2] == 'X' and self.line_2[1] == 'X' and self.line_3[0] == 'X':\n",
        "            print('Вы выйграли')\n",
        "            return 'break'\n",
        "\n",
        "    def check_3(self):\n",
        "        if self.line_1[0] == '0' and self.line_2[1] == '0' and self.line_3[2] == '0':\n",
        "            print('Вы проиграли')\n",
        "            return 'break'\n",
        "        elif self.line_1[2] == '0' and self.line_2[1] == '0' and self.line_3[0] == '0':\n",
        "            print('Вы проиграли')\n",
        "            return 'break'\n",
        "        elif self.line_1.count(' ') == 0 and self.line_2.count(' ') == 0 and self.line_3.count(' ') == 0:\n",
        "            print('Ничья')\n",
        "            return 'break'\n",
        "\n",
        "    def game(self):\n",
        "        while True:\n",
        "            self.picture()\n",
        "            self.player_symbol()\n",
        "            self.computer_symbol()\n",
        "            if self.check_1() == 'break' or self.check_2() == 'break' or self.check_3() == 'break':\n",
        "                break\n",
        "        self.picture()\n",
        "\n",
        "\n",
        "game = Game()\n",
        "game.game()\n"
      ],
      "metadata": {
        "colab": {
          "base_uri": "https://localhost:8080/"
        },
        "id": "A2NeF66cKlRH",
        "outputId": "295457f2-995a-43e6-a540-d39fc88d47ac"
      },
      "execution_count": 10,
      "outputs": [
        {
          "output_type": "stream",
          "name": "stdout",
          "text": [
            "| | | |\n",
            "| | | |\n",
            "| | | |\n",
            "Напишите номер лини на которой вы хотите поставить X 3\n",
            "Напишите номер столба на которой вы хотите поставить X 3\n",
            "| | | |\n",
            "| | |0|\n",
            "| | |X|\n",
            "Напишите номер лини на которой вы хотите поставить X 3\n",
            "Напишите номер столба на которой вы хотите поставить X 1\n",
            "|0| | |\n",
            "| | |0|\n",
            "|X| |X|\n",
            "Напишите номер лини на которой вы хотите поставить X 3\n",
            "Напишите номер столба на которой вы хотите поставить X 2\n",
            "Вы выйграли\n",
            "|0| | |\n",
            "| |0|0|\n",
            "|X|X|X|\n"
          ]
        }
      ]
    }
  ]
}