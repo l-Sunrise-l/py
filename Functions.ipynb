{
  "nbformat": 4,
  "nbformat_minor": 0,
  "metadata": {
    "colab": {
      "provenance": []
    },
    "kernelspec": {
      "name": "python3",
      "display_name": "Python 3"
    },
    "language_info": {
      "name": "python"
    }
  },
  "cells": [
    {
      "cell_type": "markdown",
      "source": [
        "##Задача 1. Challenge 2\n",
        "Вдохновившись мотивацией Антона, ваш друг тоже решил поставить перед собой задачу, но не сильно связанную с математикой, а именно - написать функцию, которая выводит все числа от 1 до num без использования циклов. Помогите другу реализовать такую функцию.\n"
      ],
      "metadata": {
        "id": "7iyJ-hBJmbFA"
      }
    },
    {
      "cell_type": "code",
      "source": [
        "def consecutive_numbers(number, counter=1):\n",
        "    print(counter)\n",
        "    if counter < number:\n",
        "        consecutive_numbers(number, counter + 1)\n",
        "\n",
        "\n",
        "number = int(input('Введите число: '))\n",
        "consecutive_numbers(number)\n"
      ],
      "metadata": {
        "colab": {
          "base_uri": "https://localhost:8080/"
        },
        "id": "Cg5Knn3LmfGN",
        "outputId": "ea313c84-d3b5-4458-ee03-70f26cb57c3e"
      },
      "execution_count": 1,
      "outputs": [
        {
          "output_type": "stream",
          "name": "stdout",
          "text": [
            "Введите число: 10\n",
            "1\n",
            "2\n",
            "3\n",
            "4\n",
            "5\n",
            "6\n",
            "7\n",
            "8\n",
            "9\n",
            "10\n"
          ]
        }
      ]
    },
    {
      "cell_type": "markdown",
      "source": [
        "##Задача 2. Свой zip 2\n",
        "Написав аналог функции zip на собеседовании вы вспомнили, что этот код можно сделать даже лучше, и резко вырвали листок с кодом из рук работодателя, оставив его в прострации.\n",
        "\n",
        "Напишите функцию, которая будет являться полным аналогом функции zip и сделайте так, чтобы программа работала с любыми итерируемыми типами данных. Циклами и условными операторами (ровно как и функцией isinstance или type) пользоваться нельзя.\n"
      ],
      "metadata": {
        "id": "7maeGX9tm9wg"
      }
    },
    {
      "cell_type": "code",
      "source": [
        "def zip_2(text_1, text_2):\n",
        "    minn = min(len(text_1), len(text_2))\n",
        "    listt_1 = [counter for counter in text_1]\n",
        "    listt_2 = [counter for counter in text_2]\n",
        "    answer = ((listt_1[counter], listt_2[counter]) for counter in range(minn))\n",
        "    return answer\n",
        "\n",
        "\n",
        "text_1 = (1, 2, 3, 4, 5)\n",
        "text_2 = {'r': 4, 't': 5, 'g': 6}\n",
        "for counter in zip_2(text_1, text_2):\n",
        "    print(counter)\n"
      ],
      "metadata": {
        "colab": {
          "base_uri": "https://localhost:8080/"
        },
        "id": "p3lmacUCnAcL",
        "outputId": "8a7480f3-1ce4-45d9-98f6-b270dde1eb4e"
      },
      "execution_count": 2,
      "outputs": [
        {
          "output_type": "stream",
          "name": "stdout",
          "text": [
            "(1, 'r')\n",
            "(2, 't')\n",
            "(3, 'g')\n"
          ]
        }
      ]
    },
    {
      "cell_type": "markdown",
      "source": [
        "##Задача 3. Ряд Фибоначчи\n",
        "Числа Фибоначчи – это ряд чисел, в котором каждое следующее число равно сумме двух предыдущих: 1, 1, 2, 3, 5, 8, 13, …\n",
        "\n",
        "Пользователь вводит num_pos. Напишите функцию, которая выводит число, которое стоит на позиции num_pos в ряде Фибоначчи\n"
      ],
      "metadata": {
        "id": "Qu5WVS0YnDPq"
      }
    },
    {
      "cell_type": "code",
      "source": [
        "def function(number):\n",
        "    if number < 3:\n",
        "        return 1\n",
        "    return function(number - 1) + function(number - 2)\n",
        "\n",
        "\n",
        "number = int(input('Введите позицию числа в ряде Фибоначчи: '))\n",
        "print(function(number))"
      ],
      "metadata": {
        "colab": {
          "base_uri": "https://localhost:8080/"
        },
        "id": "xJBWqfKMnFut",
        "outputId": "d7e55c55-6d14-4930-aad9-8d2c30aec08f"
      },
      "execution_count": 5,
      "outputs": [
        {
          "output_type": "stream",
          "name": "stdout",
          "text": [
            "Введите позицию числа в ряде Фибоначчи: 10\n",
            "55\n"
          ]
        }
      ]
    },
    {
      "cell_type": "markdown",
      "source": [
        "##Задача 4. Поиск элемента 2\n",
        "Пользователь вводит искомый ключ. Также, если он хочет, то может ввести максимальную глубину, -это уровень, до которого будет просматриваться структура. Напишите функцию, которая находит заданный пользователем ключ в словаре и выдаёт значение этого ключа на экран. По умолчанию уровень не задан.  В качестве примера можно использовать вот такой словарь:\n",
        "\n",
        "````python\n",
        "site = {\n",
        "\t'html': {\n",
        "\t\t'head': {\n",
        "\t\t\t'title': 'Мой сайт'\n",
        "\t\t},\n",
        "\t\t'body': {\n",
        "\t\t\t'h2': 'Здесь будет мой заголовок',\n",
        "\t\t\t'div': 'Тут, наверное, какой-то блок',\n",
        "\t\t\t'p': 'А вот здесь новый абзац'\n",
        "\t\t}\n",
        "\t}\n",
        "}\n",
        "````"
      ],
      "metadata": {
        "id": "cQzGXn2bnS_G"
      }
    },
    {
      "cell_type": "code",
      "source": [
        "def find_key(sitee, key, deep):\n",
        "    deep -= 1\n",
        "    if deep == -1:\n",
        "        return None\n",
        "    if key in sitee:\n",
        "        return sitee[key]\n",
        "    for counter in sitee.values():\n",
        "        if isinstance(counter, dict):\n",
        "            result = find_key(counter, key, deep)\n",
        "            if result:\n",
        "                return result\n",
        "\n",
        "\n",
        "site = {\n",
        "\n",
        "    'html': {\n",
        "\n",
        "        'head': {\n",
        "\n",
        "            'title': 'Мой сайт'\n",
        "\n",
        "        },\n",
        "\n",
        "        'body': {\n",
        "\n",
        "            'h2': 'Здесь будет мой заголовок',\n",
        "\n",
        "            'div': 'Тут, наверное, какой-то блок',\n",
        "\n",
        "            'p': 'А вот здесь новый абзац'\n",
        "\n",
        "        }\n",
        "\n",
        "    }\n",
        "\n",
        "}\n",
        "key = input('Введите ключ: ')\n",
        "deep = int(input('Введите глубину: '))\n",
        "value = find_key(site, key, deep)\n",
        "if value:\n",
        "    print(value)\n",
        "else:\n",
        "    print('Такого ключа нет.')\n"
      ],
      "metadata": {
        "colab": {
          "base_uri": "https://localhost:8080/"
        },
        "id": "J69hMbabnWbA",
        "outputId": "9db5e0f3-ffb2-468f-c237-36ed1476bfdb"
      },
      "execution_count": 11,
      "outputs": [
        {
          "output_type": "stream",
          "name": "stdout",
          "text": [
            "Введите ключ: h2\n",
            "Введите глубину: 3\n",
            "Здесь будет мой заголовок\n"
          ]
        }
      ]
    },
    {
      "cell_type": "markdown",
      "source": [
        "##Задача 5. Ускоряем работу функции\n",
        "У нас есть функция, которая делает определённые действия с входными данными:\n",
        "1. Берёт факториал от числа\n",
        "2. Результат делит на куб входного числа\n",
        "3. И получившиеся число возводит в 10 степень\n",
        "\n",
        "````python\n",
        "def calculating_math_func(data):\n",
        "\tresult = 1\n",
        "\tfor index in range(1, data + 1):\n",
        "\t\tresult *= index\n",
        "\tresult /= data ** 3\n",
        "\tresult = result ** 10\n",
        "\treturn result\n",
        "````\n",
        "\n",
        "Однако каждый раз нам приходится делать сложные вычисления, хотя входные и выходные данные одни и те же. И тут наши знания тонкостей python должны нам помочь.\n",
        "\n",
        "Оптимизируйте функцию так, чтобы высчитывать факториал для одного и того же числа только один раз. \n",
        "\n",
        "Подсказка: вспомните что происходит с изменяемыми данными, если их выставить по умолчанию в параметрах функции.\n",
        "\n"
      ],
      "metadata": {
        "id": "hWKfHSoEn57i"
      }
    },
    {
      "cell_type": "code",
      "source": [
        "import math\n",
        "\n",
        "\n",
        "def calculating_math_func(number, listt={}):\n",
        "    if listt.get(number) == None:\n",
        "        listt[number] = math.factorial(number)\n",
        "    result = listt[number]\n",
        "    result /= number ** 3\n",
        "    result = result ** 10\n",
        "    return result\n",
        "\n",
        "\n",
        "number = int(input('Введите число: '))\n",
        "print(calculating_math_func(number))\n"
      ],
      "metadata": {
        "colab": {
          "base_uri": "https://localhost:8080/"
        },
        "id": "icGcke6Qn-Ye",
        "outputId": "56f08e17-21e3-4665-c417-18e04d31e627"
      },
      "execution_count": 12,
      "outputs": [
        {
          "output_type": "stream",
          "name": "stdout",
          "text": [
            "Введите число: 10\n",
            "3.9594086612242536e+35\n"
          ]
        }
      ]
    },
    {
      "cell_type": "markdown",
      "source": [
        "##Задача 6. Глубокое копирование\n",
        "Вы сделали структуру сайта для заказчика для продажи телефонов\n",
        "\n",
        "````python\n",
        "site = {\n",
        "\t'html': {\n",
        "\t\t'head': {\n",
        "\t\t\t'title': 'Куплю/продам телефон недорого'\n",
        "\t\t},\n",
        "\t\t'body': {\n",
        "\t\t\t'h2': 'У нас самая низкая цена на iphone',\n",
        "\t\t\t'div': 'Купить',\n",
        "\t\t\t'p': 'продать'\n",
        "\t\t}\n",
        "\t}\n",
        "}\n",
        "````\n",
        "Заказчик рассказал своим коллегам на рынке и они тоже захотели такой сайт, только для своих товаров. Вы посчитали, что это легкая задача и быстро принялись за работу. \n",
        "\n",
        "Напишите программу, которая запрашивает у клиента сколько будет сайтов, а затем запрашивает название продукта и после каждого запроса выводит на экран активные сайты.\n",
        "Условия структуру сайта нужно описать один раз, копипасту никто не любит.\n",
        "\n",
        "Подсказка: используйте рекурсию\n"
      ],
      "metadata": {
        "id": "RodilhktoJN9"
      }
    },
    {
      "cell_type": "code",
      "source": [
        "site = {\n",
        "    'html': {\n",
        "        'head': {\n",
        "            'title': 'Куплю/продам {} недорого'\n",
        "        },\n",
        "        'body': {\n",
        "            'h2': 'У нас самая низкая цена на {}',\n",
        "            'div': 'Купить',\n",
        "            'p': 'продать'\n",
        "        }\n",
        "    }\n",
        "}\n",
        "\n",
        "\n",
        "def function(site, text, word):\n",
        "    for key, counter in site.items():\n",
        "        if isinstance(counter, dict):\n",
        "            function(counter, text, word)\n",
        "        else:\n",
        "            site[key] = counter.replace(word, text)\n",
        "\n",
        "\n",
        "def function_1(site, counter=0):\n",
        "    for key, values in site.items():\n",
        "        counter += 1\n",
        "        if key == 'body':\n",
        "            counter -= 1\n",
        "        if isinstance(values, dict):\n",
        "            print('    ' * counter + key)\n",
        "            function_1(values, counter)\n",
        "        else:\n",
        "            print('    ' * counter + key, values)\n",
        "            counter -= 1\n",
        "\n",
        "\n",
        "# def function_1(site, counter=0):\n",
        "#     for key, values in site.items():\n",
        "#         if isinstance(values, dict):\n",
        "#             print('    ' * counter + key)\n",
        "#             function_1(values, counter + 2)\n",
        "#         else:\n",
        "#             print('    ' * counter + key, values)\n",
        "\n",
        "\n",
        "number = int(input('Сколько сайтов: '))\n",
        "word = '{}'\n",
        "for _ in range(number):\n",
        "    text = input('Введите название продукта для нового сайта: ')\n",
        "    print('site = {')\n",
        "    function(site, text, word)\n",
        "    function_1(site)\n",
        "    for counter in range(2, -1, -1):\n",
        "        print('    ' * counter + '}')\n",
        "    word = text\n"
      ],
      "metadata": {
        "colab": {
          "base_uri": "https://localhost:8080/"
        },
        "id": "YLWgrfN8oM3R",
        "outputId": "93a5fe64-6ed8-429a-8a14-ab5091e0e2b4"
      },
      "execution_count": 14,
      "outputs": [
        {
          "output_type": "stream",
          "name": "stdout",
          "text": [
            "Сколько сайтов: 2\n",
            "Введите название продукта для нового сайта: iphone\n",
            "site = {\n",
            "    html\n",
            "        head\n",
            "            title Куплю/продам iphone недорого\n",
            "        body\n",
            "            h2 У нас самая низкая цена на iphone\n",
            "            div Купить\n",
            "            p продать\n",
            "        }\n",
            "    }\n",
            "}\n",
            "Введите название продукта для нового сайта: samsung\n",
            "site = {\n",
            "    html\n",
            "        head\n",
            "            title Куплю/продам samsung недорого\n",
            "        body\n",
            "            h2 У нас самая низкая цена на samsung\n",
            "            div Купить\n",
            "            p продать\n",
            "        }\n",
            "    }\n",
            "}\n"
          ]
        }
      ]
    },
    {
      "cell_type": "markdown",
      "source": [
        "##Задача 7. Продвинутая функция sum \n",
        "Как мы знаем, в Питоне есть полезная функция sum, которая умеет находить сумму элементов списков. Однако, для работы иногда базовых возможностей функций не хватает и приходится их усовершенствовать.\n",
        " \n",
        "Напишите свою функцию sum, которая должна быть более гибкой, чем стандартная функция sum. Вот что она должна уметь делать:\n",
        "Складывать числа из списка списков, например: \n",
        "Складывать из набора параметров: \n"
      ],
      "metadata": {
        "id": "K0P1VVSronBX"
      }
    },
    {
      "cell_type": "code",
      "source": [
        "def summ(listt, counter_1=0):\n",
        "    for counter in listt:\n",
        "        if not isinstance(counter, int):\n",
        "            counter = summ(counter)\n",
        "        counter_1 += counter\n",
        "    return counter_1\n",
        "\n",
        "\n",
        "listt = (1, 2, 3, 4, 5)\n",
        "listt_1 = [[1, 2, [3, [[[20]]]]], [1], 3]\n",
        "print(summ(listt))\n",
        "print(summ(listt_1))"
      ],
      "metadata": {
        "colab": {
          "base_uri": "https://localhost:8080/"
        },
        "id": "FbNkw5DWopbc",
        "outputId": "ce88de8c-3031-4783-e303-17da38ed598c"
      },
      "execution_count": 15,
      "outputs": [
        {
          "output_type": "stream",
          "name": "stdout",
          "text": [
            "15\n",
            "30\n"
          ]
        }
      ]
    },
    {
      "cell_type": "markdown",
      "source": [
        "##Задача 8. Список списков 2\n",
        "Мы уже работали с многомерными списками и решали задачи, где с помощью list comprehensions “выпрямляли” его в один. Однако, такой фокус не пройдёт, если у элементов разные уровни вложенности и этих списков неограниченное количество.\n",
        "\n",
        "Дан вот такой список:\n",
        "````python\n",
        "nice_list = [1, 2, [3, 4], [[5, 6, 7], [8, 9, 10]], \n",
        "             [[11, 12, 13], [14, 15], [16, 17, 18]]]\n",
        "````\n",
        "\n",
        "Напишите рекурсивную функцию, которая “раскрывает” все вложенные списки, то есть оставляет только внешний список.\n"
      ],
      "metadata": {
        "id": "qc4BsrW8ozAe"
      }
    },
    {
      "cell_type": "code",
      "source": [
        "nice_list = [1, 2, [3, 4], [[5, 6, 7], [8, 9, 10]], [[11, 12, 13], [14, 15], [16, 17, 18]]]\n",
        "\n",
        "\n",
        "def function(numbers):\n",
        "    if numbers == []:\n",
        "        return []\n",
        "    variable = numbers[0]\n",
        "    if isinstance(variable, list):\n",
        "        return function(variable) + function(numbers[1:])\n",
        "    else:\n",
        "        return [variable] + function(numbers[1:])\n",
        "\n",
        "\n",
        "print(function(nice_list))\n"
      ],
      "metadata": {
        "colab": {
          "base_uri": "https://localhost:8080/"
        },
        "id": "PXyChxj8o-l_",
        "outputId": "435342df-fa8b-4c38-e273-381c4484aa78"
      },
      "execution_count": 16,
      "outputs": [
        {
          "output_type": "stream",
          "name": "stdout",
          "text": [
            "[1, 2, 3, 4, 5, 6, 7, 8, 9, 10, 11, 12, 13, 14, 15, 16, 17, 18]\n"
          ]
        }
      ]
    },
    {
      "cell_type": "markdown",
      "source": [
        "##Задача 9. Ханойские башни\n",
        "Ниже представлен текст одной из классических головоломок и, по совместительству, алгоритмических задач по программированию. С ней знакомы многие, в том числе и те, кто с программированием никак не связан.\n",
        "\n",
        "Головоломка “Ханойские башни” состоит из трех стержней, пронумерованных числами 1, 2, 3. На стержень 1 надета пирамидка из N дисков различного диаметра в порядке возрастания диаметра. Диски можно перекладывать с одного стержня на другой по одному, при этом диск нельзя класть на диск меньшего диаметра. Необходимо переложить всю пирамидку со стержня 1 на стержень 3 за минимальное число перекладываний.\n",
        "\n",
        "Напишите программу, которая решает головоломку; для данного числа дисков N печатает последовательность перекладываний в формате A B C, где A — номер перекладываемого диска, B — номер стержня с которого снимается данный диск, C — номер стержня на который надевается данный диск.\n",
        "\n",
        "Например, строка 1 2 3 означает перемещение диска номер 1 со стержня 2 на стержень 3. В одной строке печатается одна команда. Диски пронумерованы числами от 1 до n в порядке возрастания диаметров.\n",
        "\n",
        "Программа должна вывести минимальный (по количеству произведенных операций) способ перекладывания пирамидки из данного числа дисков.\n",
        "Решение оформите в виде функции move (n, x, y), которая печатает последовательность перекладываний дисков для перемещения пирамидки высоты N со стержня номер X на стержень номер Y.\n",
        "\n"
      ],
      "metadata": {
        "id": "LOHFJaDApD6Y"
      }
    },
    {
      "cell_type": "code",
      "source": [
        "def function(number_1, number_2=1, number_3=3):\n",
        "    if number_1 == 1:\n",
        "        print('Переложить диск', 1, 'со стержня номер', number_2, 'на стержень номер ' + str(number_3))\n",
        "    else:\n",
        "        function(number_1 - 1, number_2, 6 - number_2 - number_3)\n",
        "        print('Переложить диск', number_1, 'со стержня номер', number_2, 'на стержень номер ' + str(number_3))\n",
        "        function(number_1 - 1, 6 - number_2 - number_3, number_3)\n",
        "\n",
        "\n",
        "number = int(input('Введите количество дисков: '))\n",
        "function(number)\n"
      ],
      "metadata": {
        "colab": {
          "base_uri": "https://localhost:8080/"
        },
        "id": "KlnB_GtepEfQ",
        "outputId": "84188848-14b8-4d1d-e511-c26976fe856c"
      },
      "execution_count": 18,
      "outputs": [
        {
          "output_type": "stream",
          "name": "stdout",
          "text": [
            "Введите количество дисков: 2\n",
            "Переложить диск 1 со стержня номер 1 на стержень номер 2\n",
            "Переложить диск 2 со стержня номер 1 на стержень номер 3\n",
            "Переложить диск 1 со стержня номер 2 на стержень номер 3\n"
          ]
        }
      ]
    }
  ]
}