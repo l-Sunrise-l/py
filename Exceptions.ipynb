{
  "nbformat": 4,
  "nbformat_minor": 0,
  "metadata": {
    "colab": {
      "provenance": []
    },
    "kernelspec": {
      "name": "python3",
      "display_name": "Python 3"
    },
    "language_info": {
      "name": "python"
    }
  },
  "cells": [
    {
      "cell_type": "markdown",
      "source": [
        "## Задача 1. Имена 2\n",
        "Есть people.txt, в котором построчно хранится N имен пользователей. \n",
        "Напишите программу, которая берёт количество символов в каждой строке файла и в качестве ответа выводит общую сумму. Если в какой-либо строке меньше трёх символов (не считая литерала \\n), то вызывается ошибка и сообщение в какой именно строке ошибка возника. Программа при этом не завершается и обрабатывает все имена файла.\n",
        "\n",
        "Также при желании можно вывести все ошибки в отдельный файл errors.log\n",
        "\n"
      ],
      "metadata": {
        "id": "bKcOnPsF-nP0"
      }
    },
    {
      "cell_type": "markdown",
      "source": [
        "# Решение:"
      ],
      "metadata": {
        "id": "tyeLOllC2Mg3"
      }
    },
    {
      "cell_type": "code",
      "source": [
        "with open('people.txt', 'w') as data:\n",
        "  data.write('Harry\\n')\n",
        "  data.write('Mervin\\n')\n",
        "  data.write('Tamsyn\\n')\n",
        "  data.write('Mo\\n')\n",
        "  data.write('We\\n')\n",
        "\n",
        "counter_1 = 0\n",
        "summ = 1\n",
        "with open('people.txt', 'r') as data:\n",
        "    for counter in data:\n",
        "        try:\n",
        "            counter_1 += 1\n",
        "            lenn = len(counter) - 1\n",
        "            if lenn < 3:\n",
        "                raise BaseException\n",
        "            summ += lenn\n",
        "        except BaseException:\n",
        "            with open('errors.log', 'w') as data:\n",
        "              data.write('BaseException: ' + counter)\n",
        "            print('Длина {} строки меньше 3 символов'.format(counter_1))\n",
        "print(summ)\n"
      ],
      "metadata": {
        "colab": {
          "base_uri": "https://localhost:8080/"
        },
        "id": "ZV8pEc2s-nj6",
        "outputId": "b86b68a1-7cac-4d32-801a-ff53b3603eac"
      },
      "execution_count": 2,
      "outputs": [
        {
          "output_type": "stream",
          "name": "stdout",
          "text": [
            "Длина 4 строки меньше 3 символов\n",
            "Длина 5 строки меньше 3 символов\n",
            "18\n"
          ]
        }
      ]
    },
    {
      "cell_type": "markdown",
      "source": [
        "## Задача 2. Координаты\n",
        "Есть файл coordinates.txt в котором хранится N пар из чисел X и Y. Оба числа передаются в первую функцию, где к каждой координате прибавляется случайное число (от 0 до 5 и от 0 до 10) и возвращается результат деления X на Y. Затем эти же координаты передаются во вторую функцию, где уже отнимается случайное число и возвращается Y поделить на X.\n",
        "После этого формируется случайное число от 0 до 100 и затем в файл result.txt в каждую строку записывается отсортированный список, состоящий из этого случайного числа и двух полученных результатов.\n",
        "\n",
        "Один программист уже написал за нас программу для этой задачи, но “почему-то” его вариант решения отклонили. (код см. в main.py)\n",
        "\n",
        "Отредактируйте и исправьте программу, убрав при этом лишние вложенности try except.\n"
      ],
      "metadata": {
        "id": "HMv5zQUTALgr"
      }
    },
    {
      "cell_type": "markdown",
      "source": [
        "# Решение:"
      ],
      "metadata": {
        "id": "FZpFmCybHvAm"
      }
    },
    {
      "cell_type": "code",
      "source": [
        "import random\n",
        "\n",
        "\n",
        "def f(x, y):\n",
        "    x += random.randint(0, 10)\n",
        "\n",
        "    y += random.randint(0, 5)\n",
        "\n",
        "    return x / y\n",
        "\n",
        "\n",
        "def f2(x, y):\n",
        "    x -= random.randint(0, 10)\n",
        "\n",
        "    y -= random.randint(0, 5)\n",
        "\n",
        "    return y / x\n",
        "\n",
        "with open('coordinates.py', 'w') as data:\n",
        "  data.write('2 -5\\n')\n",
        "  data.write('4 5\\n')\n",
        "  data.write('6 -2\\n')\n",
        "  data.write('4 9\\n')\n",
        "  data.write('4 8\\n')\n",
        "  data.write('5 -3\\n')\n",
        "  data.write('1 2\\n')\n",
        "  data.write('3 -4\\n')\n",
        "  data.write('7 4\\n')\n",
        "  data.write('6 -1\\n')\n",
        "  data.write('7 8\\n')\n",
        "\n",
        "file = open('coordinates.py', 'r')\n",
        "for line in file:\n",
        "    try:\n",
        "        nums_list = line.split()\n",
        "        res1 = str(f(int(nums_list[0]), int(nums_list[1])))\n",
        "    except Exception:\n",
        "        print(\"Что-то пошло не так с первой функцией\")\n",
        "        res1 = '0'\n",
        "\n",
        "    try:\n",
        "        res2 = str(f2(int(nums_list[0]), int(nums_list[1])))\n",
        "    except Exception:\n",
        "        print(\"Что-то пошло не так со второй функцией\")\n",
        "        res2 = '0'\n",
        "    try:\n",
        "        number = str(random.randint(0, 100))\n",
        "        file_2 = open('result.py', 'a')\n",
        "        my_list = sorted([res1, res2, number])\n",
        "        file_2.write('\\n' + ' '.join(my_list))\n",
        "        file_2.close()\n",
        "    except Exception:\n",
        "        print(\"Что-то пошло не так : \")\n",
        "file.close()"
      ],
      "metadata": {
        "colab": {
          "base_uri": "https://localhost:8080/"
        },
        "id": "0XwXs307AOX6",
        "outputId": "e3f1835e-36cb-4c54-95d0-745b2e61b355"
      },
      "execution_count": 5,
      "outputs": [
        {
          "output_type": "stream",
          "name": "stdout",
          "text": [
            "Что-то пошло не так с первой функцией\n",
            "Что-то пошло не так со второй функцией\n",
            "Что-то пошло не так с первой функцией\n"
          ]
        }
      ]
    },
    {
      "cell_type": "markdown",
      "source": [
        "## Задача 3. Счастливое число\n",
        "Напишите программу, которая запрашивает у пользователя число до тех пор, пока сумма этих чисел не станет больше либо равна 777. Каждое введенное число при этом дозаписывается в файл. Сделайте так, чтобы перед дозаписью программа с вероятностью 1 к 13 выбрасывала пользователю случайное исключение и завершалась.\n",
        "\n",
        "\n"
      ],
      "metadata": {
        "id": "rAc6VW7sBP8o"
      }
    },
    {
      "cell_type": "markdown",
      "source": [
        "# Решение:"
      ],
      "metadata": {
        "id": "dX2r2KmZHvos"
      }
    },
    {
      "cell_type": "code",
      "source": [
        "import random\n",
        "\n",
        "summ = 0\n",
        "listt = (ValueError, NameError, SyntaxError)\n",
        "while True:\n",
        "    number = int(input('Введите число: '))\n",
        "    summ+=number\n",
        "    if random.randint(0, 12) == 0:\n",
        "        raise random.choice(listt)\n",
        "    if summ > 776:\n",
        "        break\n",
        "    with open('answer.txt', 'a') as data:\n",
        "        data.write('\\n' + str(number))\n"
      ],
      "metadata": {
        "colab": {
          "base_uri": "https://localhost:8080/"
        },
        "id": "AsmaVOgzBSF9",
        "outputId": "333105ea-52e3-4dc9-8919-cba4e054608f"
      },
      "execution_count": 9,
      "outputs": [
        {
          "name": "stdout",
          "output_type": "stream",
          "text": [
            "Введите число: 100\n",
            "Введите число: 500\n",
            "Введите число: 200\n"
          ]
        }
      ]
    },
    {
      "cell_type": "markdown",
      "source": [
        "## Задача 4. Регистрация\n",
        "У вас есть файл с протоколом регистраций пользователей на сайте - registrations.txt\n",
        "Каждая строка содержит: ИМЯ ЕМЕЙЛ ВОЗРАСТ, разделенные пробелами\n",
        "Например:\n",
        "Василий test@test.ru 27\n",
        "\n",
        "Напишите программу, которая проверяет данные из файла, для каждой строки:\n",
        "- присутствуют все три поля\n",
        "- поле имени содержит только буквы\n",
        "- поле емейл содержит @ и .\n",
        "- поле возраст является числом от 10 до 99\n",
        "\n",
        "В результате проверки сформируйте два файла:\n",
        "- registrations_good.log для правильных данных, записывать строки как есть\n",
        "- registrations_bad.log для ошибочных, записывать строку и вид ошибки.\n",
        "\n",
        "Для валидации строки данных напишите функцию, которая может выдавать исключения:\n",
        "- НЕ присутствуют все три поля: IndexError\n",
        "- поле имени содержит НЕ только буквы: NameError\n",
        "- поле емейл НЕ содержит @ и .(точку): SyntaxError\n",
        "- поле возраст НЕ является числом от 10 до 99: ValueError\n"
      ],
      "metadata": {
        "id": "XO0PYJRoD3pK"
      }
    },
    {
      "cell_type": "markdown",
      "source": [
        "# Решение:"
      ],
      "metadata": {
        "id": "TSerYbesHwXk"
      }
    },
    {
      "cell_type": "code",
      "source": [
        "def function(counter):\n",
        "    word = counter.split()\n",
        "    if len(word) != 3:\n",
        "        raise ValueError('ValueError')\n",
        "    elif any(map(str.isdigit, word[0])):\n",
        "        raise NameError('NameError')\n",
        "    elif not '@' in word[1] or not '.' in word[1]:\n",
        "        raise SyntaxError('SyntaxError')\n",
        "    elif 10 >= int(word[2]) or int(word[2]) >= 99:\n",
        "        raise ValueError('ValueError')\n",
        "    else:\n",
        "        return True\n",
        "\n",
        "with open('registrations.txt', 'w', encoding='utf-8') as data:\n",
        "  data.write('Ольга kmrn@gmail.com 123\\n')\n",
        "  data.write('Геннадий ttdababmt@gmail.com 69\\n')\n",
        "  data.write('Ольга ysbxur@gmail.com 20\\n')\n",
        "  data.write('Пенг jyuueiuk@mail.ru 33\\n')\n",
        "  data.write('Яр4слав oook3@gmail.com 15\\n')\n",
        "  data.write('Чехова kb@gmail.com 142\\n')\n",
        "  data.write('Степан jnstgewtth@ya.ru 48\\n')\n",
        "  data.write('Пенг okkybjzekz@gmail.com\\n')\n",
        "  data.write('Волочкова ucgmail.com 41\\n')\n",
        "\n",
        "with open('registrations.txt', 'r', encoding='utf-8') as data:\n",
        "    for counter in data:\n",
        "        try:\n",
        "            if function(counter):\n",
        "                # Для названия файлов, лучше использовать расширения log или txt. =)\n",
        "                with open('registrations_good.py', 'a', encoding='utf-8') as data_1:\n",
        "                    data_1.write('\\n' + counter)\n",
        "        except (ValueError, NameError, SyntaxError) as err:\n",
        "            with open('registrations_bad.py', 'a', encoding='utf-8') as data_1:\n",
        "                data_1.write('\\n' + counter + str(err))\n",
        "            print(str(err) + ': ' + counter)"
      ],
      "metadata": {
        "colab": {
          "base_uri": "https://localhost:8080/"
        },
        "id": "Y8vtq4wLD9ia",
        "outputId": "e8b2d4a0-d700-4547-8658-5520610ef2a0"
      },
      "execution_count": 13,
      "outputs": [
        {
          "output_type": "stream",
          "name": "stdout",
          "text": [
            "ValueError: Ольга kmrn@gmail.com 123\n",
            "\n",
            "NameError: Яр4слав oook3@gmail.com 15\n",
            "\n",
            "ValueError: Чехова kb@gmail.com 142\n",
            "\n",
            "ValueError: Пенг okkybjzekz@gmail.com\n",
            "\n",
            "SyntaxError: Волочкова ucgmail.com 41\n",
            "\n"
          ]
        }
      ]
    },
    {
      "cell_type": "markdown",
      "source": [
        "## Задача 5. Текстовый калькулятор\n",
        "Иван стоит на пороге величайшего открытия (не будем его расстраивать), которое перевернет представление о всей математике и программировании. Имя этому открытию - текстовый калькулятор. Правда, код для своего открытия ему сложно написать самому, и поэтому он попросил вас помочь ему. Так что уже можно бежать в патентное бюро.\n",
        "\n",
        "Есть файл calc.txt, в котором хранятся записи вида\n",
        "````\n",
        "100 + 34\n",
        "23 / 4\n",
        "````\n",
        "то есть ОПЕРАНД_1 ОПЕРАЦИЯ ОПЕРАНД_2, разделенные пробелами.\n",
        "Операнды - целые числа. Операции - арифметические (включая деление нацело и нахождение остатка)\n",
        "\n",
        "Напишите программу, которая вычисляет все эти операции и находит сумму их результатов. Пропишите обработку возможных ошибок. Программа не должна завершаться при первой же ошибке, она учитывает все верные строки и выводит найденный ответ.\n"
      ],
      "metadata": {
        "id": "xdzCa5xrFIzs"
      }
    },
    {
      "cell_type": "markdown",
      "source": [
        "# Решение:"
      ],
      "metadata": {
        "id": "hZv2uAtFHxBE"
      }
    },
    {
      "cell_type": "code",
      "source": [
        "def function_1(word):\n",
        "    if len(word) != 3:\n",
        "        raise ValueError('ValueError')\n",
        "    elif not word[0].isdigit() or not word[2].isdigit():\n",
        "        raise NameError('NameError')\n",
        "    elif not word[1] in listt:\n",
        "        raise SyntaxError('SyntaxError')\n",
        "\n",
        "\n",
        "def function_2(word):\n",
        "    if '+' in word:\n",
        "        return int(word[0]) + int(word[2])\n",
        "    elif '-' in word:\n",
        "        return int(word[0]) - int(word[2])\n",
        "    elif '*' in word:\n",
        "        return int(word[0]) * int(word[2])\n",
        "    elif '/' in word:\n",
        "        return int(word[0]) / int(word[2])\n",
        "\n",
        "with open('calc.txt', 'w') as data:\n",
        "  data.write('10 + 3\\n')\n",
        "  data.write('20 - 7\\n')\n",
        "  data.write('30 * 3\\n')\n",
        "  data.write('20 / 4\\n')\n",
        "  data.write('20 4\\n')\n",
        "  data.write('20 + + 5\\n')\n",
        "  data.write('d * 5\\n')\n",
        "  data.write('3 *+ 6\\n')\n",
        "\n",
        "with open('calc.txt', 'r') as data:\n",
        "    listt = ['+', '-', '*', '/']\n",
        "    summ = 0\n",
        "    for word in data:\n",
        "        try:\n",
        "            word = word.split()\n",
        "            function_1(word)\n",
        "            summ += function_2(word)\n",
        "        except (ValueError, NameError, SyntaxError) as err:\n",
        "            print(err, ' '.join(word))\n",
        "    print('Сумма:', summ)"
      ],
      "metadata": {
        "colab": {
          "base_uri": "https://localhost:8080/"
        },
        "id": "--yeq1cQFNL7",
        "outputId": "25a37f61-c0ae-42fa-f9d8-b72e509ea10e"
      },
      "execution_count": 15,
      "outputs": [
        {
          "output_type": "stream",
          "name": "stdout",
          "text": [
            "ValueError 20 4\n",
            "ValueError 20 + + 5\n",
            "NameError d * 5\n",
            "SyntaxError 3 *+ 6\n",
            "Сумма: 121.0\n"
          ]
        }
      ]
    },
    {
      "cell_type": "markdown",
      "source": [
        "## Задача 6. Чат\n",
        "Реализуйте программу - чат, в котором могут участвовать сразу несколько человек, то есть программа может работать одновременно для нескольких пользователей. При запуске запрашивается имя пользователя. После этого он выбирает одно из действий:\n",
        "1. Посмотреть текущий текст чата\n",
        "2. Отправить сообщение  (затем вводит сообщение)\n",
        "Действия запрашиваются бесконечно. \n",
        "\n",
        "Примечание: для решения задачи вам будет достаточно текущих знаний, нужно лишь проявить немного фантазии и хитрости. Не нужно лезть в дебри работы с сетями, создания GUI приложений и прочих штук. (но если очень хочется, то останавливать вас никто не будет!)\n",
        "\n"
      ],
      "metadata": {
        "id": "3HGQxMVjFryK"
      }
    },
    {
      "cell_type": "markdown",
      "source": [
        "# Решение:"
      ],
      "metadata": {
        "id": "vTs2wMLuHxp4"
      }
    },
    {
      "cell_type": "code",
      "source": [
        "\n",
        "name = input('Введите имя: ')\n",
        "while True:\n",
        "    command = input(' Введите 1 если хотите выполнить эту команду: Посмотреть '\n",
        "                    'текущий текст чата ,введите 2 если хотите выполнить эту команду: Отправить сообщение (затем вводит сообщение) ')\n",
        "    if command == '1':\n",
        "        with open('text.txt', 'r') as data:\n",
        "            print(data.read())\n",
        "    elif command == '2':\n",
        "        text = input('Введите сообщение: ')\n",
        "        with open('text.txt', 'a') as data:\n",
        "            data.write(f'\\n{name}: {text}')\n",
        "    else:\n",
        "        print('Такой команды нет')\n"
      ],
      "metadata": {
        "colab": {
          "base_uri": "https://localhost:8080/"
        },
        "id": "eaVeBudxFsTc",
        "outputId": "046bc384-5f6a-4961-fc29-9a34cc46c4c7"
      },
      "execution_count": null,
      "outputs": [
        {
          "output_type": "stream",
          "name": "stdout",
          "text": [
            "Введите имя: Тимур\n",
            " Введите 1 если хотите выполнить эту команду: Посмотреть текущий текст чата ,введите 2 если хотите выполнить эту команду: Отправить сообщение (затем вводит сообщение) 2\n",
            "Введите сообщение: Привет\n",
            " Введите 1 если хотите выполнить эту команду: Посмотреть текущий текст чата ,введите 2 если хотите выполнить эту команду: Отправить сообщение (затем вводит сообщение) 1\n",
            "\n",
            "Тимур: Привет\n",
            " Введите 1 если хотите выполнить эту команду: Посмотреть текущий текст чата ,введите 2 если хотите выполнить эту команду: Отправить сообщение (затем вводит сообщение) 2\n",
            "Введите сообщение: Пока\n",
            " Введите 1 если хотите выполнить эту команду: Посмотреть текущий текст чата ,введите 2 если хотите выполнить эту команду: Отправить сообщение (затем вводит сообщение) 1\n",
            "\n",
            "Тимур: Привет\n",
            "Тимур: Пока\n"
          ]
        }
      ]
    },
    {
      "cell_type": "markdown",
      "source": [
        "## Задача 7. Текстовый калькулятор 2 \n",
        "Модифицируйте задачу про калькулятор: условие задачи остается тем же, но теперь пользователю должно выводиться сообщение с ошибочной строкой на экран с предложением её исправить. \n",
        "\n"
      ],
      "metadata": {
        "id": "fHlXP3E7Geqs"
      }
    },
    {
      "cell_type": "markdown",
      "source": [
        "# Решение:"
      ],
      "metadata": {
        "id": "1lcAFJ3VHyIl"
      }
    },
    {
      "cell_type": "code",
      "source": [
        "def function_1(word):\n",
        "    if len(word) != 3:\n",
        "        raise ValueError\n",
        "    elif not word[0].isdigit() or not word[2].isdigit():\n",
        "        raise NameError\n",
        "    elif not word[1] in listt:\n",
        "        raise SyntaxError\n",
        "\n",
        "\n",
        "def function_2(word):\n",
        "    symbol = word[1]\n",
        "    if '+' == symbol:\n",
        "        num = int(word[0]) + int(word[2])\n",
        "    elif '-' == symbol:\n",
        "        num = int(word[0]) - int(word[2])\n",
        "    elif '*' == symbol:\n",
        "        num = int(word[0]) * int(word[2])\n",
        "    elif '/' == symbol:\n",
        "        num = int(word[0]) / int(word[2])\n",
        "    return num\n",
        "\n",
        "with open('calc.txt', 'w') as data:\n",
        "  data.write('10 + 3\\n')\n",
        "  data.write('20 - 7\\n')\n",
        "  data.write('30 * 3\\n')\n",
        "  data.write('20 / 4\\n')\n",
        "  data.write('20 4\\n')\n",
        "  data.write('20 + + 5\\n')\n",
        "  data.write('d * 5\\n')\n",
        "  data.write('3 *+ 6\\n')\n",
        "\n",
        "listt = ['+', '-', '*', '/']\n",
        "with open('calc.txt', 'r') as data_1:\n",
        "    summ = 0\n",
        "    for counter in data_1:\n",
        "        try:\n",
        "            word = counter.split()\n",
        "            function_1(word)\n",
        "            summ += function_2(word)\n",
        "        except (ValueError, NameError, SyntaxError):\n",
        "            variable = input(f'Обнаружена ошибка в строке: {counter}  Хотите исправить?')\n",
        "            if variable == 'да':\n",
        "                counter = input('Введите исправленную строку: ').split()\n",
        "                summ += function_2(counter)\n",
        "print('\\nСумма результатов:', summ)\n"
      ],
      "metadata": {
        "colab": {
          "base_uri": "https://localhost:8080/"
        },
        "id": "xSk0rfvwGfLf",
        "outputId": "e961fa20-a147-4b61-eb78-e341b8627a1a"
      },
      "execution_count": 19,
      "outputs": [
        {
          "output_type": "stream",
          "name": "stdout",
          "text": [
            "Обнаружена ошибка в строке: 20 4\n",
            "  Хотите исправить?да\n",
            "Введите исправленную строку: 20 + 4\n",
            "Обнаружена ошибка в строке: 20 + + 5\n",
            "  Хотите исправить?да\n",
            "Введите исправленную строку: 20 + 5\n",
            "Обнаружена ошибка в строке: d * 5\n",
            "  Хотите исправить?нет\n",
            "Обнаружена ошибка в строке: 3 *+ 6\n",
            "  Хотите исправить?да\n",
            "Введите исправленную строку: 3 * 6\n",
            "\n",
            "Сумма результатов: 188.0\n"
          ]
        }
      ]
    }
  ]
}