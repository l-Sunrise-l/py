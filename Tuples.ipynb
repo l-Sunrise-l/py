{
  "nbformat": 4,
  "nbformat_minor": 0,
  "metadata": {
    "colab": {
      "provenance": []
    },
    "kernelspec": {
      "name": "python3",
      "display_name": "Python 3"
    },
    "language_info": {
      "name": "python"
    }
  },
  "cells": [
    {
      "cell_type": "markdown",
      "source": [
        "##Задача 1. Ревью кода\n",
        "Ваня работает middle - разработчиком на Python в IT-компании и один кандидат на junior-разработчика прислал ему код тестового задания. Задание состояло в следующем: есть словарь из трёх студентов. Необходимо:\n",
        "Вывести на экран список пар “айди студента - возраст”\n",
        "Написать функцию, которая принимает в качестве аргумента словарь и возвращает два значения: полный список интересов всех студентов, а также общую длину всех фамилий студентов\n",
        "Далее в основном коде вызывается функция, значения присваиваются отдельным переменным и выводятся на экран\n",
        "\n",
        "Ваня - очень придирчивый программист и после просмотра кода он понял, что этого кандидата он на работу не возьмёт, даже несмотря на то, что она выдаёт верный результат. Сам код кандидата: (см. main.py)\n",
        "\n",
        "Перепишите данный код так, чтобы он был максимально pythonic и Ваня мало к чему мог придраться (ну только если очень захочется). Убедитесь в том, что программа работает всё также верно. Различные проверки на существования записей в словаре не обязательны, но приветствуются. :)\n",
        "\n"
      ],
      "metadata": {
        "id": "9INAkSyAiyRZ"
      }
    },
    {
      "cell_type": "markdown",
      "source": [
        "# Решение:"
      ],
      "metadata": {
        "id": "7BMo0Of2lJnG"
      }
    },
    {
      "cell_type": "code",
      "source": [
        "students = {\n",
        "    1: {\n",
        "        'name': 'Bob',\n",
        "        'surname': 'Vazovski',\n",
        "        'age': 23,\n",
        "        'interests': ['biology, swimming']\n",
        "    },\n",
        "    2: {\n",
        "        'name': 'Rob',\n",
        "        'surname': 'Stepanov',\n",
        "        'age': 24,\n",
        "        'interests': ['math', 'computer games', 'running']\n",
        "    },\n",
        "    3: {\n",
        "        'name': 'Alexander',\n",
        "        'surname': 'Krug',\n",
        "        'age': 22,\n",
        "        'interests': ['languages', 'health food']\n",
        "    }\n",
        "}\n",
        "\n",
        "\n",
        "def all_interests_and_len_surname(dict):\n",
        "    interests = []\n",
        "    summ = 0\n",
        "    for counter in dict.values():\n",
        "        interests += counter['interests']\n",
        "        summ += len(counter['surname'])\n",
        "    return interests, summ\n",
        "\n",
        "\n",
        "pairs = []\n",
        "for counter, age in students.items():\n",
        "    pairs += (counter, age['age'])\n",
        "print(pairs)\n",
        "\n",
        "my_lst, l = all_interests_and_len_surname(students)\n",
        "print(my_lst, l)\n"
      ],
      "metadata": {
        "colab": {
          "base_uri": "https://localhost:8080/"
        },
        "id": "eKsFwxyNi1Ba",
        "outputId": "164a85a0-bb31-4431-e8ce-d62306d3f885"
      },
      "execution_count": 1,
      "outputs": [
        {
          "output_type": "stream",
          "name": "stdout",
          "text": [
            "[1, 23, 2, 24, 3, 22]\n",
            "['biology, swimming', 'math', 'computer games', 'running', 'languages', 'health food'] 20\n"
          ]
        }
      ]
    },
    {
      "cell_type": "markdown",
      "source": [
        "##Задача 2. Универсальная программа 2\n",
        "Спустя некоторое время заказчик попросил нас немного изменить скрипт для своей криптографии: теперь индексы элементов должны быть простыми числами\n",
        "\n",
        "Напишите функцию, которая возвращает список из элементов итерируемого объекта (котрежа, строки, списка, словаря), у которых индекс - это простое число. Для проверки на простое число напишите отдельную функцию is_prime\n",
        "\n",
        "Дополнительно: сделайте так, чтобы основная функция состояла только из оператора return и при этом также возвращала список.\n",
        "\n"
      ],
      "metadata": {
        "id": "DdhCsZzBi9Ik"
      }
    },
    {
      "cell_type": "markdown",
      "source": [
        "# Решение:"
      ],
      "metadata": {
        "id": "1WriUEL1gE7g"
      }
    },
    {
      "cell_type": "code",
      "source": [
        "listt = [0, 1, 2, 3, 4, 5, 6, 7, 8, 9]\n",
        "\n",
        "\n",
        "def is_prime(number):\n",
        "    counter = 0\n",
        "    for counter_1 in range(1, number):\n",
        "        if number % counter_1 == 0:\n",
        "            counter += 1\n",
        "    if counter == 1:\n",
        "        return True\n",
        "    else:\n",
        "        return False\n",
        "\n",
        "\n",
        "def List_comprehensions(listt):\n",
        "    return [counter_2 for counter_1, counter_2 in enumerate(listt) if is_prime(counter_1)]\n",
        "\n",
        "\n",
        "print(List_comprehensions(listt))\n"
      ],
      "metadata": {
        "colab": {
          "base_uri": "https://localhost:8080/"
        },
        "id": "sWoP9YWhjAcf",
        "outputId": "3c0af2cf-de45-41ca-c81a-338b120e80e7"
      },
      "execution_count": 2,
      "outputs": [
        {
          "output_type": "stream",
          "name": "stdout",
          "text": [
            "[2, 3, 5, 7]\n"
          ]
        }
      ]
    },
    {
      "cell_type": "markdown",
      "source": [
        "##Задача 3. Функция\n",
        "Напишите функцию, которая на вход принимает кортеж и какой-то случайный элемент (его можно вводить с клавиатуры). Функция должна возвращать новый кортеж, начинающийся с первого появления элемента в нем и заканчивающийся вторым его появлением включительно.\n",
        "\n",
        "Если элемента нет вовсе – вернуть пустой кортеж.\n",
        "Если элемент встречается только один раз, то вернуть кортеж, который начинается с него и идет до конца исходного.\n"
      ],
      "metadata": {
        "id": "tuEkXHG7jDcF"
      }
    },
    {
      "cell_type": "markdown",
      "source": [
        "# Решение:"
      ],
      "metadata": {
        "id": "6HK23dYFlKUn"
      }
    },
    {
      "cell_type": "code",
      "source": [
        "def function(listt, element):\n",
        "    number = listt.count(element)\n",
        "    if number == 0:\n",
        "        return ()\n",
        "    elif number == 1:\n",
        "        return listt[listt.index(element):]\n",
        "    else:\n",
        "        index_1 = listt.index(element)\n",
        "        index_2 = listt[index_1 + 1:].index(element) + index_1 + 2\n",
        "        return listt[index_1:index_2]\n",
        "\n",
        "\n",
        "listt = tuple(input('Введите слово: '))\n",
        "element = input('Введите элемент: ')\n",
        "\n",
        "print(function(listt, element))\n"
      ],
      "metadata": {
        "colab": {
          "base_uri": "https://localhost:8080/"
        },
        "id": "Fw03U0z2jFRn",
        "outputId": "a691546f-ac2d-48d4-c1fc-ea3e3db8b3d0"
      },
      "execution_count": 3,
      "outputs": [
        {
          "output_type": "stream",
          "name": "stdout",
          "text": [
            "Введите слово: Привет\n",
            "Введите элемент: и\n",
            "('и', 'в', 'е', 'т')\n"
          ]
        }
      ]
    },
    {
      "cell_type": "markdown",
      "source": [
        "##Задача 4. Игроки\n",
        "У вас есть словарь игроков, которые участвовали в трёх видах спорта. В словаре хранятся пары “ФИ - очки”:\n",
        "\n",
        "````python\n",
        "players = {\n",
        "    (\"Ivan\", \"Volkin\"): (10, 5, 13),\n",
        "    (\"Bob\", \"Robbin\"): (7, 5, 14),\n",
        "    (\"Rob\", \"Bobbin\"): (12, 8, 2)\n",
        "}\n",
        "````\n",
        "Один программист попросил нас для своей базы отправить ему немного другой вариант хранения этой информации.\n",
        "\n",
        "Напишите программу, которая объединяет ключ словаря со значением в один кортеж и выведите результат на экран. Постарайтесь использовать как можно более эффективное решение.\n",
        "\n"
      ],
      "metadata": {
        "id": "X5Bga94vjcj8"
      }
    },
    {
      "cell_type": "markdown",
      "source": [
        "# Решение:"
      ],
      "metadata": {
        "id": "Spc-Xo39lK9Z"
      }
    },
    {
      "cell_type": "code",
      "source": [
        "players = {\n",
        "    (\"Ivan\", \"Volkin\"): (10, 5, 13),\n",
        "    (\"Bob\", \"Robbin\"): (7, 5, 14),\n",
        "    (\"Rob\", \"Bobbin\"): (12, 8, 2)\n",
        "}\n",
        "print([counter_1 + counter_2 for counter_1, counter_2 in players.items()])\n"
      ],
      "metadata": {
        "colab": {
          "base_uri": "https://localhost:8080/"
        },
        "id": "dY5iPJ0JjiJh",
        "outputId": "f15c30bd-e17b-476c-9de4-1f4c1e742387"
      },
      "execution_count": 4,
      "outputs": [
        {
          "output_type": "stream",
          "name": "stdout",
          "text": [
            "[('Ivan', 'Volkin', 10, 5, 13), ('Bob', 'Robbin', 7, 5, 14), ('Rob', 'Bobbin', 12, 8, 2)]\n"
          ]
        }
      ]
    },
    {
      "cell_type": "markdown",
      "source": [
        "##Задача 5. Одна семья\n",
        "В одной базе данных хранится информация о членах нескольких разных семей. Хранение реализовано с помощью словаря с парами “ФИ - возраст”.\n",
        "\n",
        "Напишите программу, которая запрашивает у пользователя фамилию и выводит на экран возраст всех членов одной семьи. Учтите, что, например, у двух людей разного пола, фамилии отличаются окончанием. Поиск не должен быть регистрозависимым.\n"
      ],
      "metadata": {
        "id": "sghd-ATpjkNN"
      }
    },
    {
      "cell_type": "markdown",
      "source": [
        "# Решение:"
      ],
      "metadata": {
        "id": "WDjAHG3XlLZA"
      }
    },
    {
      "cell_type": "code",
      "source": [
        "listt = {\n",
        "    ('Сидоров', 'Никита'): 35,\n",
        "    ('Сидорова', 'Алина'): 34,\n",
        "    ('Сидоров', 'Павел'): 10,\n",
        "    ('Иванов', 'Никита'): 20,\n",
        "    ('Иванова', 'Алина'): 30,\n",
        "    ('Иванов', 'Павел'): 40\n",
        "}\n",
        "surname = input('Введите фамилию: ')\n",
        "for counter_1, counter_2 in listt.items():\n",
        "    if counter_1[0].startswith(surname[:-2]):\n",
        "        print(counter_1[0], counter_1[1], counter_2)\n"
      ],
      "metadata": {
        "colab": {
          "base_uri": "https://localhost:8080/"
        },
        "id": "cVHrG2ZXjrJy",
        "outputId": "a6256133-c465-4ef2-e473-4aaafb62f583"
      },
      "execution_count": 5,
      "outputs": [
        {
          "output_type": "stream",
          "name": "stdout",
          "text": [
            "Введите фамилию: Сидоров\n",
            "Сидоров Никита 35\n",
            "Сидорова Алина 34\n",
            "Сидоров Павел 10\n"
          ]
        }
      ]
    },
    {
      "cell_type": "markdown",
      "source": [
        "##Задача 6. По парам\n",
        "Есть список из 10 случайных чисел. Напишите программу, которая делит эти числа на пары кортежей внутри списка и выведите результат на экран.\n",
        "\n",
        "Дополнительно: решите задачу несколькими способами\n"
      ],
      "metadata": {
        "id": "UEnjXPWdjxsK"
      }
    },
    {
      "cell_type": "markdown",
      "source": [
        "# Решение:"
      ],
      "metadata": {
        "id": "qa9bc24HlLyo"
      }
    },
    {
      "cell_type": "code",
      "source": [
        "listt = [0, 1, 2, 3, 4, 5, 6, 7, 8, 9]\n",
        "answer = []\n",
        "for counter in range(0, len(listt), 2):\n",
        "    answer.append((listt[counter], listt[counter + 1]))\n",
        "print(answer)\n",
        "\n",
        "print([(listt[counter], listt[counter + 1]) for counter in range(0, len(listt), 2)])\n"
      ],
      "metadata": {
        "colab": {
          "base_uri": "https://localhost:8080/"
        },
        "id": "SiaJ_t-pj0Wu",
        "outputId": "99fcceed-42b7-4954-cffe-9fb2c2e1f20a"
      },
      "execution_count": 6,
      "outputs": [
        {
          "output_type": "stream",
          "name": "stdout",
          "text": [
            "[(0, 1), (2, 3), (4, 5), (6, 7), (8, 9)]\n",
            "[(0, 1), (2, 3), (4, 5), (6, 7), (8, 9)]\n"
          ]
        }
      ]
    },
    {
      "cell_type": "markdown",
      "source": [
        "##Задача 7. Функция сортировки\n",
        "Напишите функцию, которая сортирует кортеж, состоящий из целых чисел по возрастанию и возвращает его. Если хотя бы один элемент не является целым числом, то функция возвращает исходный кортеж.\n"
      ],
      "metadata": {
        "id": "-rXhO05gj4ir"
      }
    },
    {
      "cell_type": "markdown",
      "source": [
        "# Решение:"
      ],
      "metadata": {
        "id": "c5zYdpM9lMOH"
      }
    },
    {
      "cell_type": "code",
      "source": [
        "def function(tuplee):\n",
        "    for counter in tuplee:\n",
        "        if not isinstance(counter, int):\n",
        "            return tuplee\n",
        "    return sorted(tuplee)\n",
        "\n",
        "\n",
        "tuplee = (9, 6, 2, 4, 3, 8, 1, 7, 5, 0)\n",
        "print(function(tuplee))\n"
      ],
      "metadata": {
        "colab": {
          "base_uri": "https://localhost:8080/"
        },
        "id": "b1_5F0tJj5BV",
        "outputId": "9b3aea95-abca-4a6b-ccd4-f376edb4dbcf"
      },
      "execution_count": 7,
      "outputs": [
        {
          "output_type": "stream",
          "name": "stdout",
          "text": [
            "[0, 1, 2, 3, 4, 5, 6, 7, 8, 9]\n"
          ]
        }
      ]
    },
    {
      "cell_type": "markdown",
      "source": [
        "##Задача 8. Контакты 3\n",
        "Мы уже помогали Степану с реализацией телефонной книги (контактов) на телефоне, однако внезапно оказалось, что книге не хватает ещё одной очень полезной функции: поиска!\n",
        "\n",
        "Напишите программу, которая бесконечно запрашивает у пользователя действие, которое он хочет совершить: добавить контакт или найти человека в списке контактов по фамилии. \n",
        "\n",
        "Действие “добавить контакт”: программа запрашивает имя и фамилию контакта, затем номер телефона, после этого добавляет их в словарь и выводит на экран текущий словарь контактов. Если этот человек уже есть в словаре, то выведете соотвествующее сообщение.\n",
        "\n",
        "Действие “поиск человека по фамилии”: программа запрашивает фамилию и выводит все контакты с такой фамилией и их номера телефонов. Поиск не должен зависеть от регистра символов.\n",
        "\n"
      ],
      "metadata": {
        "id": "x1utm7vpj94h"
      }
    },
    {
      "cell_type": "markdown",
      "source": [
        "# Решение:"
      ],
      "metadata": {
        "id": "9alTRzlJlMnf"
      }
    },
    {
      "cell_type": "code",
      "source": [
        "listt = {\n",
        "    'Сидоров Никита': 3534643456564,\n",
        "    'Сидорова Алина': 3454453467234,\n",
        "    'Сидоров Павел': 1012657843673,\n",
        "    'Иванов Никита': 2054326709236,\n",
        "    'Иванова Алина': 3043656534534,\n",
        "    'Иванов Павел': 4054543453455\n",
        "}\n",
        "\n",
        "\n",
        "def command_1():\n",
        "    surname = input('Введите фамилию: ')\n",
        "    for counter_1, counter_2 in listt.items():\n",
        "        if counter_1.startswith(surname[:-2]):\n",
        "            print(counter_1, counter_2)\n",
        "\n",
        "\n",
        "def command_2():\n",
        "    name_and_surname = input('Введите фамилию и имя: ')\n",
        "    number = int(input('Введите номер: '))\n",
        "    if listt.get(name_and_surname) != None:  # Лучше \"if listt.get(name_and_surname) not None\"\n",
        "        print('Этот человек есть в списке.')\n",
        "    else:\n",
        "        listt[name_and_surname] = number\n",
        "\n",
        "\n",
        "while True:\n",
        "    command = input('Введите команду: \"Поиск человека по фамилии\" или \"Добавить контакт\" ')\n",
        "    if 'Поиск человека по фамилии' == command:\n",
        "        command_1()\n",
        "    elif 'Добавить контакт' == command:\n",
        "        command_2()\n",
        "    else:\n",
        "        print('Такой команды нет.')\n"
      ],
      "metadata": {
        "colab": {
          "base_uri": "https://localhost:8080/"
        },
        "id": "F34Z1Ygmj-aY",
        "outputId": "58de4662-708c-47d0-faee-b123ccbb8f50"
      },
      "execution_count": null,
      "outputs": [
        {
          "output_type": "stream",
          "name": "stdout",
          "text": [
            "Введите команду: \"Поиск человека по фамилии\" или \"Добавить контакт\" Добавить контакт\n",
            "Введите фамилию и имя: Сидоров Дима\n",
            "Введите номер:  4054543453499\n",
            "Введите команду: \"Поиск человека по фамилии\" или \"Добавить контакт\" Поиск человека по фамилии\n",
            "Введите фамилию: Сидоров\n",
            "Сидоров Никита 3534643456564\n",
            "Сидорова Алина 3454453467234\n",
            "Сидоров Павел 1012657843673\n",
            "Сидоров Дима 4054543453499\n",
            "Введите команду: \"Поиск человека по фамилии\" или \"Добавить контакт\" Поиск человека по фамилии\n",
            "Введите фамилию: Иванов\n",
            "Иванов Никита 2054326709236\n",
            "Иванова Алина 3043656534534\n",
            "Иванов Павел 4054543453455\n"
          ]
        }
      ]
    },
    {
      "cell_type": "markdown",
      "source": [
        "##Задача 9. Протокол соревнований\n",
        "Вы продолжаете развиваться в геймдеве и в этот раз вам пришло действительно внушительное техническое задание, с описанием правил игр, входными и выходными данными. Вот как оно выглядит:\n",
        "\n",
        "Здравствуйте! Мы собираемся устраивать соревнования по [данные засекречены] и хотим, чтобы вы написали эффективную программу, которая составляла бы нам протокол и определяла победителя и призёров. О логике работы программы ниже.\n",
        "\n",
        "**_Правила соревнований:_**\n",
        "1. Участники имеют право играть несколько раз. Количество попыток одного участника не ограничивается. \n",
        "2. Окончательный результат участника определяется по одной игре, лучшей для данного участника.\n",
        "3. Более высокое место в соревнованиях занимает участник, показавший лучший результат.\n",
        "4. При равенстве результатов более высокое место занимает участник, раньше показавший лучший результат.\n",
        "\n",
        "**_Как проходят соревнования:_**\n",
        "\n",
        "В ходе соревнований заполняется протокол, каждая строка которого описывает одну игру и содержит результат участника и его игровое имя. Протокол формируется в реальном времени по ходу проведения чемпионата, поэтому строки в нём расположены в порядке проведения игр: чем раньше встречается строка в протоколе, тем раньше закончилась соответствующая этой строке игра.\n",
        "\n",
        "Напишите программу, которая по данным протокола определяет победителя и призёров. Гарантируется, что в чемпионате участвует не менее трёх игроков.\n",
        "\n",
        "**_Описание входных данных_**\n",
        "\n",
        "Первая строка содержит число N - это общее количество строк протокола. Каждая из следующих N строк содержит записанные через пробел результат участника (целое неотрицательное число) и игровое имя (имя не может содержать пробелов). Строки исходных данных соответствуют строкам протокола и расположены в том же порядке, что и в протоколе.\n",
        "Гарантируется, что количество участников соревнований не менее 3.\n",
        "\n",
        "**_Описание выходных данных_**\n",
        "\n",
        "Программа должна вывести имена и результаты трёх лучших игроков по форме, приведённой ниже в примере.\n",
        "\n"
      ],
      "metadata": {
        "id": "Vba6dK9ZkW2A"
      }
    },
    {
      "cell_type": "markdown",
      "source": [
        "# Решение:"
      ],
      "metadata": {
        "id": "eFTtLXgLlODP"
      }
    },
    {
      "cell_type": "code",
      "source": [
        "number = int(input('Сколько записей вносится в протокол? '))\n",
        "listt = {}\n",
        "number_2 = 1\n",
        "\n",
        "for counter in range(1, 1 + number):\n",
        "    number_1, name = input(str(counter) + ' запись: ').split()\n",
        "    if listt.get(name) == None:\n",
        "        listt[name] = (number_1, counter)\n",
        "    elif int(listt[name][0]) < int(number_1):\n",
        "        listt[name] = (number_1, counter)\n",
        "\n",
        "listt_1 = sorted(listt.values())\n",
        "\n",
        "for counter_1, counter_2 in {counter_2: counter_3[0] for counter_1 in listt_1[:3] for counter_2, counter_3 in\n",
        "                             listt.items() if counter_3 == counter_1}.items():\n",
        "    print(str(number_2) + ' место.', counter_1, '(' + counter_2 + ')')\n",
        "    number_2 += 1\n"
      ],
      "metadata": {
        "colab": {
          "base_uri": "https://localhost:8080/"
        },
        "id": "at-QGCYBkaJA",
        "outputId": "716ac0f1-7beb-4173-fa56-b22b41c22d33"
      },
      "execution_count": 9,
      "outputs": [
        {
          "output_type": "stream",
          "name": "stdout",
          "text": [
            "Сколько записей вносится в протокол? 9\n",
            "1 запись: 69485 Jack\n",
            "2 запись: 95715 qwerty\n",
            "3 запись: 95715 Alex\n",
            "4 запись: 83647 M\n",
            "5 запись: 197128 qwerty \n",
            "6 запись: 95715 Jack \n",
            "7 запись: 93289 Alex\n",
            "8 запись: 95715 Alex \n",
            "9 запись: 95715 M\n",
            "1 место. qwerty (197128)\n",
            "2 место. Alex (95715)\n",
            "3 место. Jack (95715)\n"
          ]
        }
      ]
    },
    {
      "cell_type": "markdown",
      "source": [
        "##Задача 10. Свой zip\n",
        "В самом конце собеседования вас неожиданно спросили: “Расскажите, что делает функция zip?”. В итоге, чтобы произвести максимальное впечатление, вы решили не только рассказать про неё, но и написать её аналог.\n",
        "\n",
        "Даны строка и кортеж из чисел. Напишите программу, которая создаёт генератор из пар кортежей “символ - число”. Затем выведите на экран сам генератор и кортежи\n"
      ],
      "metadata": {
        "id": "rK9XZVJwk1FW"
      }
    },
    {
      "cell_type": "markdown",
      "source": [
        "# Решение:"
      ],
      "metadata": {
        "id": "bwHo2-l9lOjv"
      }
    },
    {
      "cell_type": "code",
      "source": [
        "word = input('Строка: ')\n",
        "listt = (10, 20, 30, 40)\n",
        "\n",
        "for counter in ((word[counter], listt[counter]) for counter in range(min(len(word), len(listt)))):\n",
        "    print(counter)\n"
      ],
      "metadata": {
        "colab": {
          "base_uri": "https://localhost:8080/"
        },
        "id": "xwLoDzWKk1xQ",
        "outputId": "703b391e-86dd-4cbf-d5e6-d56507a2fd56"
      },
      "execution_count": 10,
      "outputs": [
        {
          "output_type": "stream",
          "name": "stdout",
          "text": [
            "Строка: abcd\n",
            "('a', 10)\n",
            "('b', 20)\n",
            "('c', 30)\n",
            "('d', 40)\n"
          ]
        }
      ]
    }
  ]
}