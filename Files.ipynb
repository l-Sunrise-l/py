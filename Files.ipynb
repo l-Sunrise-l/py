{
  "nbformat": 4,
  "nbformat_minor": 0,
  "metadata": {
    "colab": {
      "provenance": []
    },
    "kernelspec": {
      "name": "python3",
      "display_name": "Python 3"
    },
    "language_info": {
      "name": "python"
    }
  },
  "cells": [
    {
      "cell_type": "markdown",
      "source": [
        "## Задача 1. Сумма чисел 2\n",
        "Во входном файле numbers.txt записано N целых чисел, которые могут быть разделены пробелами и концами строк. Напишите программу, которая выводит сумму чисел в выходной файл answer.txt\n"
      ],
      "metadata": {
        "id": "e5cu3ELoqD3E"
      }
    },
    {
      "cell_type": "markdown",
      "source": [
        "# Решение:"
      ],
      "metadata": {
        "id": "XmJRKdDZqMZz"
      }
    },
    {
      "cell_type": "code",
      "source": [
        "with open('numbers.txt', 'w') as data:\n",
        "  data.write('     2\\n')\n",
        "  data.write('2     \\n')\n",
        "  data.write('  2   \\n')\n",
        "  data.write('     2\\n')\n",
        "\n",
        "data = open('numbers.txt', 'r')\n",
        "summ = 0\n",
        "for counter in data:\n",
        "    listt = counter.split()\n",
        "    if listt != []:\n",
        "        summ += int(listt[0])\n",
        "data.close()\n",
        "\n",
        "answer = open('answer.txt', 'w')\n",
        "answer.write(str(summ))\n",
        "answer.seek(0)\n",
        "answer.close()\n",
        "\n",
        "answer = open('answer.txt', 'r')\n",
        "print(answer.read())\n",
        "answer.close()\n",
        "\n"
      ],
      "metadata": {
        "colab": {
          "base_uri": "https://localhost:8080/"
        },
        "id": "0_VdOuiFqETb",
        "outputId": "edf22c43-0e28-401f-fbf0-ffa334ee8f47"
      },
      "execution_count": null,
      "outputs": [
        {
          "output_type": "stream",
          "name": "stdout",
          "text": [
            "8\n"
          ]
        }
      ]
    },
    {
      "cell_type": "markdown",
      "source": [
        "## Задача 2. Дзен Пайтона\n",
        "У вас есть файл zen.txt, в котором хранится так называемый “Дзен Пайтона” - текст философии программирования на языке Python.\n",
        "\n",
        "Напишите программу, которая выводит на экран все строки данного файла в обратном порядке.\n",
        "\n",
        "Кстати, попробуйте открыть консоль Питона и ввести команду “import this”.\n"
      ],
      "metadata": {
        "id": "gZtZVdteswJN"
      }
    },
    {
      "cell_type": "markdown",
      "source": [
        "# Решение:"
      ],
      "metadata": {
        "id": "rU2yH6GA2JQX"
      }
    },
    {
      "cell_type": "code",
      "source": [
        "with open('zen.txt', 'w') as data:\n",
        "  data.write(\"Beautiful is better than ugly.\\n\")\n",
        "  data.write(\"Explicit is better than implicit.\\n\")\n",
        "  data.write(\"Simple is better than complex.\\n\")\n",
        "  data.write(\"Complex is better than complicated.\\n\")\n",
        "  data.write(\"Flat is better than nested.\\n\")\n",
        "  data.write(\"Sparse is better than dense.\\n\")\n",
        "  data.write(\"Readability counts.\\n\")\n",
        "  data.write(\"Special cases aren't special enough to break the rules.\\n\")\n",
        "  data.write(\"Although practicality beats purity.\\n\")\n",
        "  data.write(\"Errors should never pass silently.\\n\")\n",
        "  data.write(\"Unless explicitly silenced.\\n\")\n",
        "  data.write(\"In the face of ambiguity, refuse the temptation to guess.\\n\")\n",
        "  data.write(\"There should be one-- and preferably only one --obvious way to do it.\\n\")\n",
        "  data.write(\"Although that way may not be obvious at first unless you're Dutch.\\n\")\n",
        "  data.write(\"Now is better than never.\\n\")\n",
        "  data.write(\"Although never is often better than *right* now.\\n\")\n",
        "  data.write(\"If the implementation is hard to explain, it's a bad idea.\\n\")\n",
        "  data.write(\"If the implementation is easy to explain, it may be a good idea.\\n\")\n",
        "  data.write(\"Namespaces are one honking great idea -- let's do more of those!\")\n",
        "\n",
        "\n",
        "data = open('zen.txt', 'r')\n",
        "for counter in data.readlines()[::-1]:\n",
        "    print(counter, end='')\n",
        "data.close()\n"
      ],
      "metadata": {
        "id": "mwQc69Bwszgy",
        "outputId": "dc738cff-dac5-462e-f8bd-0ddb82c54791",
        "colab": {
          "base_uri": "https://localhost:8080/"
        }
      },
      "execution_count": null,
      "outputs": [
        {
          "output_type": "stream",
          "name": "stdout",
          "text": [
            "Namespaces are one honking great idea -- let's do more of those!If the implementation is easy to explain, it may be a good idea.\n",
            "If the implementation is hard to explain, it's a bad idea.\n",
            "Although never is often better than *right* now.\n",
            "Now is better than never.\n",
            "Although that way may not be obvious at first unless you're Dutch.\n",
            "There should be one-- and preferably only one --obvious way to do it.\n",
            "In the face of ambiguity, refuse the temptation to guess.\n",
            "Unless explicitly silenced.\n",
            "Errors should never pass silently.\n",
            "Although practicality beats purity.\n",
            "Special cases aren't special enough to break the rules.\n",
            "Readability counts.\n",
            "Sparse is better than dense.\n",
            "Flat is better than nested.\n",
            "Complex is better than complicated.\n",
            "Simple is better than complex.\n",
            "Explicit is better than implicit.\n",
            "Beautiful is better than ugly.\n"
          ]
        }
      ]
    },
    {
      "cell_type": "markdown",
      "source": [
        "## Задача 3. Дзен Пайтона 2\n",
        "Напишите программу, которая определяет сколько букв (латинского алфавита), слов и строк в файле zen.txt (который содержит всё тот же Дзен Пайтона). Выведите три найденных числа на экран.\n",
        "\n",
        "Дополнительно: выведите на экран букву, которая встречается в тексте наименьшее количество раз\n",
        "\n"
      ],
      "metadata": {
        "id": "EQOnMM1HuE4P"
      }
    },
    {
      "cell_type": "markdown",
      "source": [
        "# Решение:"
      ],
      "metadata": {
        "id": "ipIDss_M2J9b"
      }
    },
    {
      "cell_type": "code",
      "source": [
        "data = open('zen.txt', 'r')\n",
        "number_1 = 0\n",
        "number_3 = 0\n",
        "listt = {}\n",
        "for counter in data:\n",
        "    number_3 += 1\n",
        "    for counter_1 in counter:\n",
        "        if str.isalpha(counter_1):\n",
        "            number_1 += 1\n",
        "            counter_1 = counter_1.lower()\n",
        "            if listt.get(counter_1):\n",
        "                listt[counter_1] += 1\n",
        "            else:\n",
        "                listt[counter_1] = 1\n",
        "data.close()\n",
        "data = open('zen.txt', 'r')\n",
        "number_2 = len(data.read().split())\n",
        "data.close()\n",
        "print(number_1, number_2, number_3)\n",
        "minn = min(listt.values())\n",
        "\n",
        "for counter_1, counter_2 in listt.items():\n",
        "    if counter_2 == minn:\n",
        "        print(counter_1)\n",
        "        break\n"
      ],
      "metadata": {
        "id": "F22khYrAuHjR",
        "outputId": "37c07977-bdb6-475b-e070-eb550da23a65",
        "colab": {
          "base_uri": "https://localhost:8080/"
        }
      },
      "execution_count": null,
      "outputs": [
        {
          "output_type": "stream",
          "name": "stdout",
          "text": [
            "652 137 19\n",
            "k\n"
          ]
        }
      ]
    },
    {
      "cell_type": "markdown",
      "source": [
        "## Задача 4. Файлы и папки\n",
        "Напишите программу, которая получает на вход путь до каталога (это может быть и просто корень диска) и выводит общее количество файлов и подкаталогов в нём. Также выведите на экран размер каталога в килобайтах (1 Килобайт = 1024 байта)\n",
        "\n",
        "Важный момент: чтобы посчитать сколько весит каталог, нужно найти сумму размеров всех вложенных в него файлов. \n"
      ],
      "metadata": {
        "id": "DPexjwJXuStK"
      }
    },
    {
      "cell_type": "markdown",
      "source": [
        "# Решение:"
      ],
      "metadata": {
        "id": "t3TBfJHF2KTJ"
      }
    },
    {
      "cell_type": "code",
      "source": [
        "import os\n",
        "data = input('Введите путь до каталога (или просто корень диска): ')\n",
        "path = os.path.abspath(os.path.join('..','..',data))\n",
        "\n",
        "print(path)\n",
        "counter_1 = 0\n",
        "counter_2 = 0\n",
        "counter_3 = 0\n",
        "for subdirectory in os.listdir(path):\n",
        "    counter_1+=1\n",
        "    way = os.path.join(path,subdirectory)\n",
        "    for file in os.listdir(way):\n",
        "        counter_3+=os.path.getsize(os.path.join(way,file))\n",
        "        counter_2 += 1\n",
        "print('Размер каталога (в Кб):',counter_3/1024)\n",
        "print('Количество подкаталогов:',counter_1)\n",
        "print('Количество файлов:',counter_2)"
      ],
      "metadata": {
        "id": "e7djLoYUuTRX"
      },
      "execution_count": null,
      "outputs": []
    },
    {
      "cell_type": "markdown",
      "source": [
        "## Задача 5. Сохранение\n",
        "Мы продолжаем работать над усовершенствованием своего текстового редактора. Конечно же, при работе с редактором, пользователь, скорее всего, захочет сохранить то, что он написал, в отдельный файл. Ну или перезаписать тот, в котором он продолжил работать. \n",
        "\n",
        "Пользователь вводит строку text. Реализуйте функцию, которая запрашивает у пользователя куда он хочет сохранить эту строку - вводится последовательность папок и имя файла (расширение .txt). Затем в этот файл сохраняется значение переменной text. Если этот файл уже существует, то спросить у пользователя действительно ли он хочет перезаписать его.\n",
        "Обеспечьте контроль ввода: указанный из папок путь должен существовать на диске\n"
      ],
      "metadata": {
        "id": "M1FU0XQZu9rd"
      }
    },
    {
      "cell_type": "markdown",
      "source": [
        "# Решение:"
      ],
      "metadata": {
        "id": "fejVbc6V2KsW"
      }
    },
    {
      "cell_type": "code",
      "source": [
        "import os\n",
        "\n",
        "\n",
        "def command(variable):\n",
        "    file = open(name_2, variable)\n",
        "    file.write(text)\n",
        "    file.close()\n",
        "\n",
        "\n",
        "print(os.path.abspath('23_Files'))\n",
        "text = input('Введите строку: ')\n",
        "while True:\n",
        "    data = input('Введите путь до каталога (или просто корень диска): ').split()\n",
        "    name_1 = os.path.join(*data)\n",
        "    name_1 = os.path.abspath(os.path.join(os.path.sep, name_1))\n",
        "\n",
        "    if os.path.isdir(name_1):\n",
        "        break\n",
        "    else:\n",
        "        print('Ошибка.')\n",
        "\n",
        "name = input('Введите имя файла: ')\n",
        "name_2 = os.path.join(name_1, name)\n",
        "\n",
        "if os.path.exists(name_2):\n",
        "    data_1 = input('Вы действительно хотите перезаписать файл? ')\n",
        "    if 'да':\n",
        "        command('a')\n",
        "else:\n",
        "    command('w')"
      ],
      "metadata": {
        "id": "7g7HAh3lvGaO"
      },
      "execution_count": null,
      "outputs": []
    },
    {
      "cell_type": "markdown",
      "source": [
        "## Задача 6. Паранойя\n",
        "Артуру постоянно кажется, что за ним следят и все хотят своровать “крайне важную информацию” с его компьютера, включая переписку с людьми. Поэтому он эти переписки шифрует. И делает он это с помощью шифра Цезаря (чем веселит агента службы безопасности)\n",
        "\n",
        "Напишите программу, которая шифрует содержимое текстового файла text.txt шифром Цезаря, при этом символы первой строки файла должны циклически сдвигаться на 1, второй строки — на 2, третьей строки — на три и т.д. Результат вывести в файл cipher_text.txt\n",
        "\n"
      ],
      "metadata": {
        "id": "QJbozX6rvuD1"
      }
    },
    {
      "cell_type": "markdown",
      "source": [
        "# Решение:"
      ],
      "metadata": {
        "id": "MZOp8uTX2LIo"
      }
    },
    {
      "cell_type": "code",
      "source": [
        "with  open('text.txt', 'w') as data:\n",
        "  data.write('Trust\\n')\n",
        "  data.write('Share\\n')\n",
        "  data.write('Order\\n')\n",
        "  data.write('Price\\n')\n",
        "\n",
        "data = open('text.txt', 'r')\n",
        "data_1 = data.read()\n",
        "data.close()\n",
        "data_2 = open('cipher_text.txt', 'w')\n",
        "counter_2 = 1\n",
        "listt = ['a', 'b', 'c', 'd', 'e', 'f', 'g', 'h', 'i', 'j', 'k', 'l', 'm', 'n', 'o', 'p', 'q', 'r', 's', 't', 'u', 'v',\n",
        "         'w', 'x', 'y', 'z', 'A', 'B', 'C', 'D', 'E', 'F', 'G', 'H', 'I', 'J', 'K', 'L', 'M', 'N', 'O', 'P', 'Q', 'R',\n",
        "         'S', 'T', 'U', 'V', 'W', 'X', 'Y', 'Z']\n",
        "for counter in data_1.split():\n",
        "    word = ''.join([listt[listt.index(counter_1) + counter_2] for counter_1 in counter])\n",
        "    data_2.write('\\n' + word)\n",
        "    counter_2 += 1\n",
        "\n",
        "data_2.close()\n",
        "\n",
        "with  open('cipher_text.txt', 'r') as data:\n",
        "  print(data.read())"
      ],
      "metadata": {
        "id": "wOhM-jYHvyig",
        "outputId": "ed2e6ef3-60c8-42ad-d8d3-1673276c9441",
        "colab": {
          "base_uri": "https://localhost:8080/"
        }
      },
      "execution_count": null,
      "outputs": [
        {
          "output_type": "stream",
          "name": "stdout",
          "text": [
            "\n",
            "Usvtu\n",
            "Ujctg\n",
            "Rughu\n",
            "Tvmgi\n"
          ]
        }
      ]
    },
    {
      "cell_type": "markdown",
      "source": [
        "## Задача 7. Турнир\n",
        "В файле first_tour.txt записано число K и данные об участниках турнира по настольной игре “Орлеан”: фамилии, имена и количество баллов, набранных в первом туре. Во второй тур проходят участники, которые набрали более K баллов в первом туре. \n",
        "\n",
        "Напишите программу, которая выводит в файл second_tour.txt данные всех участников, прошедших во второй тур, с нумерацией. \n",
        "\n",
        "В первой строке нужно вывести в файл second_tour.txt количество участников второго тура. Затем программа должна вывести фамилии, инициалы и количество баллов всех участников, прошедших во второй тур, с нумерацией. Имя нужно сократить до одной буквы. Список должен быть отсортирован по убыванию набранных баллов.\n"
      ],
      "metadata": {
        "id": "khXxCM2cxTBm"
      }
    },
    {
      "cell_type": "markdown",
      "source": [
        "# Решение:"
      ],
      "metadata": {
        "id": "XAaL4Z3I2Lge"
      }
    },
    {
      "cell_type": "code",
      "source": [
        "with open('first_tour.txt', 'w') as data:\n",
        "  data.write('80\\n')\n",
        "  data.write('Ivanov Serg 80\\n')\n",
        "  data.write('Segeev Petr 92\\n')\n",
        "  data.write('Petrov Vasiliy 98\\n')\n",
        "  data.write('Vasiliev Maxim 78\\n')\n",
        "\n",
        "data = open('first_tour.txt', 'r')\n",
        "number = int(data.readline())\n",
        "data.close()\n",
        "data = open('first_tour.txt', 'r')\n",
        "listt = {}\n",
        "for counter in data:\n",
        "    number_1 = counter.split()\n",
        "    if number < int(number_1[-1]):\n",
        "        listt[number_1[1][0] + '. ' + number_1[0]] = number_1[-1]\n",
        "\n",
        "data.close()\n",
        "\n",
        "answer = open('second_tour.txt', 'w')\n",
        "counter_3 = 0\n",
        "answerr = (sorted(listt.values(), reverse=True))\n",
        "listtt = []\n",
        "for counter in answerr:\n",
        "    for counter_1, counter_2 in listt.items():\n",
        "        if counter == counter_2:\n",
        "            counter_3 += 1\n",
        "            listtt.append(f'\\n{counter_3}) {counter_1} {counter_2}')\n",
        "answer.write(str(len(listtt)))\n",
        "for counter in listtt:\n",
        "    answer.write(counter)\n",
        "answer.seek(0)\n",
        "\n",
        "with open('second_tour.txt', 'r') as answer:\n",
        "  for counter in answer:\n",
        "      print(counter, end='')\n",
        "  answer.close()"
      ],
      "metadata": {
        "id": "71Zjo9B9xXbf",
        "outputId": "8e3cee50-9e82-4c27-e006-ee664fe111e6",
        "colab": {
          "base_uri": "https://localhost:8080/"
        }
      },
      "execution_count": null,
      "outputs": [
        {
          "output_type": "stream",
          "name": "stdout",
          "text": [
            "2\n",
            "1) V. Petrov 98\n",
            "2) P. Segeev 92"
          ]
        }
      ]
    },
    {
      "cell_type": "markdown",
      "source": [
        "## Задача 8. Частотный анализ\n",
        "Есть файл text.txt, который содержит текст. Напишите программу, которая выполняет частотный анализ, определяя долю каждой буквы английского алфавита в общем количестве английских букв в тексте и выводит результат в файл analysis.txt. Символы, не являющиеся буквами английского алфавита, учитывать не нужно. \n",
        "\n",
        "В файл analysis.txt выводится доля каждой буквы, встречающейся в тексте, с тремя знаками в дробной части. Буквы должны быть отсортированы по убыванию их доли. Буквы с равной долей должны следовать в алфавитном порядке.\n"
      ],
      "metadata": {
        "id": "G-PSKQyCyux-"
      }
    },
    {
      "cell_type": "markdown",
      "source": [
        "# Решение:"
      ],
      "metadata": {
        "id": "bflAGKwA2MDD"
      }
    },
    {
      "cell_type": "code",
      "source": [
        "with  open('analysis.txt', 'w') as data:\n",
        "  data.write('Mama myla ramu.')\n",
        "\n",
        "data = open('text.txt', 'r')\n",
        "text = data.read()\n",
        "data.close()\n",
        "listt = {}\n",
        "for counter in text:\n",
        "    if counter.isalpha():\n",
        "        word = counter.lower()\n",
        "        if listt.get(word) == None:\n",
        "            listt[word] = 1\n",
        "        else:\n",
        "            listt[word] += 1\n",
        "\n",
        "summ = sum(listt.values())\n",
        "\n",
        "answer = open('analysis.txt', 'r+')\n",
        "for counter_1, counter_2 in listt.items():\n",
        "    answer.write(f'\\n {counter_1} {round(counter_2 / summ, 3)}')\n",
        "\n",
        "answer.seek(0)\n",
        "print(answer.read())\n",
        "answer.close()"
      ],
      "metadata": {
        "id": "32k0UhRFyxqS",
        "outputId": "a1b1a7a7-9ea6-4183-f639-e61672207e14",
        "colab": {
          "base_uri": "https://localhost:8080/"
        }
      },
      "execution_count": null,
      "outputs": [
        {
          "output_type": "stream",
          "name": "stdout",
          "text": [
            "\n",
            " m 0.333\n",
            " a 0.333\n",
            " y 0.083\n",
            " l 0.083\n",
            " r 0.083\n",
            " u 0.083\n"
          ]
        }
      ]
    },
    {
      "cell_type": "markdown",
      "source": [
        "## Задача 9. Война и мир \n",
        "Мало кто не знает про знаменитый роман Л.Н.Толстого “Война и мир”. Это довольно объемное произведение лежит в архиве voina-i-mir.zip. Напишите программу, которая подсчитает статистику по буквам (не только русского алфавита) в этом романе и выведет результат на экран (или в файл). Результат должен быть отсортирован по частоте встречаемости букв (по возрастанию или убыванию). Регистр символов имеет значение.\n",
        "\n",
        "Постарайтесь написать программу так, чтобы для её работы не требовалась распаковка архива “в ручную”.\n"
      ],
      "metadata": {
        "id": "XEGssf1mzzkd"
      }
    },
    {
      "cell_type": "markdown",
      "source": [
        "# Решение:"
      ],
      "metadata": {
        "id": "tyeLOllC2Mg3"
      }
    },
    {
      "cell_type": "code",
      "source": [
        "import zipfile\n",
        "\n",
        "zfile = zipfile.ZipFile('voyna-i-mir.zip', 'r')\n",
        "for filename in zfile.namelist():\n",
        "    zfile.extract(filename)\n",
        "data = open('voyna-i-mir.txt', 'r', encoding='utf-8')\n",
        "listt = {}\n",
        "for counter_1 in data:\n",
        "    for counter_2 in counter_1:\n",
        "        if counter_2.isalpha():\n",
        "            if listt.get(counter_2) == None:\n",
        "                listt[counter_2] = 1\n",
        "            else:\n",
        "                listt[counter_2] += 1\n",
        "\n",
        "list_1 = list(listt.items())\n",
        "list_1.sort(key=lambda i: i[1])\n",
        "\n",
        "for counter in list_1:\n",
        "    print(counter)\n"
      ],
      "metadata": {
        "id": "LEMEhBBOz4gu",
        "outputId": "85ca4dbd-4ac0-4126-e7df-32a602cca81c",
        "colab": {
          "base_uri": "https://localhost:8080/"
        }
      },
      "execution_count": 3,
      "outputs": [
        {
          "output_type": "stream",
          "name": "stdout",
          "text": [
            "('Й', 3)\n",
            "('Z', 6)\n",
            "('W', 16)\n",
            "('Щ', 17)\n",
            "('Ю', 17)\n",
            "('Ь', 21)\n",
            "('H', 26)\n",
            "('K', 31)\n",
            "('U', 32)\n",
            "('G', 33)\n",
            "('T', 45)\n",
            "('w', 48)\n",
            "('F', 53)\n",
            "('Q', 56)\n",
            "('Ц', 56)\n",
            "('O', 64)\n",
            "('R', 70)\n",
            "('k', 72)\n",
            "('D', 106)\n",
            "('P', 120)\n",
            "('S', 124)\n",
            "('J', 139)\n",
            "('N', 143)\n",
            "('E', 147)\n",
            "('y', 148)\n",
            "('C', 154)\n",
            "('L', 183)\n",
            "('Ш', 206)\n",
            "('x', 207)\n",
            "('A', 212)\n",
            "('B', 214)\n",
            "('Х', 235)\n",
            "('Ж', 236)\n",
            "('M', 306)\n",
            "('Ф', 337)\n",
            "('X', 339)\n",
            "('V', 361)\n",
            "('z', 363)\n",
            "('j', 377)\n",
            "('З', 442)\n",
            "('У', 488)\n",
            "('Л', 535)\n",
            "('b', 589)\n",
            "('g', 605)\n",
            "('I', 666)\n",
            "('q', 695)\n",
            "('f', 703)\n",
            "('Е', 830)\n",
            "('Э', 838)\n",
            "('Ч', 851)\n",
            "('h', 887)\n",
            "('ё', 983)\n",
            "('ъ', 986)\n",
            "('Г', 1033)\n",
            "('Я', 1056)\n",
            "('v', 1282)\n",
            "('Т', 1687)\n",
            "('p', 1688)\n",
            "('Р', 1836)\n",
            "('И', 1915)\n",
            "('С', 2148)\n",
            "('c', 2192)\n",
            "('d', 2231)\n",
            "('Б', 2387)\n",
            "('m', 2566)\n",
            "('Д', 2729)\n",
            "('М', 2923)\n",
            "('К', 3243)\n",
            "('l', 3459)\n",
            "('А', 3478)\n",
            "('О', 3617)\n",
            "('В', 3869)\n",
            "('t', 4085)\n",
            "('o', 4313)\n",
            "('u', 4335)\n",
            "('ф', 4374)\n",
            "('r', 4638)\n",
            "('i', 4710)\n",
            "('n', 4878)\n",
            "('П', 5124)\n",
            "('a', 5133)\n",
            "('s', 5339)\n",
            "('Н', 5870)\n",
            "('э', 6213)\n",
            "('щ', 6797)\n",
            "('ц', 8231)\n",
            "('e', 12196)\n",
            "('ю', 14097)\n",
            "('х', 19547)\n",
            "('ш', 21114)\n",
            "('ж', 24266)\n",
            "('й', 25904)\n",
            "('ч', 32390)\n",
            "('б', 37594)\n",
            "('з', 38959)\n",
            "('г', 44232)\n",
            "('ы', 44523)\n",
            "('ь', 44780)\n",
            "('я', 49549)\n",
            "('п', 55405)\n",
            "('у', 62078)\n",
            "('м', 65231)\n",
            "('д', 67764)\n",
            "('к', 74518)\n",
            "('р', 99994)\n",
            "('в', 102511)\n",
            "('л', 114779)\n",
            "('с', 121279)\n",
            "('т', 133070)\n",
            "('н', 143520)\n",
            "('и', 154139)\n",
            "('а', 185283)\n",
            "('е', 188575)\n",
            "('о', 262119)\n"
          ]
        }
      ]
    }
  ]
}