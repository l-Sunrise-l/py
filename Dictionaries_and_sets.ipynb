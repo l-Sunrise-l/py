{
  "nbformat": 4,
  "nbformat_minor": 0,
  "metadata": {
    "colab": {
      "provenance": []
    },
    "kernelspec": {
      "name": "python3",
      "display_name": "Python 3"
    },
    "language_info": {
      "name": "python"
    }
  },
  "cells": [
    {
      "cell_type": "markdown",
      "source": [
        "##Задача 1. Песни 2\n",
        "Мы продолжаем писать приложение для удобного прослушивания музыки, но теперь наши песни хранятся в виде словаря, а не вложенных списков. Каждая песня состоит из названия и продолжительности с точностью до долей минут\n",
        "\n",
        "````python\n",
        "violator_songs = {\n",
        "    'World in My Eyes': 4.86,\n",
        "    'Sweetest Perfection': 4.43,\n",
        "    'Personal Jesus': 4.56,\n",
        "    'Halo': 4.9,\n",
        "    'Waiting for the Night': 6.07,\n",
        "    'Enjoy the Silence': 4.20,\n",
        "    'Policy of Truth': 4.76,\n",
        "    'Blue Dress': 4.29,\n",
        "    'Clean': 5.83\n",
        "}\n",
        "````\n",
        "Напишите программу, которая запрашивает у пользователя кол-во песен из списка и затем названия этих песен, а на экран выводит общее время их звучания.\n",
        "\n"
      ],
      "metadata": {
        "id": "uCl4KrhFRkNG"
      }
    },
    {
      "cell_type": "markdown",
      "source": [
        "# Решение:"
      ],
      "metadata": {
        "id": "Gji6dVZrMAJl"
      }
    },
    {
      "cell_type": "code",
      "source": [
        "violator_songs = {\n",
        "    'World in My Eyes': 4.86,\n",
        "    'Sweetest Perfection': 4.43,\n",
        "    'Personal Jesus': 4.56,\n",
        "    'Halo': 4.9,\n",
        "    'Waiting for the Night': 6.07,\n",
        "    'Enjoy the Silence': 4.20,\n",
        "    'Policy of Truth': 4.76,\n",
        "    'Blue Dress': 4.29,\n",
        "    'Clean': 5.83\n",
        "}\n",
        "\n",
        "number = int(input('Сколько песен выбрать? '))\n",
        "summ = 0\n",
        "for counter in range(1, 1 + number):\n",
        "    name = input('Название {0} песни: '.format(counter))\n",
        "    if violator_songs.get(name) != None:  # Правильней if not None.\n",
        "        summ += violator_songs.get(name)\n",
        "print('Общее время звучания песен: {0} минут'.format(round(summ, 2)))"
      ],
      "metadata": {
        "colab": {
          "base_uri": "https://localhost:8080/"
        },
        "id": "2lmIpCboRpYb",
        "outputId": "72507206-4c10-4fec-8ba8-503a3feea0ed"
      },
      "execution_count": 1,
      "outputs": [
        {
          "output_type": "stream",
          "name": "stdout",
          "text": [
            "Сколько песен выбрать? 3\n",
            "Название 1 песни: Halo\n",
            "Название 2 песни: Waiting for the Night\n",
            "Название 3 песни: Clean\n",
            "Общее время звучания песен: 16.8 минут\n"
          ]
        }
      ]
    },
    {
      "cell_type": "markdown",
      "source": [
        "##Задача 2. География\n",
        "Антон помимо программирования также увлекается и географией, поэтому он решил связать эти две области и написать для своего проекта небольшую программу-навигатор.\n",
        "\n",
        "Пользователь вводит количество стран N, а затем N раз вводит страну и города, которые в этой стране находятся, в одну строку. Затем пользователь вводит 3 названия городов. Реализуйте такую программу и для каждого из трёх городов укажите, в какой стране он находится. Если такого города нет, то вывести соответствующее сообщение.\n"
      ],
      "metadata": {
        "id": "jBaP_TflR3UP"
      }
    },
    {
      "cell_type": "markdown",
      "source": [
        "# Решение:"
      ],
      "metadata": {
        "id": "hVQ6s0b5Yn0C"
      }
    },
    {
      "cell_type": "code",
      "source": [
        "number = int(input('Кол-во стран: '))\n",
        "countries = dict()\n",
        "for counter in range(1, number + 1):\n",
        "    country = input('{} страна: '.format(counter)).split()\n",
        "    for counter_3 in country[1:]:\n",
        "        countries[counter_3] = country[0]\n",
        "\n",
        "for counter_1 in range(1, 4):\n",
        "    country_1 = input('{} город: '.format(counter_1))\n",
        "    if countries.get(country_1) != None:\n",
        "        print('Город {0} расположен в стране {1}.'.format(country_1, countries[country_1]))\n",
        "    else:\n",
        "        print('По городу {} данных нет.'.format(country_1))"
      ],
      "metadata": {
        "colab": {
          "base_uri": "https://localhost:8080/"
        },
        "id": "4BAow_L4R9mO",
        "outputId": "4b166171-cce3-46b2-84db-ea1c273a9b0a"
      },
      "execution_count": 2,
      "outputs": [
        {
          "output_type": "stream",
          "name": "stdout",
          "text": [
            "Кол-во стран: 2\n",
            "1 страна: Россия Москва Петербург Новгород\n",
            "2 страна: Германия Берлин Лейпциг Мюнхен\n",
            "1 город: Москва\n",
            "Город Москва расположен в стране Россия.\n",
            "2 город: Мюнхен\n",
            "Город Мюнхен расположен в стране Германия.\n",
            "3 город: Рим\n",
            "По городу Рим данных нет.\n"
          ]
        }
      ]
    },
    {
      "cell_type": "markdown",
      "source": [
        "##Задача 3. Криптовалюта\n",
        "При работе с API (application programming interface) сайта биржи по криптовалюте вы получили вот такие данные в виде словаря (см. main.py)\n",
        "\n",
        "И теперь вам этим данные предстоит немного обработать.\n",
        "Напишите программу, которая выполняет следующий алгоритм действий:\n",
        "1. Вывести списки ключей и значений словаря\n",
        "2. В “ETH” добавить ключ “total_diff” со значением 100\n",
        "3. Внутри “fst_token_info” значение ключа “name” поменять с “fdf” на “doge”\n",
        "4. Удалить “total_out” из tokens и присвоить его значение в “total_out” внутри “ETH”\n",
        "5. Внутри \"sec_token_info\" изменить название ключа “price” на “total_price”."
      ],
      "metadata": {
        "id": "HEcsP7UlYiKY"
      }
    },
    {
      "cell_type": "markdown",
      "source": [
        "# Решение:"
      ],
      "metadata": {
        "id": "zwRtvutJYoMk"
      }
    },
    {
      "cell_type": "code",
      "source": [
        "data = {\n",
        "    \"address\": \"0x544444444444\",\n",
        "    \"ETH\": {\n",
        "        \"balance\": 444,\n",
        "        \"totalIn\": 444,\n",
        "        \"totalOut\": 4\n",
        "    },\n",
        "    \"count_txs\": 2,\n",
        "    \"tokens\": [\n",
        "        {\n",
        "            \"fst_token_info\": {\n",
        "                \"address\": \"0x44444\",\n",
        "                \"name\": \"fdf\",\n",
        "                \"decimals\": 0,\n",
        "                \"symbol\": \"dsfdsf\",\n",
        "                \"total_supply\": \"3228562189\",\n",
        "                \"owner\": \"0x44444\",\n",
        "                \"last_updated\": 1519022607901,\n",
        "                \"issuances_count\": 0,\n",
        "                \"holders_count\": 137528,\n",
        "                \"price\": False\n",
        "            },\n",
        "            \"balance\": 5000,\n",
        "            \"totalIn\": 0,\n",
        "            \"totalOut\": 0\n",
        "        },\n",
        "        {\n",
        "            \"sec_token_info\": {\n",
        "                \"address\": \"0x44444\",\n",
        "                \"name\": \"ggg\",\n",
        "                \"decimals\": \"2\",\n",
        "                \"symbol\": \"fff\",\n",
        "                \"total_supply\": \"250000000000\",\n",
        "                \"owner\": \"0x44444\",\n",
        "                \"last_updated\": 1520452201,\n",
        "                \"issuances_count\": 0,\n",
        "                \"holders_count\": 20707,\n",
        "                \"price\": False\n",
        "            },\n",
        "            \"balance\": 500,\n",
        "            \"totalIn\": 0,\n",
        "            \"total_out\": 0\n",
        "        }\n",
        "    ]\n",
        "}\n",
        "print(data.keys())\n",
        "print(data.values())\n",
        "data['ETH']['total_diff'] = 100\n",
        "data['tokens'][0]['fst_token_info']['name'] = 'doge'\n",
        "data['ETH']['totalOut'] = data['tokens'][0].pop(\"totalOut\")\n",
        "data['tokens'][1][\"sec_token_info\"]['total_price'] = data['tokens'][1][\"sec_token_info\"]['price']\n",
        "data['tokens'][1][\"sec_token_info\"].pop('price')\n",
        "print(data)"
      ],
      "metadata": {
        "colab": {
          "base_uri": "https://localhost:8080/"
        },
        "id": "QndkhQO9Yoku",
        "outputId": "8878d47d-477e-4dca-8ba4-b865a30afb20"
      },
      "execution_count": 3,
      "outputs": [
        {
          "output_type": "stream",
          "name": "stdout",
          "text": [
            "dict_keys(['address', 'ETH', 'count_txs', 'tokens'])\n",
            "dict_values(['0x544444444444', {'balance': 444, 'totalIn': 444, 'totalOut': 4}, 2, [{'fst_token_info': {'address': '0x44444', 'name': 'fdf', 'decimals': 0, 'symbol': 'dsfdsf', 'total_supply': '3228562189', 'owner': '0x44444', 'last_updated': 1519022607901, 'issuances_count': 0, 'holders_count': 137528, 'price': False}, 'balance': 5000, 'totalIn': 0, 'totalOut': 0}, {'sec_token_info': {'address': '0x44444', 'name': 'ggg', 'decimals': '2', 'symbol': 'fff', 'total_supply': '250000000000', 'owner': '0x44444', 'last_updated': 1520452201, 'issuances_count': 0, 'holders_count': 20707, 'price': False}, 'balance': 500, 'totalIn': 0, 'total_out': 0}]])\n",
            "{'address': '0x544444444444', 'ETH': {'balance': 444, 'totalIn': 444, 'totalOut': 0, 'total_diff': 100}, 'count_txs': 2, 'tokens': [{'fst_token_info': {'address': '0x44444', 'name': 'doge', 'decimals': 0, 'symbol': 'dsfdsf', 'total_supply': '3228562189', 'owner': '0x44444', 'last_updated': 1519022607901, 'issuances_count': 0, 'holders_count': 137528, 'price': False}, 'balance': 5000, 'totalIn': 0}, {'sec_token_info': {'address': '0x44444', 'name': 'ggg', 'decimals': '2', 'symbol': 'fff', 'total_supply': '250000000000', 'owner': '0x44444', 'last_updated': 1520452201, 'issuances_count': 0, 'holders_count': 20707, 'total_price': False}, 'balance': 500, 'totalIn': 0, 'total_out': 0}]}\n"
          ]
        }
      ]
    },
    {
      "cell_type": "markdown",
      "source": [
        "##Задача 4. Товары\n",
        "В базе данных магазина вся необходимая информация по товарам делится на два словаря: первый отвечает за коды товаров, второй - за списки количества разнообразных товаров на складе (см. main.py)\n",
        "\n",
        "Каждая запись второго словаря отображает сколько и по какой цене закупалось товаров (цена указана за 1 шт.)\n",
        "\n",
        "Напишите программу, которая рассчитывает на какую сумму лежит каждого товара на складе и выводит эту информацию на экран.\n"
      ],
      "metadata": {
        "id": "79C8tp5bYuN4"
      }
    },
    {
      "cell_type": "code",
      "source": [
        "goods = {\n",
        "    'Лампа': '12345',\n",
        "    'Стол': '23456',\n",
        "    'Диван': '34567',\n",
        "    'Стул': '45678',\n",
        "}\n",
        "\n",
        "store = {\n",
        "    '12345': [\n",
        "        {'quantity': 27, 'price': 42},\n",
        "    ],\n",
        "    '23456': [\n",
        "        {'quantity': 22, 'price': 510},\n",
        "        {'quantity': 32, 'price': 520},\n",
        "    ],\n",
        "    '34567': [\n",
        "        {'quantity': 2, 'price': 1200},\n",
        "        {'quantity': 1, 'price': 1150},\n",
        "    ],\n",
        "    '45678': [\n",
        "        {'quantity': 50, 'price': 100},\n",
        "        {'quantity': 12, 'price': 95},\n",
        "        {'quantity': 43, 'price': 97},\n",
        "    ],\n",
        "}\n",
        "for counter in goods.values():\n",
        "    quantity = 0\n",
        "    price = 0\n",
        "    for counter_1 in store[counter]:\n",
        "        quantity += counter_1['quantity']\n",
        "        price += counter_1['price'] * counter_1['quantity']\n",
        "    print('Лампа - {0} шт, стоимость {1} руб'.format(quantity, price))"
      ],
      "metadata": {
        "colab": {
          "base_uri": "https://localhost:8080/"
        },
        "id": "JRuyAHzCYxCo",
        "outputId": "36f48dfd-4233-47f6-d02c-79b3c3429086"
      },
      "execution_count": 4,
      "outputs": [
        {
          "output_type": "stream",
          "name": "stdout",
          "text": [
            "Лампа - 27 шт, стоимость 1134 руб\n",
            "Лампа - 54 шт, стоимость 27860 руб\n",
            "Лампа - 3 шт, стоимость 3550 руб\n",
            "Лампа - 105 шт, стоимость 10311 руб\n"
          ]
        }
      ]
    },
    {
      "cell_type": "markdown",
      "source": [
        "##Задача 5. Гистограмма частоты 2\n",
        "Мы уже писали программу для лингвистов, которая получала на вход текст и считала, сколько раз в строке встречается каждый символ. Теперь задача немного поменялась: максимальную частоту выводить не нужно, однако теперь необходимо написать функцию, которая будет инвертировать полученный словарь. То есть в качестве ключа будет частота, а в качестве значения - список символов с этой частотой. Реализуйте такую программу.\n"
      ],
      "metadata": {
        "id": "_CRSYV8zY2X8"
      }
    },
    {
      "cell_type": "code",
      "source": [
        "text = input('Введите текст: ')\n",
        "listt = dict()\n",
        "for counter in text:\n",
        "    if listt.get(counter) == None:\n",
        "\n",
        "        listt[counter] = 1\n",
        "    else:\n",
        "        listt[counter] += 1\n",
        "print('Оригинальный словарь частот:')\n",
        "for counter_1 in listt:\n",
        "    print(counter_1, \":\", listt[counter_1])\n",
        "print('Инвертированный словарь частот:')\n",
        "for counter_3 in range(1, 1 + max(listt.values())):\n",
        "    listt_1 = []\n",
        "    for counter_2 in listt:\n",
        "        if listt[counter_2] == counter_3:\n",
        "            listt_1.append(counter_2)\n",
        "    print(counter_3, \":\", listt_1)\n"
      ],
      "metadata": {
        "colab": {
          "base_uri": "https://localhost:8080/"
        },
        "id": "c3AOKUyqY5Nn",
        "outputId": "2b0003af-0e15-4d48-c5b5-cd3574efff6c"
      },
      "execution_count": 5,
      "outputs": [
        {
          "output_type": "stream",
          "name": "stdout",
          "text": [
            "Введите текст: Здесь что-то написано\n",
            "Оригинальный словарь частот:\n",
            "З : 1\n",
            "д : 1\n",
            "е : 1\n",
            "с : 2\n",
            "ь : 1\n",
            "  : 2\n",
            "ч : 1\n",
            "т : 2\n",
            "о : 3\n",
            "- : 1\n",
            "н : 2\n",
            "а : 2\n",
            "п : 1\n",
            "и : 1\n",
            "Инвертированный словарь частот:\n",
            "1 : ['З', 'д', 'е', 'ь', 'ч', '-', 'п', 'и']\n",
            "2 : ['с', ' ', 'т', 'н', 'а']\n",
            "3 : ['о']\n"
          ]
        }
      ]
    },
    {
      "cell_type": "markdown",
      "source": [
        "##Задача 6. Словарь синонимов\n",
        "Одна библиотека поручила вам написать программу для оцифровки словарей слов-синонимов. На вход в программу подаётся N пар слов. Каждое слово является синонимом к парному ему слову. \n",
        "\n",
        "Реализуйте код, который составляет словарь слов-синонимов (все слова в словаре различны.), затем запрашивает у пользователя слово и выходит на экран его синоним. Обеспечьте контроль ввода: если такого слова нет, но вывести ошибку и запросить слово ещё раз. При этом проверка не должна зависеть от регистра символов.\n"
      ],
      "metadata": {
        "id": "dD4yybrKZDxG"
      }
    },
    {
      "cell_type": "code",
      "source": [
        "number = int(input('Введите количество пар слов: '))\n",
        "listt = {}\n",
        "for counter in range(1,1+number):\n",
        "    text = input(str(counter)+' пара: ').split()\n",
        "    listt[text[0]] = text[2]\n",
        "    listt[text[2]] = text[0]\n",
        "\n",
        "\n",
        "while True:\n",
        "    word = input('Введите слово: ')\n",
        "    if listt.get(word) != None:\n",
        "        print('Синоним:',listt[word])\n",
        "    else:\n",
        "        print('Такого слова в словаре нет.')\n",
        "\n"
      ],
      "metadata": {
        "colab": {
          "base_uri": "https://localhost:8080/",
          "height": 415
        },
        "id": "nuGSW-PZZGKm",
        "outputId": "7a769c49-8422-40af-c187-d46affb07d7e"
      },
      "execution_count": 7,
      "outputs": [
        {
          "metadata": {
            "tags": null
          },
          "name": "stdout",
          "output_type": "stream",
          "text": [
            "Такого слова в словаре нет.\n",
            "Синоним: Привет\n"
          ]
        },
        {
          "output_type": "error",
          "ename": "KeyboardInterrupt",
          "evalue": "ignored",
          "traceback": [
            "\u001b[0;31m---------------------------------------------------------------------------\u001b[0m",
            "\u001b[0;31mKeyboardInterrupt\u001b[0m                         Traceback (most recent call last)",
            "\u001b[0;32m<ipython-input-7-de4693c90772>\u001b[0m in \u001b[0;36m<module>\u001b[0;34m\u001b[0m\n\u001b[1;32m      8\u001b[0m \u001b[0;34m\u001b[0m\u001b[0m\n\u001b[1;32m      9\u001b[0m \u001b[0;32mwhile\u001b[0m \u001b[0;32mTrue\u001b[0m\u001b[0;34m:\u001b[0m\u001b[0;34m\u001b[0m\u001b[0;34m\u001b[0m\u001b[0m\n\u001b[0;32m---> 10\u001b[0;31m     \u001b[0mword\u001b[0m \u001b[0;34m=\u001b[0m \u001b[0minput\u001b[0m\u001b[0;34m(\u001b[0m\u001b[0;34m'Введите слово: '\u001b[0m\u001b[0;34m)\u001b[0m\u001b[0;34m\u001b[0m\u001b[0;34m\u001b[0m\u001b[0m\n\u001b[0m\u001b[1;32m     11\u001b[0m     \u001b[0;32mif\u001b[0m \u001b[0mlistt\u001b[0m\u001b[0;34m.\u001b[0m\u001b[0mget\u001b[0m\u001b[0;34m(\u001b[0m\u001b[0mword\u001b[0m\u001b[0;34m)\u001b[0m \u001b[0;34m!=\u001b[0m \u001b[0;32mNone\u001b[0m\u001b[0;34m:\u001b[0m\u001b[0;34m\u001b[0m\u001b[0;34m\u001b[0m\u001b[0m\n\u001b[1;32m     12\u001b[0m         \u001b[0mprint\u001b[0m\u001b[0;34m(\u001b[0m\u001b[0;34m'Синоним:'\u001b[0m\u001b[0;34m,\u001b[0m\u001b[0mlistt\u001b[0m\u001b[0;34m[\u001b[0m\u001b[0mword\u001b[0m\u001b[0;34m]\u001b[0m\u001b[0;34m)\u001b[0m\u001b[0;34m\u001b[0m\u001b[0;34m\u001b[0m\u001b[0m\n",
            "\u001b[0;32m/usr/local/lib/python3.7/dist-packages/ipykernel/kernelbase.py\u001b[0m in \u001b[0;36mraw_input\u001b[0;34m(self, prompt)\u001b[0m\n\u001b[1;32m    861\u001b[0m             \u001b[0mself\u001b[0m\u001b[0;34m.\u001b[0m\u001b[0m_parent_ident\u001b[0m\u001b[0;34m,\u001b[0m\u001b[0;34m\u001b[0m\u001b[0;34m\u001b[0m\u001b[0m\n\u001b[1;32m    862\u001b[0m             \u001b[0mself\u001b[0m\u001b[0;34m.\u001b[0m\u001b[0m_parent_header\u001b[0m\u001b[0;34m,\u001b[0m\u001b[0;34m\u001b[0m\u001b[0;34m\u001b[0m\u001b[0m\n\u001b[0;32m--> 863\u001b[0;31m             \u001b[0mpassword\u001b[0m\u001b[0;34m=\u001b[0m\u001b[0;32mFalse\u001b[0m\u001b[0;34m,\u001b[0m\u001b[0;34m\u001b[0m\u001b[0;34m\u001b[0m\u001b[0m\n\u001b[0m\u001b[1;32m    864\u001b[0m         )\n\u001b[1;32m    865\u001b[0m \u001b[0;34m\u001b[0m\u001b[0m\n",
            "\u001b[0;32m/usr/local/lib/python3.7/dist-packages/ipykernel/kernelbase.py\u001b[0m in \u001b[0;36m_input_request\u001b[0;34m(self, prompt, ident, parent, password)\u001b[0m\n\u001b[1;32m    902\u001b[0m             \u001b[0;32mexcept\u001b[0m \u001b[0mKeyboardInterrupt\u001b[0m\u001b[0;34m:\u001b[0m\u001b[0;34m\u001b[0m\u001b[0;34m\u001b[0m\u001b[0m\n\u001b[1;32m    903\u001b[0m                 \u001b[0;31m# re-raise KeyboardInterrupt, to truncate traceback\u001b[0m\u001b[0;34m\u001b[0m\u001b[0;34m\u001b[0m\u001b[0;34m\u001b[0m\u001b[0m\n\u001b[0;32m--> 904\u001b[0;31m                 \u001b[0;32mraise\u001b[0m \u001b[0mKeyboardInterrupt\u001b[0m\u001b[0;34m(\u001b[0m\u001b[0;34m\"Interrupted by user\"\u001b[0m\u001b[0;34m)\u001b[0m \u001b[0;32mfrom\u001b[0m \u001b[0;32mNone\u001b[0m\u001b[0;34m\u001b[0m\u001b[0;34m\u001b[0m\u001b[0m\n\u001b[0m\u001b[1;32m    905\u001b[0m             \u001b[0;32mexcept\u001b[0m \u001b[0mException\u001b[0m \u001b[0;32mas\u001b[0m \u001b[0me\u001b[0m\u001b[0;34m:\u001b[0m\u001b[0;34m\u001b[0m\u001b[0;34m\u001b[0m\u001b[0m\n\u001b[1;32m    906\u001b[0m                 \u001b[0mself\u001b[0m\u001b[0;34m.\u001b[0m\u001b[0mlog\u001b[0m\u001b[0;34m.\u001b[0m\u001b[0mwarning\u001b[0m\u001b[0;34m(\u001b[0m\u001b[0;34m\"Invalid Message:\"\u001b[0m\u001b[0;34m,\u001b[0m \u001b[0mexc_info\u001b[0m\u001b[0;34m=\u001b[0m\u001b[0;32mTrue\u001b[0m\u001b[0;34m)\u001b[0m\u001b[0;34m\u001b[0m\u001b[0;34m\u001b[0m\u001b[0m\n",
            "\u001b[0;31mKeyboardInterrupt\u001b[0m: Interrupted by user"
          ]
        }
      ]
    },
    {
      "cell_type": "markdown",
      "source": [
        "##Задача 7. Пицца\n",
        "В базе данных интернет-магазина “PizzaTime” хранятся данные о том, кто, что и сколько заказывал у них в определённый период. Вам необходимо структурировать эту информацию, а также понять сколько всего пицц купил каждый заказчик.\n",
        "\n",
        "На вход в программу подаётся N заказов. Каждый заказ представляет собой строку вида Покупатель - название пиццы - количество заказанных пицц. Реализуйте код, который выводит список покупателей и их заказов по алфавиту. Учитывайте, что один человек может заказать одно и то же несколько раз\n"
      ],
      "metadata": {
        "id": "7OmpSdtzZtdv"
      }
    },
    {
      "cell_type": "code",
      "source": [
        "number = int(input('Введите кол-во заказов: '))\n",
        "listt = {}\n",
        "for counter in range(1, 1 + number):\n",
        "    text = input(str(counter) + ' заказ: ').split()\n",
        "    text_1, text_2, text_3 = text\n",
        "    if listt.get(text_1) == None:\n",
        "        listt[text_1] = {text_2: text_3}\n",
        "    elif listt[text_1].get(text_2) == None:\n",
        "        listt[text_1][text_2] = text_3\n",
        "    else:\n",
        "        listt[text_1][text_2] = int(text_3) + int(listt[text_1][text_2])\n",
        "for counter_1 in listt:\n",
        "    print(str(counter_1) + ':')\n",
        "    for counter_2 in listt[counter_1]:\n",
        "        print('     ', str(counter_2) + ':', listt[counter_1][counter_2])"
      ],
      "metadata": {
        "colab": {
          "base_uri": "https://localhost:8080/"
        },
        "id": "sVl2GxyMZur7",
        "outputId": "61858267-2ae3-41d4-a81e-b68f5642b09d"
      },
      "execution_count": 15,
      "outputs": [
        {
          "output_type": "stream",
          "name": "stdout",
          "text": [
            "Введите кол-во заказов: 6\n",
            "1 заказ: Иванов Пепперони 1\n",
            "2 заказ: Петров Де-Люкс 2\n",
            "3 заказ: Иванов Мясная 3\n",
            "4 заказ: Иванов Мексиканская 2\n",
            "5 заказ: Иванов Пепперони 2\n",
            "6 заказ: Петров Интересная 5\n",
            "Иванов:\n",
            "      Пепперони: 3\n",
            "      Мясная: 3\n",
            "      Мексиканская: 2\n",
            "Петров:\n",
            "      Де-Люкс: 2\n",
            "      Интересная: 5\n"
          ]
        }
      ]
    },
    {
      "cell_type": "markdown",
      "source": [
        "##Задача 8. Угадай число\n",
        "Артём и Борис играют в игру. Артём загадал натуральное число от 1 до N. Борис пытается угадать это число, для этого он называет несколько чисел подряд. Артём отвечает Борису “Да”, если среди названных Борисом чисел есть задуманное. В противном случае Артём отвечает “Нет”. После нескольких заданных вопросов Борис сдался и попросил вас помочь ему определить, какие числа мог задумать Артём\n",
        "\n",
        "Напишите программу, которая имитирует диалог Артёма и Бориса. В начале на вход подаётся число N - это максимальное число, которое мог загадать Артём. Затем Борис предполагает, что среди некоторых чисел есть то, которое загадал Артём (несколько чисел через пробел), а Артём отвечает. Так продолжается до тех пор, пока Борис не попросит помощи (пока не введётся строка “Помогите!”). В конце программы необходимо вывести, какие числа мог загадать Артём.\n"
      ],
      "metadata": {
        "id": "Vzxt6JlgeQcp"
      }
    },
    {
      "cell_type": "code",
      "source": [
        "import random\n",
        "\n",
        "number = int(input('Введите максимальное число: '))\n",
        "number_1 = random.randint(1, number)\n",
        "listt = {number_1}\n",
        "while True:\n",
        "    numbers = input('Нужное число есть среди вот этих чисел: ')\n",
        "    if numbers == 'Помогите!':\n",
        "        print('Артём мог загадать следующие числа: ', random.randint(1, number_1), number_1,\n",
        "              random.randint(number_1, number))\n",
        "    elif {int(counter) for counter in numbers.split()} & listt == set():\n",
        "        print('Ответ Артёма: Нет')\n",
        "    elif len(numbers) == 1:\n",
        "        print('Ответ Артёма: Да')\n",
        "        break\n",
        "    else:\n",
        "        print('Ответ Артёма: Да')\n"
      ],
      "metadata": {
        "colab": {
          "base_uri": "https://localhost:8080/"
        },
        "id": "RuIjLuqweS_k",
        "outputId": "99c2bae5-a60e-481f-8d3a-8a558fc53ef6"
      },
      "execution_count": 16,
      "outputs": [
        {
          "output_type": "stream",
          "name": "stdout",
          "text": [
            "Введите максимальное число: 10\n",
            "Нужное число есть среди вот этих чисел: 1 2 3 4 5\n",
            "Ответ Артёма: Нет\n",
            "Нужное число есть среди вот этих чисел: 2 4 6 8 10\n",
            "Ответ Артёма: Да\n",
            "Нужное число есть среди вот этих чисел: Помогите!\n",
            "Артём мог загадать следующие числа:  6 6 8\n",
            "Нужное число есть среди вот этих чисел: 6\n",
            "Ответ Артёма: Да\n"
          ]
        }
      ]
    },
    {
      "cell_type": "markdown",
      "source": [
        "##Задача 9. Родословная\n",
        "В генеалогическом древе у каждого человека, кроме родоначальника, есть ровно один родитель. Каждому элементу дерева сопоставляется целое неотрицательное число, называемое высотой. У родоначальника высота равна 0, у любого другого элемента высота на 1 больше, чем у его родителя. Вам нужно написать программу, которая по заданному генеалогическому древу определяет высоту всего его элементов\n",
        "\n",
        "Программа получает на вход количество человек в генеалогическом древе N. Далее следует N−1 строка, задающие родителя для каждого элемента дерева, кроме родоначальника. Каждая строка имеет вид имя_потомка имя_родителя.\n",
        "\n",
        "Программа должна вывести список всех элементов древа в лексикографическом порядке (по алфавиту). После вывода имени каждого элемента необходимо вывести его высоту.\n"
      ],
      "metadata": {
        "id": "-JJJETiHemyw"
      }
    },
    {
      "cell_type": "code",
      "source": [
        "listt = {}\n",
        "number = int(input('Введите количество человек: '))\n",
        "for counter in range(1, number):\n",
        "    word_1, word_2 = input(str(counter) + ' пара: ').split()\n",
        "    if listt.get(word_2) == None:\n",
        "        listt[word_2] = {word_1}\n",
        "    else:\n",
        "        listt[word_2] = {word_1} | listt[word_2]\n",
        "number_1 = 1\n",
        "listt_1 = []\n",
        "print()\n",
        "answer = {}\n",
        "for counter_3 in listt:\n",
        "    answer[counter_3] = 0\n",
        "    break\n",
        "\n",
        "for counter_1 in listt:\n",
        "    if listt_1.count(counter_1) == 1:\n",
        "        number_1 += 1\n",
        "    listt_1 = []\n",
        "    for counter_2 in listt[counter_1]:\n",
        "        print(counter_2, number_1)\n",
        "        answer[counter_2] = number_1\n",
        "        listt_1.append(counter_2)\n",
        "\n",
        "for counter_4 in answer:\n",
        "    print(counter_4, answer[counter_4])\n"
      ],
      "metadata": {
        "colab": {
          "base_uri": "https://localhost:8080/"
        },
        "id": "lZhgaA23epZP",
        "outputId": "23d2f7d2-2feb-4dc8-f8de-594f89fc315f"
      },
      "execution_count": 17,
      "outputs": [
        {
          "output_type": "stream",
          "name": "stdout",
          "text": [
            "Введите количество человек: 9\n",
            "1 пара: Alexei Peter_I\n",
            "2 пара: Anna Peter_I\n",
            "3 пара: Elizabeth Peter_I\n",
            "4 пара: Peter_II Alexei\n",
            "5 пара: Peter_III Anna\n",
            "6 пара: Paul_I Peter_III\n",
            "7 пара: Alexander_I Paul_I\n",
            "8 пара: Nicholaus_I Paul_I\n",
            "\n",
            "Alexei 1\n",
            "Elizabeth 1\n",
            "Anna 1\n",
            "Peter_II 2\n",
            "Peter_III 2\n",
            "Paul_I 3\n",
            "Alexander_I 4\n",
            "Nicholaus_I 4\n",
            "Peter_I 0\n",
            "Alexei 1\n",
            "Elizabeth 1\n",
            "Anna 1\n",
            "Peter_II 2\n",
            "Peter_III 2\n",
            "Paul_I 3\n",
            "Alexander_I 4\n",
            "Nicholaus_I 4\n"
          ]
        }
      ]
    },
    {
      "cell_type": "markdown",
      "source": [
        "##Задача 10. Снова палиндром\n",
        "Пользователь вводит строку. Необходимо написать программу, которая определяет, существует ли у этой строки такая перестановка, при которой она станет палиндромом. Вывести соответствующее сообщение.\n"
      ],
      "metadata": {
        "id": "jWYJZziEfBTF"
      }
    },
    {
      "cell_type": "code",
      "source": [
        "text = input('Введите строку: ')\n",
        "listt = {}\n",
        "number = 0\n",
        "for counter in text:\n",
        "    if listt.get(counter) == None:\n",
        "        listt[counter] = 1\n",
        "    else:\n",
        "        listt[counter] += 1\n",
        "for counter_1 in listt.values():\n",
        "    if counter_1 % 2 != 0:\n",
        "        number += 1\n",
        "if number > 1:\n",
        "    print('Нельзя сделать палиндромом')\n",
        "else:\n",
        "    print('Можно сделать палиндромом')\n"
      ],
      "metadata": {
        "colab": {
          "base_uri": "https://localhost:8080/"
        },
        "id": "6NFowqZdfGMd",
        "outputId": "45b6bbfd-f9fd-4db6-cf58-96f8d28fff7a"
      },
      "execution_count": 18,
      "outputs": [
        {
          "output_type": "stream",
          "name": "stdout",
          "text": [
            "Введите строку: aab\n",
            "Можно сделать палиндромом\n"
          ]
        }
      ]
    }
  ]
}